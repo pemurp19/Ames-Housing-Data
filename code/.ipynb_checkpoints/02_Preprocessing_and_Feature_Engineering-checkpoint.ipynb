{
 "cells": [
  {
   "cell_type": "markdown",
   "id": "78d3093d-6a34-44a0-8fb3-f5bc0287d39d",
   "metadata": {},
   "source": [
    "# **Preprocessing and Feature Engineering**"
   ]
  },
  {
   "cell_type": "markdown",
   "id": "9622866e-4b0a-4f5f-8c75-cd2c2a44bb8e",
   "metadata": {},
   "source": [
    "### **Imports**\n",
    "---"
   ]
  },
  {
   "cell_type": "code",
   "execution_count": 235,
   "id": "88a97af0-942e-4430-b64a-9571943133a3",
   "metadata": {},
   "outputs": [],
   "source": [
    "import pandas as pd\n",
    "import numpy as np\n",
    "import matplotlib.pyplot as plt\n",
    "import seaborn as sns\n",
    "\n",
    "from sklearn.linear_model import LinearRegression\n",
    "from sklearn.model_selection import train_test_split, cross_val_score\n",
    "from sklearn.preprocessing import StandardScaler, PolynomialFeatures\n",
    "from sklearn import metrics"
   ]
  },
  {
   "cell_type": "markdown",
   "id": "cf09f8bf-0a41-4ec1-9561-d75ebda0ab00",
   "metadata": {},
   "source": [
    "### **Load the data**\n",
    "-----"
   ]
  },
  {
   "cell_type": "code",
   "execution_count": 236,
   "id": "5c818aa1-495a-4e07-bf23-5a48c7ccd3ac",
   "metadata": {},
   "outputs": [
    {
     "data": {
      "text/html": [
       "<div>\n",
       "<style scoped>\n",
       "    .dataframe tbody tr th:only-of-type {\n",
       "        vertical-align: middle;\n",
       "    }\n",
       "\n",
       "    .dataframe tbody tr th {\n",
       "        vertical-align: top;\n",
       "    }\n",
       "\n",
       "    .dataframe thead th {\n",
       "        text-align: right;\n",
       "    }\n",
       "</style>\n",
       "<table border=\"1\" class=\"dataframe\">\n",
       "  <thead>\n",
       "    <tr style=\"text-align: right;\">\n",
       "      <th></th>\n",
       "      <th>Id</th>\n",
       "      <th>parcel_id</th>\n",
       "      <th>dwelling_type</th>\n",
       "      <th>zoning_type</th>\n",
       "      <th>lot_frontage</th>\n",
       "      <th>lot_area</th>\n",
       "      <th>street_surface</th>\n",
       "      <th>alley_surface</th>\n",
       "      <th>property_shape</th>\n",
       "      <th>property_flatness</th>\n",
       "      <th>...</th>\n",
       "      <th>screen_porch_size</th>\n",
       "      <th>pool_size</th>\n",
       "      <th>pool_quality</th>\n",
       "      <th>fence_quality</th>\n",
       "      <th>misc_features</th>\n",
       "      <th>misc_features_value</th>\n",
       "      <th>month_sold</th>\n",
       "      <th>year_sold</th>\n",
       "      <th>sale_type</th>\n",
       "      <th>SalePrice</th>\n",
       "    </tr>\n",
       "  </thead>\n",
       "  <tbody>\n",
       "    <tr>\n",
       "      <th>0</th>\n",
       "      <td>544</td>\n",
       "      <td>531379050</td>\n",
       "      <td>60</td>\n",
       "      <td>RL</td>\n",
       "      <td>43.0</td>\n",
       "      <td>11492.0</td>\n",
       "      <td>Pave</td>\n",
       "      <td>NaN</td>\n",
       "      <td>IR1</td>\n",
       "      <td>Lvl</td>\n",
       "      <td>...</td>\n",
       "      <td>0.0</td>\n",
       "      <td>0.0</td>\n",
       "      <td>NaN</td>\n",
       "      <td>NaN</td>\n",
       "      <td>NaN</td>\n",
       "      <td>0.0</td>\n",
       "      <td>4</td>\n",
       "      <td>2009</td>\n",
       "      <td>WD</td>\n",
       "      <td>220000.0</td>\n",
       "    </tr>\n",
       "    <tr>\n",
       "      <th>1</th>\n",
       "      <td>153</td>\n",
       "      <td>535304180</td>\n",
       "      <td>20</td>\n",
       "      <td>RL</td>\n",
       "      <td>68.0</td>\n",
       "      <td>7922.0</td>\n",
       "      <td>Pave</td>\n",
       "      <td>NaN</td>\n",
       "      <td>Reg</td>\n",
       "      <td>Lvl</td>\n",
       "      <td>...</td>\n",
       "      <td>0.0</td>\n",
       "      <td>0.0</td>\n",
       "      <td>NaN</td>\n",
       "      <td>NaN</td>\n",
       "      <td>NaN</td>\n",
       "      <td>0.0</td>\n",
       "      <td>1</td>\n",
       "      <td>2010</td>\n",
       "      <td>WD</td>\n",
       "      <td>109000.0</td>\n",
       "    </tr>\n",
       "    <tr>\n",
       "      <th>2</th>\n",
       "      <td>318</td>\n",
       "      <td>916386060</td>\n",
       "      <td>60</td>\n",
       "      <td>RL</td>\n",
       "      <td>73.0</td>\n",
       "      <td>9802.0</td>\n",
       "      <td>Pave</td>\n",
       "      <td>NaN</td>\n",
       "      <td>Reg</td>\n",
       "      <td>Lvl</td>\n",
       "      <td>...</td>\n",
       "      <td>0.0</td>\n",
       "      <td>0.0</td>\n",
       "      <td>NaN</td>\n",
       "      <td>NaN</td>\n",
       "      <td>NaN</td>\n",
       "      <td>0.0</td>\n",
       "      <td>4</td>\n",
       "      <td>2010</td>\n",
       "      <td>WD</td>\n",
       "      <td>174000.0</td>\n",
       "    </tr>\n",
       "    <tr>\n",
       "      <th>3</th>\n",
       "      <td>255</td>\n",
       "      <td>906425045</td>\n",
       "      <td>50</td>\n",
       "      <td>RL</td>\n",
       "      <td>82.0</td>\n",
       "      <td>14235.0</td>\n",
       "      <td>Pave</td>\n",
       "      <td>NaN</td>\n",
       "      <td>IR1</td>\n",
       "      <td>Lvl</td>\n",
       "      <td>...</td>\n",
       "      <td>0.0</td>\n",
       "      <td>0.0</td>\n",
       "      <td>NaN</td>\n",
       "      <td>NaN</td>\n",
       "      <td>NaN</td>\n",
       "      <td>0.0</td>\n",
       "      <td>3</td>\n",
       "      <td>2010</td>\n",
       "      <td>WD</td>\n",
       "      <td>138500.0</td>\n",
       "    </tr>\n",
       "    <tr>\n",
       "      <th>4</th>\n",
       "      <td>2827</td>\n",
       "      <td>908186070</td>\n",
       "      <td>180</td>\n",
       "      <td>RM</td>\n",
       "      <td>35.0</td>\n",
       "      <td>3675.0</td>\n",
       "      <td>Pave</td>\n",
       "      <td>NaN</td>\n",
       "      <td>Reg</td>\n",
       "      <td>Lvl</td>\n",
       "      <td>...</td>\n",
       "      <td>0.0</td>\n",
       "      <td>0.0</td>\n",
       "      <td>NaN</td>\n",
       "      <td>NaN</td>\n",
       "      <td>NaN</td>\n",
       "      <td>0.0</td>\n",
       "      <td>6</td>\n",
       "      <td>2006</td>\n",
       "      <td>New</td>\n",
       "      <td>140000.0</td>\n",
       "    </tr>\n",
       "  </tbody>\n",
       "</table>\n",
       "<p>5 rows × 81 columns</p>\n",
       "</div>"
      ],
      "text/plain": [
       "     Id  parcel_id  dwelling_type zoning_type  lot_frontage  lot_area  \\\n",
       "0   544  531379050             60          RL          43.0   11492.0   \n",
       "1   153  535304180             20          RL          68.0    7922.0   \n",
       "2   318  916386060             60          RL          73.0    9802.0   \n",
       "3   255  906425045             50          RL          82.0   14235.0   \n",
       "4  2827  908186070            180          RM          35.0    3675.0   \n",
       "\n",
       "  street_surface alley_surface property_shape property_flatness  ...  \\\n",
       "0           Pave           NaN            IR1               Lvl  ...   \n",
       "1           Pave           NaN            Reg               Lvl  ...   \n",
       "2           Pave           NaN            Reg               Lvl  ...   \n",
       "3           Pave           NaN            IR1               Lvl  ...   \n",
       "4           Pave           NaN            Reg               Lvl  ...   \n",
       "\n",
       "  screen_porch_size pool_size pool_quality fence_quality misc_features  \\\n",
       "0               0.0       0.0          NaN           NaN           NaN   \n",
       "1               0.0       0.0          NaN           NaN           NaN   \n",
       "2               0.0       0.0          NaN           NaN           NaN   \n",
       "3               0.0       0.0          NaN           NaN           NaN   \n",
       "4               0.0       0.0          NaN           NaN           NaN   \n",
       "\n",
       "  misc_features_value month_sold year_sold  sale_type  SalePrice  \n",
       "0                 0.0          4      2009        WD    220000.0  \n",
       "1                 0.0          1      2010        WD    109000.0  \n",
       "2                 0.0          4      2010        WD    174000.0  \n",
       "3                 0.0          3      2010        WD    138500.0  \n",
       "4                 0.0          6      2006        New   140000.0  \n",
       "\n",
       "[5 rows x 81 columns]"
      ]
     },
     "execution_count": 236,
     "metadata": {},
     "output_type": "execute_result"
    }
   ],
   "source": [
    "train = pd.read_csv('../data/train_cleaned.csv')\n",
    "train.head()"
   ]
  },
  {
   "cell_type": "code",
   "execution_count": 237,
   "id": "c704c347-fccd-4155-8996-fe98c64409e0",
   "metadata": {},
   "outputs": [
    {
     "data": {
      "text/html": [
       "<div>\n",
       "<style scoped>\n",
       "    .dataframe tbody tr th:only-of-type {\n",
       "        vertical-align: middle;\n",
       "    }\n",
       "\n",
       "    .dataframe tbody tr th {\n",
       "        vertical-align: top;\n",
       "    }\n",
       "\n",
       "    .dataframe thead th {\n",
       "        text-align: right;\n",
       "    }\n",
       "</style>\n",
       "<table border=\"1\" class=\"dataframe\">\n",
       "  <thead>\n",
       "    <tr style=\"text-align: right;\">\n",
       "      <th></th>\n",
       "      <th>Id</th>\n",
       "      <th>parcel_id</th>\n",
       "      <th>dwelling_type</th>\n",
       "      <th>zoning_type</th>\n",
       "      <th>lot_frontage</th>\n",
       "      <th>lot_area</th>\n",
       "      <th>street_surface</th>\n",
       "      <th>alley_surface</th>\n",
       "      <th>property_shape</th>\n",
       "      <th>property_flatness</th>\n",
       "      <th>...</th>\n",
       "      <th>three_season_porch_size</th>\n",
       "      <th>screen_porch_size</th>\n",
       "      <th>pool_size</th>\n",
       "      <th>pool_quality</th>\n",
       "      <th>fence_quality</th>\n",
       "      <th>misc_features</th>\n",
       "      <th>misc_features_value</th>\n",
       "      <th>month_sold</th>\n",
       "      <th>year_sold</th>\n",
       "      <th>sale_type</th>\n",
       "    </tr>\n",
       "  </thead>\n",
       "  <tbody>\n",
       "    <tr>\n",
       "      <th>0</th>\n",
       "      <td>2658</td>\n",
       "      <td>902301120</td>\n",
       "      <td>190</td>\n",
       "      <td>RM</td>\n",
       "      <td>69.0</td>\n",
       "      <td>9142.0</td>\n",
       "      <td>Pave</td>\n",
       "      <td>Grvl</td>\n",
       "      <td>Reg</td>\n",
       "      <td>Lvl</td>\n",
       "      <td>...</td>\n",
       "      <td>0.0</td>\n",
       "      <td>0.0</td>\n",
       "      <td>0.0</td>\n",
       "      <td>NaN</td>\n",
       "      <td>NaN</td>\n",
       "      <td>NaN</td>\n",
       "      <td>0.0</td>\n",
       "      <td>4</td>\n",
       "      <td>2006</td>\n",
       "      <td>WD</td>\n",
       "    </tr>\n",
       "    <tr>\n",
       "      <th>1</th>\n",
       "      <td>2718</td>\n",
       "      <td>905108090</td>\n",
       "      <td>90</td>\n",
       "      <td>RL</td>\n",
       "      <td>NaN</td>\n",
       "      <td>9662.0</td>\n",
       "      <td>Pave</td>\n",
       "      <td>NaN</td>\n",
       "      <td>IR1</td>\n",
       "      <td>Lvl</td>\n",
       "      <td>...</td>\n",
       "      <td>0.0</td>\n",
       "      <td>0.0</td>\n",
       "      <td>0.0</td>\n",
       "      <td>NaN</td>\n",
       "      <td>NaN</td>\n",
       "      <td>NaN</td>\n",
       "      <td>0.0</td>\n",
       "      <td>8</td>\n",
       "      <td>2006</td>\n",
       "      <td>WD</td>\n",
       "    </tr>\n",
       "    <tr>\n",
       "      <th>2</th>\n",
       "      <td>2414</td>\n",
       "      <td>528218130</td>\n",
       "      <td>60</td>\n",
       "      <td>RL</td>\n",
       "      <td>58.0</td>\n",
       "      <td>17104.0</td>\n",
       "      <td>Pave</td>\n",
       "      <td>NaN</td>\n",
       "      <td>IR1</td>\n",
       "      <td>Lvl</td>\n",
       "      <td>...</td>\n",
       "      <td>0.0</td>\n",
       "      <td>0.0</td>\n",
       "      <td>0.0</td>\n",
       "      <td>NaN</td>\n",
       "      <td>NaN</td>\n",
       "      <td>NaN</td>\n",
       "      <td>0.0</td>\n",
       "      <td>9</td>\n",
       "      <td>2006</td>\n",
       "      <td>New</td>\n",
       "    </tr>\n",
       "    <tr>\n",
       "      <th>3</th>\n",
       "      <td>1989</td>\n",
       "      <td>902207150</td>\n",
       "      <td>30</td>\n",
       "      <td>RM</td>\n",
       "      <td>60.0</td>\n",
       "      <td>8520.0</td>\n",
       "      <td>Pave</td>\n",
       "      <td>NaN</td>\n",
       "      <td>Reg</td>\n",
       "      <td>Lvl</td>\n",
       "      <td>...</td>\n",
       "      <td>0.0</td>\n",
       "      <td>0.0</td>\n",
       "      <td>0.0</td>\n",
       "      <td>NaN</td>\n",
       "      <td>NaN</td>\n",
       "      <td>NaN</td>\n",
       "      <td>0.0</td>\n",
       "      <td>7</td>\n",
       "      <td>2007</td>\n",
       "      <td>WD</td>\n",
       "    </tr>\n",
       "    <tr>\n",
       "      <th>4</th>\n",
       "      <td>625</td>\n",
       "      <td>535105100</td>\n",
       "      <td>20</td>\n",
       "      <td>RL</td>\n",
       "      <td>NaN</td>\n",
       "      <td>9500.0</td>\n",
       "      <td>Pave</td>\n",
       "      <td>NaN</td>\n",
       "      <td>IR1</td>\n",
       "      <td>Lvl</td>\n",
       "      <td>...</td>\n",
       "      <td>0.0</td>\n",
       "      <td>185.0</td>\n",
       "      <td>0.0</td>\n",
       "      <td>NaN</td>\n",
       "      <td>NaN</td>\n",
       "      <td>NaN</td>\n",
       "      <td>0.0</td>\n",
       "      <td>7</td>\n",
       "      <td>2009</td>\n",
       "      <td>WD</td>\n",
       "    </tr>\n",
       "  </tbody>\n",
       "</table>\n",
       "<p>5 rows × 80 columns</p>\n",
       "</div>"
      ],
      "text/plain": [
       "     Id  parcel_id  dwelling_type zoning_type  lot_frontage  lot_area  \\\n",
       "0  2658  902301120            190          RM          69.0    9142.0   \n",
       "1  2718  905108090             90          RL           NaN    9662.0   \n",
       "2  2414  528218130             60          RL          58.0   17104.0   \n",
       "3  1989  902207150             30          RM          60.0    8520.0   \n",
       "4   625  535105100             20          RL           NaN    9500.0   \n",
       "\n",
       "  street_surface alley_surface property_shape property_flatness  ...  \\\n",
       "0           Pave          Grvl            Reg               Lvl  ...   \n",
       "1           Pave           NaN            IR1               Lvl  ...   \n",
       "2           Pave           NaN            IR1               Lvl  ...   \n",
       "3           Pave           NaN            Reg               Lvl  ...   \n",
       "4           Pave           NaN            IR1               Lvl  ...   \n",
       "\n",
       "  three_season_porch_size screen_porch_size pool_size pool_quality  \\\n",
       "0                     0.0               0.0       0.0          NaN   \n",
       "1                     0.0               0.0       0.0          NaN   \n",
       "2                     0.0               0.0       0.0          NaN   \n",
       "3                     0.0               0.0       0.0          NaN   \n",
       "4                     0.0             185.0       0.0          NaN   \n",
       "\n",
       "  fence_quality misc_features misc_features_value month_sold  year_sold  \\\n",
       "0           NaN           NaN                 0.0          4       2006   \n",
       "1           NaN           NaN                 0.0          8       2006   \n",
       "2           NaN           NaN                 0.0          9       2006   \n",
       "3           NaN           NaN                 0.0          7       2007   \n",
       "4           NaN           NaN                 0.0          7       2009   \n",
       "\n",
       "   sale_type  \n",
       "0        WD   \n",
       "1        WD   \n",
       "2        New  \n",
       "3        WD   \n",
       "4        WD   \n",
       "\n",
       "[5 rows x 80 columns]"
      ]
     },
     "execution_count": 237,
     "metadata": {},
     "output_type": "execute_result"
    }
   ],
   "source": [
    "test = pd.read_csv('../data/test_cleaned.csv')\n",
    "test.head()"
   ]
  },
  {
   "cell_type": "markdown",
   "id": "3163a8f8-55e1-42f8-a01c-456776f56e32",
   "metadata": {},
   "source": [
    "----\n",
    "### *Redo the data type updates which aren't reflected when reading in file*"
   ]
  },
  {
   "cell_type": "code",
   "execution_count": 238,
   "id": "3b102ee6-b027-4700-b57a-bbb3267223a7",
   "metadata": {},
   "outputs": [],
   "source": [
    "train[['Id','parcel_id','dwelling_type','alley_surface','masonry_veneer_type','basement_height','basement_condition','basement_finished_rating', 'basement_walkouts','basement_finished_rating2', 'pool_quality','garage_quality',\n",
    "       'garage_condition', 'fence_quality', 'misc_features', 'fireplace_quality', 'garage_finished','Garage Type'\n",
    "      ]] = train[['Id','parcel_id','dwelling_type','alley_surface','masonry_veneer_type','basement_height','basement_condition','basement_finished_rating', 'basement_walkouts',\n",
    "       'basement_finished_rating2', 'pool_quality','garage_quality', 'garage_condition', 'fence_quality', 'misc_features','fireplace_quality', 'garage_finished','garage_location']].applymap(lambda itm: 'None' if itm == 'NaN' else str(itm))\n",
    "\n",
    "test[['Id','parcel_id','dwelling_type','alley_surface','masonry_veneer_type','basement_height','basement_condition','basement_finished_rating', 'basement_walkouts',\n",
    "       'basement_finished_rating2', 'pool_quality','garage_quality', 'garage_condition', 'fence_quality', 'misc_features', 'fireplace_quality', 'garage_finished',\n",
    "       'Garage Type']] = test[['Id','parcel_id','dwelling_type','alley_surface','masonry_veneer_type','basement_height','basement_condition','basement_finished_rating', 'basement_walkouts',\n",
    "       'basement_finished_rating2', 'pool_quality','garage_quality', 'garage_condition', 'fence_quality', 'misc_features','fireplace_quality', 'garage_finished','garage_location']].applymap(lambda itm: 'None' if itm == 'NaN' else str(itm))"
   ]
  },
  {
   "cell_type": "code",
   "execution_count": 247,
   "id": "76889317-77ed-4593-9d42-603b63f2e31e",
   "metadata": {},
   "outputs": [],
   "source": [
    "#to integers\n",
    "train[['full_bathrooms_basement','half_bathrooms_basement',\n",
    "      'garage_car_capacity']] = train[['full_bathrooms_basement','half_bathrooms_basement','garage_car_capacity']].astype(int)\n",
    "\n",
    "test[['full_bathrooms_basement','half_bathrooms_basement',\n",
    "      'garage_car_capacity']] = test[['full_bathrooms_basement','half_bathrooms_basement','garage_car_capacity']].astype(int)"
   ]
  },
  {
   "cell_type": "markdown",
   "id": "66ccb2bc-f99e-4871-8508-819b0355818a",
   "metadata": {},
   "source": [
    "----\n",
    "## **Model Attempt 3:** *Running model with all numerical features* (pre-data type update)"
   ]
  },
  {
   "cell_type": "code",
   "execution_count": 280,
   "id": "bf724564-daed-4f5d-a9b1-944416f1ad19",
   "metadata": {},
   "outputs": [],
   "source": [
    "features = [col for col in test._get_numeric_data().columns if col != 'SalePrice' and test[col].isnull().sum() == 0]"
   ]
  },
  {
   "cell_type": "code",
   "execution_count": 281,
   "id": "b9822ea3-ade7-4f95-a7f1-8b9740cedd3b",
   "metadata": {},
   "outputs": [
    {
     "data": {
      "text/html": [
       "<div>\n",
       "<style scoped>\n",
       "    .dataframe tbody tr th:only-of-type {\n",
       "        vertical-align: middle;\n",
       "    }\n",
       "\n",
       "    .dataframe tbody tr th {\n",
       "        vertical-align: top;\n",
       "    }\n",
       "\n",
       "    .dataframe thead th {\n",
       "        text-align: right;\n",
       "    }\n",
       "</style>\n",
       "<table border=\"1\" class=\"dataframe\">\n",
       "  <thead>\n",
       "    <tr style=\"text-align: right;\">\n",
       "      <th></th>\n",
       "      <th>lot_area</th>\n",
       "      <th>house_quality</th>\n",
       "      <th>house_condition</th>\n",
       "      <th>year_built</th>\n",
       "      <th>year_remodeled</th>\n",
       "      <th>finished_area</th>\n",
       "      <th>finished_area2</th>\n",
       "      <th>unfinished_area</th>\n",
       "      <th>total_basement_area</th>\n",
       "      <th>first_fl_area</th>\n",
       "      <th>...</th>\n",
       "      <th>garage_size</th>\n",
       "      <th>wood_deck_size</th>\n",
       "      <th>open_porch_size</th>\n",
       "      <th>enclose_porch_size</th>\n",
       "      <th>three_season_porch_size</th>\n",
       "      <th>screen_porch_size</th>\n",
       "      <th>pool_size</th>\n",
       "      <th>misc_features_value</th>\n",
       "      <th>month_sold</th>\n",
       "      <th>year_sold</th>\n",
       "    </tr>\n",
       "  </thead>\n",
       "  <tbody>\n",
       "    <tr>\n",
       "      <th>0</th>\n",
       "      <td>9142.0</td>\n",
       "      <td>6</td>\n",
       "      <td>8</td>\n",
       "      <td>1910</td>\n",
       "      <td>1950</td>\n",
       "      <td>0</td>\n",
       "      <td>0</td>\n",
       "      <td>1020</td>\n",
       "      <td>1020</td>\n",
       "      <td>908.0</td>\n",
       "      <td>...</td>\n",
       "      <td>440</td>\n",
       "      <td>0.0</td>\n",
       "      <td>60.0</td>\n",
       "      <td>112.0</td>\n",
       "      <td>0.0</td>\n",
       "      <td>0.0</td>\n",
       "      <td>0.0</td>\n",
       "      <td>0.0</td>\n",
       "      <td>4</td>\n",
       "      <td>2006</td>\n",
       "    </tr>\n",
       "    <tr>\n",
       "      <th>1</th>\n",
       "      <td>9662.0</td>\n",
       "      <td>5</td>\n",
       "      <td>4</td>\n",
       "      <td>1977</td>\n",
       "      <td>1977</td>\n",
       "      <td>0</td>\n",
       "      <td>0</td>\n",
       "      <td>1967</td>\n",
       "      <td>1967</td>\n",
       "      <td>1967.0</td>\n",
       "      <td>...</td>\n",
       "      <td>580</td>\n",
       "      <td>170.0</td>\n",
       "      <td>0.0</td>\n",
       "      <td>0.0</td>\n",
       "      <td>0.0</td>\n",
       "      <td>0.0</td>\n",
       "      <td>0.0</td>\n",
       "      <td>0.0</td>\n",
       "      <td>8</td>\n",
       "      <td>2006</td>\n",
       "    </tr>\n",
       "    <tr>\n",
       "      <th>2</th>\n",
       "      <td>17104.0</td>\n",
       "      <td>7</td>\n",
       "      <td>5</td>\n",
       "      <td>2006</td>\n",
       "      <td>2006</td>\n",
       "      <td>554</td>\n",
       "      <td>0</td>\n",
       "      <td>100</td>\n",
       "      <td>654</td>\n",
       "      <td>664.0</td>\n",
       "      <td>...</td>\n",
       "      <td>426</td>\n",
       "      <td>100.0</td>\n",
       "      <td>24.0</td>\n",
       "      <td>0.0</td>\n",
       "      <td>0.0</td>\n",
       "      <td>0.0</td>\n",
       "      <td>0.0</td>\n",
       "      <td>0.0</td>\n",
       "      <td>9</td>\n",
       "      <td>2006</td>\n",
       "    </tr>\n",
       "    <tr>\n",
       "      <th>3</th>\n",
       "      <td>8520.0</td>\n",
       "      <td>5</td>\n",
       "      <td>6</td>\n",
       "      <td>1923</td>\n",
       "      <td>2006</td>\n",
       "      <td>0</td>\n",
       "      <td>0</td>\n",
       "      <td>968</td>\n",
       "      <td>968</td>\n",
       "      <td>968.0</td>\n",
       "      <td>...</td>\n",
       "      <td>480</td>\n",
       "      <td>0.0</td>\n",
       "      <td>0.0</td>\n",
       "      <td>184.0</td>\n",
       "      <td>0.0</td>\n",
       "      <td>0.0</td>\n",
       "      <td>0.0</td>\n",
       "      <td>0.0</td>\n",
       "      <td>7</td>\n",
       "      <td>2007</td>\n",
       "    </tr>\n",
       "    <tr>\n",
       "      <th>4</th>\n",
       "      <td>9500.0</td>\n",
       "      <td>6</td>\n",
       "      <td>5</td>\n",
       "      <td>1963</td>\n",
       "      <td>1963</td>\n",
       "      <td>609</td>\n",
       "      <td>0</td>\n",
       "      <td>785</td>\n",
       "      <td>1394</td>\n",
       "      <td>1394.0</td>\n",
       "      <td>...</td>\n",
       "      <td>514</td>\n",
       "      <td>0.0</td>\n",
       "      <td>76.0</td>\n",
       "      <td>0.0</td>\n",
       "      <td>0.0</td>\n",
       "      <td>185.0</td>\n",
       "      <td>0.0</td>\n",
       "      <td>0.0</td>\n",
       "      <td>7</td>\n",
       "      <td>2009</td>\n",
       "    </tr>\n",
       "    <tr>\n",
       "      <th>...</th>\n",
       "      <td>...</td>\n",
       "      <td>...</td>\n",
       "      <td>...</td>\n",
       "      <td>...</td>\n",
       "      <td>...</td>\n",
       "      <td>...</td>\n",
       "      <td>...</td>\n",
       "      <td>...</td>\n",
       "      <td>...</td>\n",
       "      <td>...</td>\n",
       "      <td>...</td>\n",
       "      <td>...</td>\n",
       "      <td>...</td>\n",
       "      <td>...</td>\n",
       "      <td>...</td>\n",
       "      <td>...</td>\n",
       "      <td>...</td>\n",
       "      <td>...</td>\n",
       "      <td>...</td>\n",
       "      <td>...</td>\n",
       "      <td>...</td>\n",
       "    </tr>\n",
       "    <tr>\n",
       "      <th>873</th>\n",
       "      <td>8000.0</td>\n",
       "      <td>6</td>\n",
       "      <td>6</td>\n",
       "      <td>1974</td>\n",
       "      <td>1974</td>\n",
       "      <td>931</td>\n",
       "      <td>153</td>\n",
       "      <td>0</td>\n",
       "      <td>1084</td>\n",
       "      <td>1084.0</td>\n",
       "      <td>...</td>\n",
       "      <td>488</td>\n",
       "      <td>0.0</td>\n",
       "      <td>96.0</td>\n",
       "      <td>0.0</td>\n",
       "      <td>0.0</td>\n",
       "      <td>0.0</td>\n",
       "      <td>0.0</td>\n",
       "      <td>0.0</td>\n",
       "      <td>11</td>\n",
       "      <td>2007</td>\n",
       "    </tr>\n",
       "    <tr>\n",
       "      <th>874</th>\n",
       "      <td>14670.0</td>\n",
       "      <td>6</td>\n",
       "      <td>7</td>\n",
       "      <td>1966</td>\n",
       "      <td>1999</td>\n",
       "      <td>575</td>\n",
       "      <td>0</td>\n",
       "      <td>529</td>\n",
       "      <td>1104</td>\n",
       "      <td>1104.0</td>\n",
       "      <td>...</td>\n",
       "      <td>480</td>\n",
       "      <td>0.0</td>\n",
       "      <td>230.0</td>\n",
       "      <td>0.0</td>\n",
       "      <td>0.0</td>\n",
       "      <td>0.0</td>\n",
       "      <td>0.0</td>\n",
       "      <td>0.0</td>\n",
       "      <td>8</td>\n",
       "      <td>2008</td>\n",
       "    </tr>\n",
       "    <tr>\n",
       "      <th>875</th>\n",
       "      <td>8250.0</td>\n",
       "      <td>5</td>\n",
       "      <td>5</td>\n",
       "      <td>1968</td>\n",
       "      <td>1968</td>\n",
       "      <td>250</td>\n",
       "      <td>492</td>\n",
       "      <td>210</td>\n",
       "      <td>952</td>\n",
       "      <td>1211.0</td>\n",
       "      <td>...</td>\n",
       "      <td>322</td>\n",
       "      <td>0.0</td>\n",
       "      <td>63.0</td>\n",
       "      <td>0.0</td>\n",
       "      <td>0.0</td>\n",
       "      <td>0.0</td>\n",
       "      <td>0.0</td>\n",
       "      <td>0.0</td>\n",
       "      <td>8</td>\n",
       "      <td>2008</td>\n",
       "    </tr>\n",
       "    <tr>\n",
       "      <th>876</th>\n",
       "      <td>9000.0</td>\n",
       "      <td>4</td>\n",
       "      <td>6</td>\n",
       "      <td>1971</td>\n",
       "      <td>1971</td>\n",
       "      <td>616</td>\n",
       "      <td>0</td>\n",
       "      <td>248</td>\n",
       "      <td>864</td>\n",
       "      <td>864.0</td>\n",
       "      <td>...</td>\n",
       "      <td>528</td>\n",
       "      <td>0.0</td>\n",
       "      <td>0.0</td>\n",
       "      <td>0.0</td>\n",
       "      <td>0.0</td>\n",
       "      <td>0.0</td>\n",
       "      <td>0.0</td>\n",
       "      <td>0.0</td>\n",
       "      <td>5</td>\n",
       "      <td>2007</td>\n",
       "    </tr>\n",
       "    <tr>\n",
       "      <th>877</th>\n",
       "      <td>8400.0</td>\n",
       "      <td>5</td>\n",
       "      <td>5</td>\n",
       "      <td>1955</td>\n",
       "      <td>1955</td>\n",
       "      <td>793</td>\n",
       "      <td>0</td>\n",
       "      <td>130</td>\n",
       "      <td>923</td>\n",
       "      <td>925.0</td>\n",
       "      <td>...</td>\n",
       "      <td>390</td>\n",
       "      <td>81.0</td>\n",
       "      <td>0.0</td>\n",
       "      <td>0.0</td>\n",
       "      <td>0.0</td>\n",
       "      <td>0.0</td>\n",
       "      <td>0.0</td>\n",
       "      <td>0.0</td>\n",
       "      <td>3</td>\n",
       "      <td>2007</td>\n",
       "    </tr>\n",
       "  </tbody>\n",
       "</table>\n",
       "<p>878 rows × 32 columns</p>\n",
       "</div>"
      ],
      "text/plain": [
       "     lot_area  house_quality  house_condition  year_built  year_remodeled  \\\n",
       "0      9142.0              6                8        1910            1950   \n",
       "1      9662.0              5                4        1977            1977   \n",
       "2     17104.0              7                5        2006            2006   \n",
       "3      8520.0              5                6        1923            2006   \n",
       "4      9500.0              6                5        1963            1963   \n",
       "..        ...            ...              ...         ...             ...   \n",
       "873    8000.0              6                6        1974            1974   \n",
       "874   14670.0              6                7        1966            1999   \n",
       "875    8250.0              5                5        1968            1968   \n",
       "876    9000.0              4                6        1971            1971   \n",
       "877    8400.0              5                5        1955            1955   \n",
       "\n",
       "     finished_area  finished_area2  unfinished_area  total_basement_area  \\\n",
       "0                0               0             1020                 1020   \n",
       "1                0               0             1967                 1967   \n",
       "2              554               0              100                  654   \n",
       "3                0               0              968                  968   \n",
       "4              609               0              785                 1394   \n",
       "..             ...             ...              ...                  ...   \n",
       "873            931             153                0                 1084   \n",
       "874            575               0              529                 1104   \n",
       "875            250             492              210                  952   \n",
       "876            616               0              248                  864   \n",
       "877            793               0              130                  923   \n",
       "\n",
       "     first_fl_area  ...  garage_size  wood_deck_size  open_porch_size  \\\n",
       "0            908.0  ...          440             0.0             60.0   \n",
       "1           1967.0  ...          580           170.0              0.0   \n",
       "2            664.0  ...          426           100.0             24.0   \n",
       "3            968.0  ...          480             0.0              0.0   \n",
       "4           1394.0  ...          514             0.0             76.0   \n",
       "..             ...  ...          ...             ...              ...   \n",
       "873         1084.0  ...          488             0.0             96.0   \n",
       "874         1104.0  ...          480             0.0            230.0   \n",
       "875         1211.0  ...          322             0.0             63.0   \n",
       "876          864.0  ...          528             0.0              0.0   \n",
       "877          925.0  ...          390            81.0              0.0   \n",
       "\n",
       "     enclose_porch_size  three_season_porch_size  screen_porch_size  \\\n",
       "0                 112.0                      0.0                0.0   \n",
       "1                   0.0                      0.0                0.0   \n",
       "2                   0.0                      0.0                0.0   \n",
       "3                 184.0                      0.0                0.0   \n",
       "4                   0.0                      0.0              185.0   \n",
       "..                  ...                      ...                ...   \n",
       "873                 0.0                      0.0                0.0   \n",
       "874                 0.0                      0.0                0.0   \n",
       "875                 0.0                      0.0                0.0   \n",
       "876                 0.0                      0.0                0.0   \n",
       "877                 0.0                      0.0                0.0   \n",
       "\n",
       "     pool_size  misc_features_value  month_sold  year_sold  \n",
       "0          0.0                  0.0           4       2006  \n",
       "1          0.0                  0.0           8       2006  \n",
       "2          0.0                  0.0           9       2006  \n",
       "3          0.0                  0.0           7       2007  \n",
       "4          0.0                  0.0           7       2009  \n",
       "..         ...                  ...         ...        ...  \n",
       "873        0.0                  0.0          11       2007  \n",
       "874        0.0                  0.0           8       2008  \n",
       "875        0.0                  0.0           8       2008  \n",
       "876        0.0                  0.0           5       2007  \n",
       "877        0.0                  0.0           3       2007  \n",
       "\n",
       "[878 rows x 32 columns]"
      ]
     },
     "execution_count": 281,
     "metadata": {},
     "output_type": "execute_result"
    }
   ],
   "source": [
    "test[features]"
   ]
  },
  {
   "cell_type": "code",
   "execution_count": 282,
   "id": "4ab4758a-3af5-4cff-a4dc-36129125e809",
   "metadata": {},
   "outputs": [
    {
     "name": "stdout",
     "output_type": "stream",
     "text": [
      "Training Shape: ((954, 32), (954,))\n",
      "Test Shape: ((318, 32), (318,))\n"
     ]
    }
   ],
   "source": [
    "X = train[features]\n",
    "y = train['SalePrice']\n",
    "\n",
    "X_train, X_test, y_train, y_test = train_test_split(X, y, random_state=42)\n",
    "\n",
    "print(f'Training Shape: {X_train.shape, y_train.shape}')\n",
    "print(f'Test Shape: {X_test.shape, y_test.shape}')"
   ]
  },
  {
   "cell_type": "code",
   "execution_count": 283,
   "id": "bd719e98-eee2-4a49-93b4-7ff4477a930c",
   "metadata": {},
   "outputs": [
    {
     "data": {
      "text/plain": [
       "LinearRegression()"
      ]
     },
     "execution_count": 283,
     "metadata": {},
     "output_type": "execute_result"
    }
   ],
   "source": [
    "lr = LinearRegression()\n",
    "lr.fit(X_train, y_train)"
   ]
  },
  {
   "cell_type": "code",
   "execution_count": 284,
   "id": "71ae6605-b033-42dc-92f3-b2fb39bc5e3f",
   "metadata": {},
   "outputs": [
    {
     "data": {
      "text/plain": [
       "0.8798556232216684"
      ]
     },
     "execution_count": 284,
     "metadata": {},
     "output_type": "execute_result"
    }
   ],
   "source": [
    "#Training Score\n",
    "lr.score(X_train, y_train)"
   ]
  },
  {
   "cell_type": "code",
   "execution_count": 285,
   "id": "df14510a-3b12-4084-9fa7-cef2b392d2df",
   "metadata": {
    "tags": []
   },
   "outputs": [
    {
     "data": {
      "text/plain": [
       "0.8742177245601109"
      ]
     },
     "execution_count": 285,
     "metadata": {},
     "output_type": "execute_result"
    }
   ],
   "source": [
    "#Test Score\n",
    "lr.score(X_test, y_test)"
   ]
  },
  {
   "cell_type": "code",
   "execution_count": 286,
   "id": "0e52cf73-35ce-480f-8961-7611b09cced9",
   "metadata": {},
   "outputs": [
    {
     "data": {
      "text/plain": [
       "(878,)"
      ]
     },
     "execution_count": 286,
     "metadata": {},
     "output_type": "execute_result"
    }
   ],
   "source": [
    "# Make predictions on test data\n",
    "preds = lr.predict(test[features])\n",
    "\n",
    "preds.shape"
   ]
  },
  {
   "cell_type": "code",
   "execution_count": null,
   "id": "b5fb70e6-11a1-4bf0-876b-4a41aa72a57d",
   "metadata": {},
   "outputs": [],
   "source": [
    "# Cross Val Score to evaluate model\n",
    "cross_val_score(lr, X_train, y_train).mean()"
   ]
  },
  {
   "cell_type": "markdown",
   "id": "59b3505e-25cd-46c2-9eff-e9413e84733f",
   "metadata": {},
   "source": [
    "Solid R-Squared results but could be misleading due to the number of features modeled."
   ]
  },
  {
   "cell_type": "code",
   "execution_count": null,
   "id": "a3b247e4-ce13-40c0-bed6-e1d5808ad90b",
   "metadata": {},
   "outputs": [],
   "source": [
    "#adjusted R-Squared Training data\n",
    "r2 = lr.score(X_train, y_train)\n",
    "1 - (((1-r2) * (len(y-1))) / (len(y) - len(features) -1))"
   ]
  },
  {
   "cell_type": "code",
   "execution_count": null,
   "id": "3ae8087b-1672-4c2c-b540-ca5d398bdcbb",
   "metadata": {},
   "outputs": [],
   "source": [
    "#adjusted R-Squared Test data\n",
    "r2 = lr.score(X_test, y_test)\n",
    "1 - (((1-r2) * (len(y-1))) / (len(y) - len(features) -1))"
   ]
  },
  {
   "cell_type": "code",
   "execution_count": null,
   "id": "6a5bc132-c50e-4eab-a8ff-e83464cc573f",
   "metadata": {},
   "outputs": [],
   "source": [
    "#Root Mean Squared Error\n",
    "predictions = lr.predict(X_train)\n",
    "\n",
    "rmse = np.sqrt(metrics.mean_squared_error(y_train, predictions))\n",
    "rmse"
   ]
  },
  {
   "cell_type": "raw",
   "id": "673ac92e-9b40-4165-9e67-28aaae343436",
   "metadata": {},
   "source": [
    "Predicted home sale price off by about $18,031 on average relative to observed price. "
   ]
  },
  {
   "cell_type": "code",
   "execution_count": null,
   "id": "bd7ce343-b484-4103-a0ef-84e06ab8781d",
   "metadata": {
    "tags": []
   },
   "outputs": [],
   "source": [
    "pd.DataFrame(data = lr.coef_, index=X.columns, columns=['Coefficient'])"
   ]
  },
  {
   "cell_type": "code",
   "execution_count": null,
   "id": "95c685a0-4c67-453d-9e55-db726c6a12a0",
   "metadata": {},
   "outputs": [],
   "source": [
    "# add sale price column to test data set based on model\n",
    "test['SalePrice'] = preds\n",
    "test.head()"
   ]
  },
  {
   "cell_type": "code",
   "execution_count": null,
   "id": "07f38a1d-ac10-4246-89aa-42b1a46cd4a1",
   "metadata": {},
   "outputs": [],
   "source": [
    "# Create Data Frame with only Id and SalePrice\n",
    "all_numerical_submission = test[['Id', 'SalePrice']]\n",
    "all_numerical_submission.shape"
   ]
  },
  {
   "cell_type": "code",
   "execution_count": null,
   "id": "7d6a9ca7-f607-41bc-b442-7f1ad2503c84",
   "metadata": {},
   "outputs": [],
   "source": [
    "# set index for new DF\n",
    "all_numerical_submission.set_index('Id', inplace=True)\n",
    "all_numerical_submission.head()"
   ]
  },
  {
   "cell_type": "code",
   "execution_count": null,
   "id": "0c8d75ba-2471-48b1-9043-851d0ba38243",
   "metadata": {},
   "outputs": [],
   "source": [
    "# save submission\n",
    "all_numerical_submission.to_csv('../data/all_numerical_submission.csv')"
   ]
  },
  {
   "cell_type": "markdown",
   "id": "e423f3be-f318-4555-a420-2c9a1f465365",
   "metadata": {},
   "source": [
    "----\n",
    "## **Model Attempt 4:** *Running model with all numerical features* (data types updated)"
   ]
  },
  {
   "cell_type": "code",
   "execution_count": 274,
   "id": "3ebb49be-7dc5-4f34-9364-cfccc03b71af",
   "metadata": {},
   "outputs": [],
   "source": [
    "features = [col for col in test._get_numeric_data().columns if col != 'SalePrice' and test[col].isnull().sum() == 0]"
   ]
  },
  {
   "cell_type": "code",
   "execution_count": 275,
   "id": "78ee561c-429d-4cce-9ffd-c86b4f1b5c7c",
   "metadata": {},
   "outputs": [
    {
     "name": "stdout",
     "output_type": "stream",
     "text": [
      "Training Shape: ((954, 32), (954,))\n",
      "Test Shape: ((318, 32), (318,))\n"
     ]
    }
   ],
   "source": [
    "X = train[features]\n",
    "y = train['SalePrice']\n",
    "\n",
    "X_train, X_test, y_train, y_test = train_test_split(X, y, random_state=42)\n",
    "\n",
    "print(f'Training Shape: {X_train.shape, y_train.shape}')\n",
    "print(f'Test Shape: {X_test.shape, y_test.shape}')"
   ]
  },
  {
   "cell_type": "code",
   "execution_count": 276,
   "id": "d69e188d-cb6a-4818-867a-f0a7a6664eb3",
   "metadata": {},
   "outputs": [
    {
     "data": {
      "text/plain": [
       "LinearRegression()"
      ]
     },
     "execution_count": 276,
     "metadata": {},
     "output_type": "execute_result"
    }
   ],
   "source": [
    "lr = LinearRegression()\n",
    "lr.fit(X_train, y_train)"
   ]
  },
  {
   "cell_type": "code",
   "execution_count": 277,
   "id": "566bb4cd-ddf9-49e5-a3b4-d79d9e458cb5",
   "metadata": {},
   "outputs": [
    {
     "data": {
      "text/plain": [
       "0.8798556232216684"
      ]
     },
     "execution_count": 277,
     "metadata": {},
     "output_type": "execute_result"
    }
   ],
   "source": [
    "#Training Score\n",
    "lr.score(X_train, y_train)"
   ]
  },
  {
   "cell_type": "code",
   "execution_count": 278,
   "id": "fa0c8e31-ad22-4af6-8f1c-d88f7c5f0b53",
   "metadata": {},
   "outputs": [
    {
     "data": {
      "text/plain": [
       "0.8742177245601109"
      ]
     },
     "execution_count": 278,
     "metadata": {},
     "output_type": "execute_result"
    }
   ],
   "source": [
    "#Test Score\n",
    "lr.score(X_test, y_test)"
   ]
  },
  {
   "cell_type": "code",
   "execution_count": 279,
   "id": "ba74fb84-a6cf-409b-a577-599b09a4d923",
   "metadata": {},
   "outputs": [
    {
     "data": {
      "text/plain": [
       "(878,)"
      ]
     },
     "execution_count": 279,
     "metadata": {},
     "output_type": "execute_result"
    }
   ],
   "source": [
    "# Make predictions on test data\n",
    "preds = lr.predict(test[features])\n",
    "\n",
    "preds.shape"
   ]
  },
  {
   "cell_type": "code",
   "execution_count": null,
   "id": "1d80cfca-b5d5-4967-a9c0-98d037ba35ee",
   "metadata": {},
   "outputs": [],
   "source": [
    "# Cross Val Score to evaluate model\n",
    "cross_val_score(lr, X_train, y_train).mean()"
   ]
  },
  {
   "cell_type": "markdown",
   "id": "f27b344f-5ad3-4d71-9322-2c3da1ca3add",
   "metadata": {},
   "source": [
    "write some commentary on scores"
   ]
  },
  {
   "cell_type": "code",
   "execution_count": null,
   "id": "dd3dd63f-f6c2-43cd-9252-c0c747b96b7c",
   "metadata": {},
   "outputs": [],
   "source": [
    "#adjusted R-Squared Training data\n",
    "r2 = lr.score(X_train, y_train)\n",
    "1 - (((1-r2) * (len(y-1))) / (len(y) - len(features) -1))"
   ]
  },
  {
   "cell_type": "code",
   "execution_count": null,
   "id": "54428b42-037a-4536-b6c6-fa0bbf1cf4a1",
   "metadata": {},
   "outputs": [],
   "source": [
    "#adjusted R-Squared Test data\n",
    "r2 = lr.score(X_test, y_test)\n",
    "1 - (((1-r2) * (len(y-1))) / (len(y) - len(features) -1))"
   ]
  },
  {
   "cell_type": "code",
   "execution_count": null,
   "id": "8f564662-123c-415a-b7d6-9509a614426e",
   "metadata": {},
   "outputs": [],
   "source": [
    "#Root Mean Squared Error\n",
    "predictions = lr.predict(X_train)\n",
    "\n",
    "rmse = np.sqrt(metrics.mean_squared_error(y_train, predictions))\n",
    "rmse"
   ]
  },
  {
   "cell_type": "markdown",
   "id": "80eb0fc0-efcb-46f5-8b0d-f44f7053682d",
   "metadata": {},
   "source": [
    "Predicted home sale price off by about $18,114 on average relative to observed price. "
   ]
  },
  {
   "cell_type": "code",
   "execution_count": null,
   "id": "7c3acac4-7557-4e0f-9a2b-2a9ccfb734d8",
   "metadata": {},
   "outputs": [],
   "source": [
    "pd.DataFrame(data = lr.coef_, index=X.columns, columns=['Coefficient'])"
   ]
  },
  {
   "cell_type": "code",
   "execution_count": null,
   "id": "4d623b2c-c6af-477f-a260-0c7625c774c7",
   "metadata": {},
   "outputs": [],
   "source": [
    "# add sale price column to test data set based on model\n",
    "test['SalePrice'] = preds\n",
    "test.head()"
   ]
  },
  {
   "cell_type": "code",
   "execution_count": null,
   "id": "3727d086-0304-4b43-b290-2da8c477d760",
   "metadata": {},
   "outputs": [],
   "source": [
    "# Create Data Frame with only Id and SalePrice\n",
    "all_numerical_submission_types_update = test[['Id', 'SalePrice']]\n",
    "all_numerical_submission_types_update.shape"
   ]
  },
  {
   "cell_type": "code",
   "execution_count": null,
   "id": "788b6ff0-b25e-45fb-bbb5-2b2300ada501",
   "metadata": {},
   "outputs": [],
   "source": [
    "# set index for new DF\n",
    "all_numerical_submission_types_update.set_index('Id', inplace=True)\n",
    "all_numerical_submission_types_update.head()"
   ]
  },
  {
   "cell_type": "code",
   "execution_count": null,
   "id": "2a0c7d0f-45f3-4515-89f7-d72ebd1c731f",
   "metadata": {},
   "outputs": [],
   "source": [
    "# save submission\n",
    "all_numerical_submission_types_update.to_csv('../data/all_numerical_submission_types_update.csv')"
   ]
  },
  {
   "cell_type": "markdown",
   "id": "44cdc5cc-6db4-4945-a6c2-289a7ca63422",
   "metadata": {
    "tags": []
   },
   "source": [
    "------\n",
    "### *Handling Categorical Variables*"
   ]
  },
  {
   "cell_type": "code",
   "execution_count": null,
   "id": "66508521-aebe-48f8-b736-2b88304d83f2",
   "metadata": {},
   "outputs": [],
   "source": [
    "train.head()"
   ]
  },
  {
   "cell_type": "code",
   "execution_count": null,
   "id": "70972dea-989e-4c27-acce-924b3e6ed781",
   "metadata": {},
   "outputs": [],
   "source": [
    "# changing Y/N and Paved/Gravel Columns to 1's and 0's\n",
    "train['street_surface'] = train['street_surface'].map({'Pave': 1, 'Grvl': 0})\n",
    "train['central_air'] = train['central_air'].map({'Y': 1, 'N':0})\n",
    "\n",
    "test['street_surface'] = test['street_surface'].map({'Pave': 1, 'Grvl': 0})\n",
    "test['central_air'] = test['central_air'].map({'Y': 1, 'N':0})\n",
    "\n",
    "train.head()"
   ]
  },
  {
   "cell_type": "code",
   "execution_count": null,
   "id": "33ef8f81-8dba-435e-a498-f3baf5b197d5",
   "metadata": {
    "tags": []
   },
   "outputs": [],
   "source": [
    "# candidates for #'s rather than dummy variables\n",
    "train['exterior_quality'] = train['exterior_quality'].map({'Po':0,'Fa':1,'TA':2,'Gd':3,'Ex':4})\n",
    "train['exterior_condition'] = train['exterior_condition'].map({'Po':0,'Fa':1,'TA':2,'Gd':3,'Ex':4})\n",
    "\n",
    "train['basement_height'] = train['basement_height'].map({np.nan:0,'Po':1,'Fa':2,'TA':3,'Gd':4,'Ex':5})\n",
    "train['basement_condition'] = train['basement_condition'].map({np.nan:0,'Po':1,'Fa':2,'TA':3,'Gd':4,'Ex':5})\n",
    "\n",
    "train['heating_quality'] = train['heating_quality'].map({'Po':0,'Fa':1,'TA':2,'Gd':3,'Ex':4})\n",
    "\n",
    "train['kitchen_quality'] = train['kitchen_quality'].map({'Po':0,'Fa':1,'TA':2,'Gd':3,'Ex':4})\n",
    "\n",
    "train['fireplace_quality'] = train['fireplace_quality'].map({np.nan:0,'Po':1,'Fa':2,'TA':3,'Gd':4,'Ex':5})\n",
    "\n",
    "train['garage_quality'] = train['garage_quality'].map({np.nan:0,'Po':1,'Fa':2,'TA':3,'Gd':4,'Ex':5})\n",
    "train['garage_condition'] = train['garage_condition'].map({np.nan:0,'Po':1,'Fa':2,'TA':3,'Gd':4,'Ex':5})\n",
    "\n",
    "train['pool_quality'] = train['pool_quality'].map({np.nan:0,'Fa':1,'TA':2,'Gd':3,'Ex':4})\n",
    "\n",
    "train['fence_quality'] = train['fence_quality'].map({np.nan:0,'MnWw':1,'GdWo':2,'MnPrv':3,'GdPrv':4})\n",
    "\n",
    "\n",
    "test['exterior_quality'] = test['exterior_quality'].map({'Po':0,'Fa':1,'TA':2,'Gd':3,'Ex':4})\n",
    "test['exterior_condition'] = test['exterior_condition'].map({'Po':0,'Fa':1,'TA':2,'Gd':3,'Ex':4})\n",
    "\n",
    "test['basement_height'] = test['basement_height'].map({np.nan:0,'Po':1,'Fa':2,'TA':3,'Gd':4,'Ex':5})\n",
    "test['basement_condition'] = test['basement_condition'].map({np.nan:0,'Po':1,'Fa':2,'TA':3,'Gd':4,'Ex':5})\n",
    "\n",
    "test['heating_quality'] = test['heating_quality'].map({'Po':0,'Fa':1,'TA':2,'Gd':3,'Ex':4})\n",
    "\n",
    "test['kitchen_quality'] = test['kitchen_quality'].map({'Po':0,'Fa':1,'TA':2,'Gd':3,'Ex':4})\n",
    "\n",
    "test['fireplace_quality'] = test['fireplace_quality'].map({np.nan:0,'Po':1,'Fa':2,'TA':3,'Gd':4,'Ex':5})\n",
    "\n",
    "test['garage_quality'] = test['garage_quality'].map({np.nan:0,'Po':1,'Fa':2,'TA':3,'Gd':4,'Ex':5})\n",
    "test['garage_condition'] = test['garage_condition'].map({np.nan:0,'Po':1,'Fa':2,'TA':3,'Gd':4,'Ex':5})\n",
    "\n",
    "test['pool_quality'] = test['pool_quality'].map({np.nan:0,'Fa':1,'TA':2,'Gd':3,'Ex':4})\n",
    "\n",
    "test['fence_quality'] = test['fence_quality'].map({np.nan:0,'MnWw':1,'GdWo':2,'MnPrv':3,'GdPrv':4})\n",
    "\n",
    "train.head(10)"
   ]
  },
  {
   "cell_type": "markdown",
   "id": "81383d52-a8be-4ff1-a59b-6bff848165a5",
   "metadata": {
    "tags": []
   },
   "source": [
    "------\n",
    "## **Model 5:** *Numbers replacing categorical variables*"
   ]
  },
  {
   "cell_type": "code",
   "execution_count": null,
   "id": "67d58f0e-17a0-43fb-8995-ab71a3723da1",
   "metadata": {},
   "outputs": [],
   "source": [
    "features = [col for col in test._get_numeric_data().columns if col != 'SalePrice' and test[col].isnull().sum() == 0]"
   ]
  },
  {
   "cell_type": "code",
   "execution_count": null,
   "id": "0f4f2b7b-c96e-45e8-8254-b3bbc358245e",
   "metadata": {
    "tags": []
   },
   "outputs": [],
   "source": [
    "X = train[features]\n",
    "y = train['SalePrice']\n",
    "\n",
    "X_train, X_test, y_train, y_test = train_test_split(X, y, random_state=42)\n",
    "\n",
    "print(f'Training Shape: {X_train.shape, y_train.shape}')\n",
    "print(f'Test Shape: {X_test.shape, y_test.shape}')\n",
    "\n",
    "lr = LinearRegression()\n",
    "lr.fit(X_train, y_train)\n",
    "\n",
    "#Training Score\n",
    "print(f'Training Score: {lr.score(X_train, y_train)}')\n",
    "#Test Score\n",
    "print(f'Test Score: {lr.score(X_test, y_test)}')"
   ]
  },
  {
   "cell_type": "code",
   "execution_count": null,
   "id": "9f65f34a-27c5-47b7-a758-447e13c74b3f",
   "metadata": {},
   "outputs": [],
   "source": [
    "# Make predictions on test data\n",
    "preds = lr.predict(test[features])\n",
    "\n",
    "preds.shape"
   ]
  },
  {
   "cell_type": "code",
   "execution_count": null,
   "id": "90999f36-67fd-4aa1-9176-01d3aca0f4df",
   "metadata": {},
   "outputs": [],
   "source": [
    "# Cross Val Score to evaluate model\n",
    "cross_val_score(lr, X_train, y_train).mean()"
   ]
  },
  {
   "cell_type": "code",
   "execution_count": null,
   "id": "6178543c-1fb1-41c3-84fd-4fe1dbcf6561",
   "metadata": {
    "jupyter": {
     "source_hidden": true
    },
    "tags": []
   },
   "outputs": [],
   "source": [
    "#adjusted R-Squared Training data\n",
    "r2 = lr.score(X_train, y_train)\n",
    "print(f'Adjusted R-Squared for training: {1 - (((1-r2) * (len(y-1))) / (len(y) - len(features) -1))}')\n",
    "\n",
    "#adjusted R-Squared Test data\n",
    "r2 = lr.score(X_test, y_test)\n",
    "print(f'Adjusted R-Squared for test: {1 - (((1-r2) * (len(y-1))) / (len(y) - len(features) -1))}')\n",
    "\n",
    "#Root Mean Squared Error\n",
    "predictions = lr.predict(X_train)\n",
    "\n",
    "rmse = np.sqrt(metrics.mean_squared_error(y_train, predictions))\n",
    "print(f'Root Mean Squared Error: {rmse}')"
   ]
  },
  {
   "cell_type": "markdown",
   "id": "aed2664a-2d0c-41cc-8bfc-aa153bc33326",
   "metadata": {},
   "source": [
    "Predicted home sale price off by about $17,345 on average relative to observed price. "
   ]
  },
  {
   "cell_type": "code",
   "execution_count": null,
   "id": "1ae3e38b-8507-45d0-9331-e71854400c4f",
   "metadata": {
    "tags": []
   },
   "outputs": [],
   "source": [
    "pd.DataFrame(data = lr.coef_, index=X.columns, columns=['Coefficient'])"
   ]
  },
  {
   "cell_type": "code",
   "execution_count": null,
   "id": "e59bfb69-a032-494a-b8c1-24be1ae7f10e",
   "metadata": {},
   "outputs": [],
   "source": [
    "# add sale price column to test data set based on model\n",
    "test['SalePrice'] = preds\n",
    "\n",
    "# Create Data Frame with only Id and SalePrice\n",
    "categories_converted_numbers = test[['Id', 'SalePrice']]\n",
    "\n",
    "# set index for new DF\n",
    "categories_converted_numbers.set_index('Id', inplace=True)\n",
    "categories_converted_numbers.head()\n",
    "\n",
    "# save submission\n",
    "categories_converted_numbers.to_csv('../data/categories_converted_numbers.csv')"
   ]
  },
  {
   "cell_type": "markdown",
   "id": "1914a8b3-0513-410e-9e05-f97ba6d8cabb",
   "metadata": {},
   "source": [
    "-----"
   ]
  },
  {
   "cell_type": "markdown",
   "id": "0f3dd015-da97-4fbf-9e83-ec4178f7e90f",
   "metadata": {},
   "source": [
    "### *Binarize the remaining categorical columns*"
   ]
  },
  {
   "cell_type": "code",
   "execution_count": 222,
   "id": "567a2911-8cdf-449d-b42a-bb70dfd531fa",
   "metadata": {},
   "outputs": [
    {
     "ename": "KeyError",
     "evalue": "\"None of [Index(['dwelling_type', 'zoning_type', 'street_surface', 'alley_surface',\\n       'property_shape', 'property_flatness', 'util_avail', 'lot_position',\\n       'property_slope', 'ames_neighborhood', 'prox_to_transport',\\n       'prox_to_transport_2', 'bldg_type', 'floors', 'house_quality',\\n       'house_condition', 'roof_style', 'roof_material', 'ext_covering',\\n       'ext_covering2', 'masonry_veneer_type', 'foundation_type',\\n       'basement_walkouts', 'basement_finished_rating',\\n       'basement_finished_rating2', 'heating_type', 'central_air',\\n       'electrical_setup', 'full_bathrooms_basement',\\n       'half_bathrooms_basement', 'full_bathrooms_above_ground',\\n       'half_bathrooms_above_ground', 'bedrooms_above_ground',\\n       'kitchens_above_ground', 'home_functionality', 'garage_location',\\n       'garage_finished', 'garage_car_capacity', 'driveway_surface',\\n       'misc_features', 'sale_type'],\\n      dtype='object')] are in the [columns]\"",
     "output_type": "error",
     "traceback": [
      "\u001b[0;31m---------------------------------------------------------------------------\u001b[0m",
      "\u001b[0;31mKeyError\u001b[0m                                  Traceback (most recent call last)",
      "Input \u001b[0;32mIn [222]\u001b[0m, in \u001b[0;36m<cell line: 1>\u001b[0;34m()\u001b[0m\n\u001b[0;32m----> 1\u001b[0m train \u001b[38;5;241m=\u001b[39m \u001b[43mpd\u001b[49m\u001b[38;5;241;43m.\u001b[39;49m\u001b[43mget_dummies\u001b[49m\u001b[43m(\u001b[49m\u001b[43mdata\u001b[49m\u001b[43m \u001b[49m\u001b[38;5;241;43m=\u001b[39;49m\u001b[43m \u001b[49m\u001b[43mtrain\u001b[49m\u001b[43m,\u001b[49m\u001b[43m \u001b[49m\u001b[43mcolumns\u001b[49m\u001b[43m \u001b[49m\u001b[38;5;241;43m=\u001b[39;49m\u001b[43m \u001b[49m\u001b[43m[\u001b[49m\u001b[38;5;124;43m'\u001b[39;49m\u001b[38;5;124;43mdwelling_type\u001b[39;49m\u001b[38;5;124;43m'\u001b[39;49m\u001b[43m,\u001b[49m\u001b[38;5;124;43m'\u001b[39;49m\u001b[38;5;124;43mzoning_type\u001b[39;49m\u001b[38;5;124;43m'\u001b[39;49m\u001b[43m,\u001b[49m\u001b[38;5;124;43m'\u001b[39;49m\u001b[38;5;124;43mstreet_surface\u001b[39;49m\u001b[38;5;124;43m'\u001b[39;49m\u001b[43m,\u001b[49m\u001b[38;5;124;43m'\u001b[39;49m\u001b[38;5;124;43malley_surface\u001b[39;49m\u001b[38;5;124;43m'\u001b[39;49m\u001b[43m,\u001b[49m\u001b[38;5;124;43m'\u001b[39;49m\u001b[38;5;124;43mproperty_shape\u001b[39;49m\u001b[38;5;124;43m'\u001b[39;49m\u001b[43m,\u001b[49m\u001b[38;5;124;43m'\u001b[39;49m\u001b[38;5;124;43mproperty_flatness\u001b[39;49m\u001b[38;5;124;43m'\u001b[39;49m\u001b[43m,\u001b[49m\n\u001b[1;32m      2\u001b[0m \u001b[43m                     \u001b[49m\u001b[38;5;124;43m'\u001b[39;49m\u001b[38;5;124;43mutil_avail\u001b[39;49m\u001b[38;5;124;43m'\u001b[39;49m\u001b[43m,\u001b[49m\u001b[38;5;124;43m'\u001b[39;49m\u001b[38;5;124;43mlot_position\u001b[39;49m\u001b[38;5;124;43m'\u001b[39;49m\u001b[43m,\u001b[49m\u001b[38;5;124;43m'\u001b[39;49m\u001b[38;5;124;43mproperty_slope\u001b[39;49m\u001b[38;5;124;43m'\u001b[39;49m\u001b[43m,\u001b[49m\u001b[38;5;124;43m'\u001b[39;49m\u001b[38;5;124;43mames_neighborhood\u001b[39;49m\u001b[38;5;124;43m'\u001b[39;49m\u001b[43m,\u001b[49m\u001b[38;5;124;43m'\u001b[39;49m\u001b[38;5;124;43mprox_to_transport\u001b[39;49m\u001b[38;5;124;43m'\u001b[39;49m\u001b[43m,\u001b[49m\u001b[38;5;124;43m'\u001b[39;49m\u001b[38;5;124;43mprox_to_transport_2\u001b[39;49m\u001b[38;5;124;43m'\u001b[39;49m\u001b[43m,\u001b[49m\n\u001b[1;32m      3\u001b[0m \u001b[43m                     \u001b[49m\u001b[38;5;124;43m'\u001b[39;49m\u001b[38;5;124;43mbldg_type\u001b[39;49m\u001b[38;5;124;43m'\u001b[39;49m\u001b[43m,\u001b[49m\u001b[43m \u001b[49m\u001b[38;5;124;43m'\u001b[39;49m\u001b[38;5;124;43mfloors\u001b[39;49m\u001b[38;5;124;43m'\u001b[39;49m\u001b[43m,\u001b[49m\u001b[38;5;124;43m'\u001b[39;49m\u001b[38;5;124;43mhouse_quality\u001b[39;49m\u001b[38;5;124;43m'\u001b[39;49m\u001b[43m,\u001b[49m\u001b[38;5;124;43m'\u001b[39;49m\u001b[38;5;124;43mhouse_condition\u001b[39;49m\u001b[38;5;124;43m'\u001b[39;49m\u001b[43m,\u001b[49m\u001b[38;5;124;43m'\u001b[39;49m\u001b[38;5;124;43mroof_style\u001b[39;49m\u001b[38;5;124;43m'\u001b[39;49m\u001b[43m,\u001b[49m\u001b[43m \u001b[49m\u001b[38;5;124;43m'\u001b[39;49m\u001b[38;5;124;43mroof_material\u001b[39;49m\u001b[38;5;124;43m'\u001b[39;49m\u001b[43m,\u001b[49m\u001b[38;5;124;43m'\u001b[39;49m\u001b[38;5;124;43mext_covering\u001b[39;49m\u001b[38;5;124;43m'\u001b[39;49m\u001b[43m,\u001b[49m\u001b[38;5;124;43m'\u001b[39;49m\u001b[38;5;124;43mext_covering2\u001b[39;49m\u001b[38;5;124;43m'\u001b[39;49m\u001b[43m,\u001b[49m\n\u001b[1;32m      4\u001b[0m \u001b[43m                     \u001b[49m\u001b[38;5;124;43m'\u001b[39;49m\u001b[38;5;124;43mmasonry_veneer_type\u001b[39;49m\u001b[38;5;124;43m'\u001b[39;49m\u001b[43m,\u001b[49m\u001b[38;5;124;43m'\u001b[39;49m\u001b[38;5;124;43mfoundation_type\u001b[39;49m\u001b[38;5;124;43m'\u001b[39;49m\u001b[43m,\u001b[49m\u001b[38;5;124;43m'\u001b[39;49m\u001b[38;5;124;43mbasement_walkouts\u001b[39;49m\u001b[38;5;124;43m'\u001b[39;49m\u001b[43m,\u001b[49m\u001b[38;5;124;43m'\u001b[39;49m\u001b[38;5;124;43mbasement_finished_rating\u001b[39;49m\u001b[38;5;124;43m'\u001b[39;49m\u001b[43m,\u001b[49m\u001b[38;5;124;43m'\u001b[39;49m\u001b[38;5;124;43mbasement_finished_rating2\u001b[39;49m\u001b[38;5;124;43m'\u001b[39;49m\u001b[43m,\u001b[49m\n\u001b[1;32m      5\u001b[0m \u001b[43m                    \u001b[49m\u001b[38;5;124;43m'\u001b[39;49m\u001b[38;5;124;43mheating_type\u001b[39;49m\u001b[38;5;124;43m'\u001b[39;49m\u001b[43m,\u001b[49m\u001b[38;5;124;43m'\u001b[39;49m\u001b[38;5;124;43mcentral_air\u001b[39;49m\u001b[38;5;124;43m'\u001b[39;49m\u001b[43m,\u001b[49m\u001b[38;5;124;43m'\u001b[39;49m\u001b[38;5;124;43melectrical_setup\u001b[39;49m\u001b[38;5;124;43m'\u001b[39;49m\u001b[43m,\u001b[49m\u001b[43m \u001b[49m\u001b[38;5;124;43m'\u001b[39;49m\u001b[38;5;124;43mfull_bathrooms_basement\u001b[39;49m\u001b[38;5;124;43m'\u001b[39;49m\u001b[43m,\u001b[49m\u001b[43m \u001b[49m\u001b[38;5;124;43m'\u001b[39;49m\u001b[38;5;124;43mhalf_bathrooms_basement\u001b[39;49m\u001b[38;5;124;43m'\u001b[39;49m\u001b[43m,\u001b[49m\u001b[43m \u001b[49m\u001b[38;5;124;43m'\u001b[39;49m\u001b[38;5;124;43mfull_bathrooms_above_ground\u001b[39;49m\u001b[38;5;124;43m'\u001b[39;49m\u001b[43m,\u001b[49m\n\u001b[1;32m      6\u001b[0m \u001b[43m                     \u001b[49m\u001b[38;5;124;43m'\u001b[39;49m\u001b[38;5;124;43mhalf_bathrooms_above_ground\u001b[39;49m\u001b[38;5;124;43m'\u001b[39;49m\u001b[43m,\u001b[49m\u001b[38;5;124;43m'\u001b[39;49m\u001b[38;5;124;43mbedrooms_above_ground\u001b[39;49m\u001b[38;5;124;43m'\u001b[39;49m\u001b[43m,\u001b[49m\u001b[43m \u001b[49m\u001b[38;5;124;43m'\u001b[39;49m\u001b[38;5;124;43mkitchens_above_ground\u001b[39;49m\u001b[38;5;124;43m'\u001b[39;49m\u001b[43m,\u001b[49m\u001b[43m \u001b[49m\u001b[38;5;124;43m'\u001b[39;49m\u001b[38;5;124;43mhome_functionality\u001b[39;49m\u001b[38;5;124;43m'\u001b[39;49m\u001b[43m,\u001b[49m\n\u001b[1;32m      7\u001b[0m \u001b[43m                    \u001b[49m\u001b[38;5;124;43m'\u001b[39;49m\u001b[38;5;124;43mgarage_location\u001b[39;49m\u001b[38;5;124;43m'\u001b[39;49m\u001b[43m,\u001b[49m\u001b[43m \u001b[49m\u001b[38;5;124;43m'\u001b[39;49m\u001b[38;5;124;43mgarage_finished\u001b[39;49m\u001b[38;5;124;43m'\u001b[39;49m\u001b[43m,\u001b[49m\u001b[43m \u001b[49m\u001b[38;5;124;43m'\u001b[39;49m\u001b[38;5;124;43mgarage_car_capacity\u001b[39;49m\u001b[38;5;124;43m'\u001b[39;49m\u001b[43m,\u001b[49m\u001b[38;5;124;43m'\u001b[39;49m\u001b[38;5;124;43mdriveway_surface\u001b[39;49m\u001b[38;5;124;43m'\u001b[39;49m\u001b[43m,\u001b[49m\u001b[38;5;124;43m'\u001b[39;49m\u001b[38;5;124;43mmisc_features\u001b[39;49m\u001b[38;5;124;43m'\u001b[39;49m\u001b[43m,\u001b[49m\u001b[43m \u001b[49m\u001b[38;5;124;43m'\u001b[39;49m\u001b[38;5;124;43msale_type\u001b[39;49m\u001b[38;5;124;43m'\u001b[39;49m\u001b[43m]\u001b[49m\u001b[43m,\u001b[49m\u001b[43m \u001b[49m\u001b[43mdrop_first\u001b[49m\u001b[43m \u001b[49m\u001b[38;5;241;43m=\u001b[39;49m\u001b[43m \u001b[49m\u001b[38;5;28;43;01mTrue\u001b[39;49;00m\u001b[43m)\u001b[49m         \n\u001b[1;32m      9\u001b[0m test \u001b[38;5;241m=\u001b[39m pd\u001b[38;5;241m.\u001b[39mget_dummies(data \u001b[38;5;241m=\u001b[39m test, columns \u001b[38;5;241m=\u001b[39m [\u001b[38;5;124m'\u001b[39m\u001b[38;5;124mdwelling_type\u001b[39m\u001b[38;5;124m'\u001b[39m,\u001b[38;5;124m'\u001b[39m\u001b[38;5;124mzoning_type\u001b[39m\u001b[38;5;124m'\u001b[39m,\u001b[38;5;124m'\u001b[39m\u001b[38;5;124mstreet_surface\u001b[39m\u001b[38;5;124m'\u001b[39m,\u001b[38;5;124m'\u001b[39m\u001b[38;5;124malley_surface\u001b[39m\u001b[38;5;124m'\u001b[39m,\u001b[38;5;124m'\u001b[39m\u001b[38;5;124mproperty_shape\u001b[39m\u001b[38;5;124m'\u001b[39m,\u001b[38;5;124m'\u001b[39m\u001b[38;5;124mproperty_flatness\u001b[39m\u001b[38;5;124m'\u001b[39m,\n\u001b[1;32m     10\u001b[0m                      \u001b[38;5;124m'\u001b[39m\u001b[38;5;124mutil_avail\u001b[39m\u001b[38;5;124m'\u001b[39m,\u001b[38;5;124m'\u001b[39m\u001b[38;5;124mlot_position\u001b[39m\u001b[38;5;124m'\u001b[39m,\u001b[38;5;124m'\u001b[39m\u001b[38;5;124mproperty_slope\u001b[39m\u001b[38;5;124m'\u001b[39m,\u001b[38;5;124m'\u001b[39m\u001b[38;5;124mames_neighborhood\u001b[39m\u001b[38;5;124m'\u001b[39m,\u001b[38;5;124m'\u001b[39m\u001b[38;5;124mprox_to_transport\u001b[39m\u001b[38;5;124m'\u001b[39m,\u001b[38;5;124m'\u001b[39m\u001b[38;5;124mprox_to_transport_2\u001b[39m\u001b[38;5;124m'\u001b[39m,\n\u001b[1;32m     11\u001b[0m                      \u001b[38;5;124m'\u001b[39m\u001b[38;5;124mbldg_type\u001b[39m\u001b[38;5;124m'\u001b[39m, \u001b[38;5;124m'\u001b[39m\u001b[38;5;124mfloors\u001b[39m\u001b[38;5;124m'\u001b[39m,\u001b[38;5;124m'\u001b[39m\u001b[38;5;124mhouse_quality\u001b[39m\u001b[38;5;124m'\u001b[39m,\u001b[38;5;124m'\u001b[39m\u001b[38;5;124mhouse_condition\u001b[39m\u001b[38;5;124m'\u001b[39m,\u001b[38;5;124m'\u001b[39m\u001b[38;5;124mroof_style\u001b[39m\u001b[38;5;124m'\u001b[39m, \u001b[38;5;124m'\u001b[39m\u001b[38;5;124mroof_material\u001b[39m\u001b[38;5;124m'\u001b[39m,\u001b[38;5;124m'\u001b[39m\u001b[38;5;124mext_covering\u001b[39m\u001b[38;5;124m'\u001b[39m,\u001b[38;5;124m'\u001b[39m\u001b[38;5;124mext_covering2\u001b[39m\u001b[38;5;124m'\u001b[39m,\n\u001b[0;32m   (...)\u001b[0m\n\u001b[1;32m     14\u001b[0m                      \u001b[38;5;124m'\u001b[39m\u001b[38;5;124mhalf_bathrooms_above_ground\u001b[39m\u001b[38;5;124m'\u001b[39m,\u001b[38;5;124m'\u001b[39m\u001b[38;5;124mbedrooms_above_ground\u001b[39m\u001b[38;5;124m'\u001b[39m, \u001b[38;5;124m'\u001b[39m\u001b[38;5;124mkitchens_above_ground\u001b[39m\u001b[38;5;124m'\u001b[39m, \u001b[38;5;124m'\u001b[39m\u001b[38;5;124mhome_functionality\u001b[39m\u001b[38;5;124m'\u001b[39m,\n\u001b[1;32m     15\u001b[0m                     \u001b[38;5;124m'\u001b[39m\u001b[38;5;124mgarage_location\u001b[39m\u001b[38;5;124m'\u001b[39m, \u001b[38;5;124m'\u001b[39m\u001b[38;5;124mgarage_finished\u001b[39m\u001b[38;5;124m'\u001b[39m, \u001b[38;5;124m'\u001b[39m\u001b[38;5;124mgarage_car_capacity\u001b[39m\u001b[38;5;124m'\u001b[39m,\u001b[38;5;124m'\u001b[39m\u001b[38;5;124mdriveway_surface\u001b[39m\u001b[38;5;124m'\u001b[39m,\u001b[38;5;124m'\u001b[39m\u001b[38;5;124mmisc_features\u001b[39m\u001b[38;5;124m'\u001b[39m, \u001b[38;5;124m'\u001b[39m\u001b[38;5;124msale_type\u001b[39m\u001b[38;5;124m'\u001b[39m], drop_first \u001b[38;5;241m=\u001b[39m \u001b[38;5;28;01mTrue\u001b[39;00m)\n",
      "File \u001b[0;32m~/opt/anaconda3/envs/dsi/lib/python3.9/site-packages/pandas/core/reshape/reshape.py:931\u001b[0m, in \u001b[0;36mget_dummies\u001b[0;34m(data, prefix, prefix_sep, dummy_na, columns, sparse, drop_first, dtype)\u001b[0m\n\u001b[1;32m    929\u001b[0m     \u001b[38;5;28;01mraise\u001b[39;00m \u001b[38;5;167;01mTypeError\u001b[39;00m(\u001b[38;5;124m\"\u001b[39m\u001b[38;5;124mInput must be a list-like for parameter `columns`\u001b[39m\u001b[38;5;124m\"\u001b[39m)\n\u001b[1;32m    930\u001b[0m \u001b[38;5;28;01melse\u001b[39;00m:\n\u001b[0;32m--> 931\u001b[0m     data_to_encode \u001b[38;5;241m=\u001b[39m \u001b[43mdata\u001b[49m\u001b[43m[\u001b[49m\u001b[43mcolumns\u001b[49m\u001b[43m]\u001b[49m\n\u001b[1;32m    933\u001b[0m \u001b[38;5;66;03m# validate prefixes and separator to avoid silently dropping cols\u001b[39;00m\n\u001b[1;32m    934\u001b[0m \u001b[38;5;28;01mdef\u001b[39;00m \u001b[38;5;21mcheck_len\u001b[39m(item, name):\n",
      "File \u001b[0;32m~/opt/anaconda3/envs/dsi/lib/python3.9/site-packages/pandas/core/frame.py:3511\u001b[0m, in \u001b[0;36mDataFrame.__getitem__\u001b[0;34m(self, key)\u001b[0m\n\u001b[1;32m   3509\u001b[0m     \u001b[38;5;28;01mif\u001b[39;00m is_iterator(key):\n\u001b[1;32m   3510\u001b[0m         key \u001b[38;5;241m=\u001b[39m \u001b[38;5;28mlist\u001b[39m(key)\n\u001b[0;32m-> 3511\u001b[0m     indexer \u001b[38;5;241m=\u001b[39m \u001b[38;5;28;43mself\u001b[39;49m\u001b[38;5;241;43m.\u001b[39;49m\u001b[43mcolumns\u001b[49m\u001b[38;5;241;43m.\u001b[39;49m\u001b[43m_get_indexer_strict\u001b[49m\u001b[43m(\u001b[49m\u001b[43mkey\u001b[49m\u001b[43m,\u001b[49m\u001b[43m \u001b[49m\u001b[38;5;124;43m\"\u001b[39;49m\u001b[38;5;124;43mcolumns\u001b[39;49m\u001b[38;5;124;43m\"\u001b[39;49m\u001b[43m)\u001b[49m[\u001b[38;5;241m1\u001b[39m]\n\u001b[1;32m   3513\u001b[0m \u001b[38;5;66;03m# take() does not accept boolean indexers\u001b[39;00m\n\u001b[1;32m   3514\u001b[0m \u001b[38;5;28;01mif\u001b[39;00m \u001b[38;5;28mgetattr\u001b[39m(indexer, \u001b[38;5;124m\"\u001b[39m\u001b[38;5;124mdtype\u001b[39m\u001b[38;5;124m\"\u001b[39m, \u001b[38;5;28;01mNone\u001b[39;00m) \u001b[38;5;241m==\u001b[39m \u001b[38;5;28mbool\u001b[39m:\n",
      "File \u001b[0;32m~/opt/anaconda3/envs/dsi/lib/python3.9/site-packages/pandas/core/indexes/base.py:5782\u001b[0m, in \u001b[0;36mIndex._get_indexer_strict\u001b[0;34m(self, key, axis_name)\u001b[0m\n\u001b[1;32m   5779\u001b[0m \u001b[38;5;28;01melse\u001b[39;00m:\n\u001b[1;32m   5780\u001b[0m     keyarr, indexer, new_indexer \u001b[38;5;241m=\u001b[39m \u001b[38;5;28mself\u001b[39m\u001b[38;5;241m.\u001b[39m_reindex_non_unique(keyarr)\n\u001b[0;32m-> 5782\u001b[0m \u001b[38;5;28;43mself\u001b[39;49m\u001b[38;5;241;43m.\u001b[39;49m\u001b[43m_raise_if_missing\u001b[49m\u001b[43m(\u001b[49m\u001b[43mkeyarr\u001b[49m\u001b[43m,\u001b[49m\u001b[43m \u001b[49m\u001b[43mindexer\u001b[49m\u001b[43m,\u001b[49m\u001b[43m \u001b[49m\u001b[43maxis_name\u001b[49m\u001b[43m)\u001b[49m\n\u001b[1;32m   5784\u001b[0m keyarr \u001b[38;5;241m=\u001b[39m \u001b[38;5;28mself\u001b[39m\u001b[38;5;241m.\u001b[39mtake(indexer)\n\u001b[1;32m   5785\u001b[0m \u001b[38;5;28;01mif\u001b[39;00m \u001b[38;5;28misinstance\u001b[39m(key, Index):\n\u001b[1;32m   5786\u001b[0m     \u001b[38;5;66;03m# GH 42790 - Preserve name from an Index\u001b[39;00m\n",
      "File \u001b[0;32m~/opt/anaconda3/envs/dsi/lib/python3.9/site-packages/pandas/core/indexes/base.py:5842\u001b[0m, in \u001b[0;36mIndex._raise_if_missing\u001b[0;34m(self, key, indexer, axis_name)\u001b[0m\n\u001b[1;32m   5840\u001b[0m     \u001b[38;5;28;01mif\u001b[39;00m use_interval_msg:\n\u001b[1;32m   5841\u001b[0m         key \u001b[38;5;241m=\u001b[39m \u001b[38;5;28mlist\u001b[39m(key)\n\u001b[0;32m-> 5842\u001b[0m     \u001b[38;5;28;01mraise\u001b[39;00m \u001b[38;5;167;01mKeyError\u001b[39;00m(\u001b[38;5;124mf\u001b[39m\u001b[38;5;124m\"\u001b[39m\u001b[38;5;124mNone of [\u001b[39m\u001b[38;5;132;01m{\u001b[39;00mkey\u001b[38;5;132;01m}\u001b[39;00m\u001b[38;5;124m] are in the [\u001b[39m\u001b[38;5;132;01m{\u001b[39;00maxis_name\u001b[38;5;132;01m}\u001b[39;00m\u001b[38;5;124m]\u001b[39m\u001b[38;5;124m\"\u001b[39m)\n\u001b[1;32m   5844\u001b[0m not_found \u001b[38;5;241m=\u001b[39m \u001b[38;5;28mlist\u001b[39m(ensure_index(key)[missing_mask\u001b[38;5;241m.\u001b[39mnonzero()[\u001b[38;5;241m0\u001b[39m]]\u001b[38;5;241m.\u001b[39munique())\n\u001b[1;32m   5845\u001b[0m \u001b[38;5;28;01mraise\u001b[39;00m \u001b[38;5;167;01mKeyError\u001b[39;00m(\u001b[38;5;124mf\u001b[39m\u001b[38;5;124m\"\u001b[39m\u001b[38;5;132;01m{\u001b[39;00mnot_found\u001b[38;5;132;01m}\u001b[39;00m\u001b[38;5;124m not in index\u001b[39m\u001b[38;5;124m\"\u001b[39m)\n",
      "\u001b[0;31mKeyError\u001b[0m: \"None of [Index(['dwelling_type', 'zoning_type', 'street_surface', 'alley_surface',\\n       'property_shape', 'property_flatness', 'util_avail', 'lot_position',\\n       'property_slope', 'ames_neighborhood', 'prox_to_transport',\\n       'prox_to_transport_2', 'bldg_type', 'floors', 'house_quality',\\n       'house_condition', 'roof_style', 'roof_material', 'ext_covering',\\n       'ext_covering2', 'masonry_veneer_type', 'foundation_type',\\n       'basement_walkouts', 'basement_finished_rating',\\n       'basement_finished_rating2', 'heating_type', 'central_air',\\n       'electrical_setup', 'full_bathrooms_basement',\\n       'half_bathrooms_basement', 'full_bathrooms_above_ground',\\n       'half_bathrooms_above_ground', 'bedrooms_above_ground',\\n       'kitchens_above_ground', 'home_functionality', 'garage_location',\\n       'garage_finished', 'garage_car_capacity', 'driveway_surface',\\n       'misc_features', 'sale_type'],\\n      dtype='object')] are in the [columns]\""
     ]
    }
   ],
   "source": [
    "train = pd.get_dummies(data = train, columns = ['dwelling_type','zoning_type','street_surface','alley_surface','property_shape','property_flatness',\n",
    "                     'util_avail','lot_position','property_slope','ames_neighborhood','prox_to_transport','prox_to_transport_2',\n",
    "                     'bldg_type', 'floors','house_quality','house_condition','roof_style', 'roof_material','ext_covering','ext_covering2',\n",
    "                     'masonry_veneer_type','foundation_type','basement_walkouts','basement_finished_rating','basement_finished_rating2',\n",
    "                    'heating_type','central_air','electrical_setup', 'full_bathrooms_basement', 'half_bathrooms_basement', 'full_bathrooms_above_ground',\n",
    "                     'half_bathrooms_above_ground','bedrooms_above_ground', 'kitchens_above_ground', 'home_functionality',\n",
    "                    'garage_location', 'garage_finished', 'garage_car_capacity','driveway_surface','misc_features', 'sale_type'], drop_first = True)         \n",
    "\n",
    "test = pd.get_dummies(data = test, columns = ['dwelling_type','zoning_type','street_surface','alley_surface','property_shape','property_flatness',\n",
    "                     'util_avail','lot_position','property_slope','ames_neighborhood','prox_to_transport','prox_to_transport_2',\n",
    "                     'bldg_type', 'floors','house_quality','house_condition','roof_style', 'roof_material','ext_covering','ext_covering2',\n",
    "                     'masonry_veneer_type','foundation_type','basement_walkouts','basement_finished_rating','basement_finished_rating2',\n",
    "                    'heating_type','central_air','electrical_setup', 'full_bathrooms_basement', 'half_bathrooms_basement', 'full_bathrooms_above_ground',\n",
    "                     'half_bathrooms_above_ground','bedrooms_above_ground', 'kitchens_above_ground', 'home_functionality',\n",
    "                    'garage_location', 'garage_finished', 'garage_car_capacity','driveway_surface','misc_features', 'sale_type'], drop_first = True)"
   ]
  },
  {
   "cell_type": "code",
   "execution_count": 211,
   "id": "97ed2ebe-adf9-4190-a4cd-cbc2f0378744",
   "metadata": {},
   "outputs": [
    {
     "name": "stdout",
     "output_type": "stream",
     "text": [
      "(1272, 245)\n"
     ]
    },
    {
     "data": {
      "text/html": [
       "<div>\n",
       "<style scoped>\n",
       "    .dataframe tbody tr th:only-of-type {\n",
       "        vertical-align: middle;\n",
       "    }\n",
       "\n",
       "    .dataframe tbody tr th {\n",
       "        vertical-align: top;\n",
       "    }\n",
       "\n",
       "    .dataframe thead th {\n",
       "        text-align: right;\n",
       "    }\n",
       "</style>\n",
       "<table border=\"1\" class=\"dataframe\">\n",
       "  <thead>\n",
       "    <tr style=\"text-align: right;\">\n",
       "      <th></th>\n",
       "      <th>Id</th>\n",
       "      <th>parcel_id</th>\n",
       "      <th>lot_frontage</th>\n",
       "      <th>lot_area</th>\n",
       "      <th>year_built</th>\n",
       "      <th>year_remodeled</th>\n",
       "      <th>masonry_veneer_area</th>\n",
       "      <th>exterior_quality</th>\n",
       "      <th>exterior_condition</th>\n",
       "      <th>basement_height</th>\n",
       "      <th>...</th>\n",
       "      <th>misc_features_Shed</th>\n",
       "      <th>misc_features_nan</th>\n",
       "      <th>sale_type_CWD</th>\n",
       "      <th>sale_type_Con</th>\n",
       "      <th>sale_type_ConLD</th>\n",
       "      <th>sale_type_ConLI</th>\n",
       "      <th>sale_type_ConLw</th>\n",
       "      <th>sale_type_New</th>\n",
       "      <th>sale_type_Oth</th>\n",
       "      <th>sale_type_WD</th>\n",
       "    </tr>\n",
       "  </thead>\n",
       "  <tbody>\n",
       "    <tr>\n",
       "      <th>0</th>\n",
       "      <td>544</td>\n",
       "      <td>531379050</td>\n",
       "      <td>43.0</td>\n",
       "      <td>11492.0</td>\n",
       "      <td>1996</td>\n",
       "      <td>1997</td>\n",
       "      <td>132.0</td>\n",
       "      <td>3</td>\n",
       "      <td>2</td>\n",
       "      <td>4</td>\n",
       "      <td>...</td>\n",
       "      <td>0</td>\n",
       "      <td>1</td>\n",
       "      <td>0</td>\n",
       "      <td>0</td>\n",
       "      <td>0</td>\n",
       "      <td>0</td>\n",
       "      <td>0</td>\n",
       "      <td>0</td>\n",
       "      <td>0</td>\n",
       "      <td>1</td>\n",
       "    </tr>\n",
       "  </tbody>\n",
       "</table>\n",
       "<p>1 rows × 245 columns</p>\n",
       "</div>"
      ],
      "text/plain": [
       "    Id  parcel_id  lot_frontage  lot_area  year_built  year_remodeled  \\\n",
       "0  544  531379050          43.0   11492.0        1996            1997   \n",
       "\n",
       "   masonry_veneer_area  exterior_quality  exterior_condition  basement_height  \\\n",
       "0                132.0                 3                   2                4   \n",
       "\n",
       "   ...  misc_features_Shed  misc_features_nan  sale_type_CWD  sale_type_Con  \\\n",
       "0  ...                   0                  1              0              0   \n",
       "\n",
       "   sale_type_ConLD  sale_type_ConLI  sale_type_ConLw  sale_type_New  \\\n",
       "0                0                0                0              0   \n",
       "\n",
       "   sale_type_Oth  sale_type_WD   \n",
       "0              0              1  \n",
       "\n",
       "[1 rows x 245 columns]"
      ]
     },
     "execution_count": 211,
     "metadata": {},
     "output_type": "execute_result"
    }
   ],
   "source": [
    "print(train.shape)\n",
    "train.head(1)"
   ]
  },
  {
   "cell_type": "markdown",
   "id": "46ca346f-6a7e-4801-969e-3fb19297b9b9",
   "metadata": {},
   "source": [
    "------\n",
    "## **Model 6**: Binarized all remaining categorical columms"
   ]
  },
  {
   "cell_type": "code",
   "execution_count": 212,
   "id": "c213ee8b-a82e-4649-8bf6-d1ccc828f3a2",
   "metadata": {},
   "outputs": [
    {
     "ename": "KeyError",
     "evalue": "\"['zoning_type_I (all)', 'util_avail_NoSewr', 'ames_neighborhood_BrDale', 'prox_to_transport_2_PosA', 'floors_2.5Fin', 'roof_material_Metal', 'roof_material_Roll', 'roof_material_WdShngl', 'ext_covering_AsphShn', 'ext_covering_PreCast', 'ext_covering2_Other', 'ext_covering2_PreCast', 'masonry_veneer_type_CBlock', 'masonry_veneer_type_nan', 'foundation_type_Slab', 'basement_finished_rating_nan', 'basement_finished_rating2_nan', 'heating_type_GasA', 'full_bathrooms_above_ground_4', 'kitchens_above_ground_1', 'garage_finished_nan', 'garage_car_capacity_1', 'sale_type_VWD'] not in index\"",
     "output_type": "error",
     "traceback": [
      "\u001b[0;31m---------------------------------------------------------------------------\u001b[0m",
      "\u001b[0;31mKeyError\u001b[0m                                  Traceback (most recent call last)",
      "Input \u001b[0;32mIn [212]\u001b[0m, in \u001b[0;36m<cell line: 3>\u001b[0;34m()\u001b[0m\n\u001b[1;32m      1\u001b[0m features \u001b[38;5;241m=\u001b[39m [col \u001b[38;5;28;01mfor\u001b[39;00m col \u001b[38;5;129;01min\u001b[39;00m test\u001b[38;5;241m.\u001b[39m_get_numeric_data()\u001b[38;5;241m.\u001b[39mcolumns \u001b[38;5;28;01mif\u001b[39;00m col \u001b[38;5;241m!=\u001b[39m \u001b[38;5;124m'\u001b[39m\u001b[38;5;124mSalePrice\u001b[39m\u001b[38;5;124m'\u001b[39m \u001b[38;5;129;01mand\u001b[39;00m test[col]\u001b[38;5;241m.\u001b[39misnull()\u001b[38;5;241m.\u001b[39msum() \u001b[38;5;241m==\u001b[39m \u001b[38;5;241m0\u001b[39m]\n\u001b[0;32m----> 3\u001b[0m X \u001b[38;5;241m=\u001b[39m \u001b[43mtrain\u001b[49m\u001b[43m[\u001b[49m\u001b[43mfeatures\u001b[49m\u001b[43m]\u001b[49m\n\u001b[1;32m      4\u001b[0m y \u001b[38;5;241m=\u001b[39m train[\u001b[38;5;124m'\u001b[39m\u001b[38;5;124mSalePrice\u001b[39m\u001b[38;5;124m'\u001b[39m]\n\u001b[1;32m      6\u001b[0m X_train, X_test, y_train, y_test \u001b[38;5;241m=\u001b[39m train_test_split(X, y, random_state\u001b[38;5;241m=\u001b[39m\u001b[38;5;241m42\u001b[39m)\n",
      "File \u001b[0;32m~/opt/anaconda3/envs/dsi/lib/python3.9/site-packages/pandas/core/frame.py:3511\u001b[0m, in \u001b[0;36mDataFrame.__getitem__\u001b[0;34m(self, key)\u001b[0m\n\u001b[1;32m   3509\u001b[0m     \u001b[38;5;28;01mif\u001b[39;00m is_iterator(key):\n\u001b[1;32m   3510\u001b[0m         key \u001b[38;5;241m=\u001b[39m \u001b[38;5;28mlist\u001b[39m(key)\n\u001b[0;32m-> 3511\u001b[0m     indexer \u001b[38;5;241m=\u001b[39m \u001b[38;5;28;43mself\u001b[39;49m\u001b[38;5;241;43m.\u001b[39;49m\u001b[43mcolumns\u001b[49m\u001b[38;5;241;43m.\u001b[39;49m\u001b[43m_get_indexer_strict\u001b[49m\u001b[43m(\u001b[49m\u001b[43mkey\u001b[49m\u001b[43m,\u001b[49m\u001b[43m \u001b[49m\u001b[38;5;124;43m\"\u001b[39;49m\u001b[38;5;124;43mcolumns\u001b[39;49m\u001b[38;5;124;43m\"\u001b[39;49m\u001b[43m)\u001b[49m[\u001b[38;5;241m1\u001b[39m]\n\u001b[1;32m   3513\u001b[0m \u001b[38;5;66;03m# take() does not accept boolean indexers\u001b[39;00m\n\u001b[1;32m   3514\u001b[0m \u001b[38;5;28;01mif\u001b[39;00m \u001b[38;5;28mgetattr\u001b[39m(indexer, \u001b[38;5;124m\"\u001b[39m\u001b[38;5;124mdtype\u001b[39m\u001b[38;5;124m\"\u001b[39m, \u001b[38;5;28;01mNone\u001b[39;00m) \u001b[38;5;241m==\u001b[39m \u001b[38;5;28mbool\u001b[39m:\n",
      "File \u001b[0;32m~/opt/anaconda3/envs/dsi/lib/python3.9/site-packages/pandas/core/indexes/base.py:5782\u001b[0m, in \u001b[0;36mIndex._get_indexer_strict\u001b[0;34m(self, key, axis_name)\u001b[0m\n\u001b[1;32m   5779\u001b[0m \u001b[38;5;28;01melse\u001b[39;00m:\n\u001b[1;32m   5780\u001b[0m     keyarr, indexer, new_indexer \u001b[38;5;241m=\u001b[39m \u001b[38;5;28mself\u001b[39m\u001b[38;5;241m.\u001b[39m_reindex_non_unique(keyarr)\n\u001b[0;32m-> 5782\u001b[0m \u001b[38;5;28;43mself\u001b[39;49m\u001b[38;5;241;43m.\u001b[39;49m\u001b[43m_raise_if_missing\u001b[49m\u001b[43m(\u001b[49m\u001b[43mkeyarr\u001b[49m\u001b[43m,\u001b[49m\u001b[43m \u001b[49m\u001b[43mindexer\u001b[49m\u001b[43m,\u001b[49m\u001b[43m \u001b[49m\u001b[43maxis_name\u001b[49m\u001b[43m)\u001b[49m\n\u001b[1;32m   5784\u001b[0m keyarr \u001b[38;5;241m=\u001b[39m \u001b[38;5;28mself\u001b[39m\u001b[38;5;241m.\u001b[39mtake(indexer)\n\u001b[1;32m   5785\u001b[0m \u001b[38;5;28;01mif\u001b[39;00m \u001b[38;5;28misinstance\u001b[39m(key, Index):\n\u001b[1;32m   5786\u001b[0m     \u001b[38;5;66;03m# GH 42790 - Preserve name from an Index\u001b[39;00m\n",
      "File \u001b[0;32m~/opt/anaconda3/envs/dsi/lib/python3.9/site-packages/pandas/core/indexes/base.py:5845\u001b[0m, in \u001b[0;36mIndex._raise_if_missing\u001b[0;34m(self, key, indexer, axis_name)\u001b[0m\n\u001b[1;32m   5842\u001b[0m     \u001b[38;5;28;01mraise\u001b[39;00m \u001b[38;5;167;01mKeyError\u001b[39;00m(\u001b[38;5;124mf\u001b[39m\u001b[38;5;124m\"\u001b[39m\u001b[38;5;124mNone of [\u001b[39m\u001b[38;5;132;01m{\u001b[39;00mkey\u001b[38;5;132;01m}\u001b[39;00m\u001b[38;5;124m] are in the [\u001b[39m\u001b[38;5;132;01m{\u001b[39;00maxis_name\u001b[38;5;132;01m}\u001b[39;00m\u001b[38;5;124m]\u001b[39m\u001b[38;5;124m\"\u001b[39m)\n\u001b[1;32m   5844\u001b[0m not_found \u001b[38;5;241m=\u001b[39m \u001b[38;5;28mlist\u001b[39m(ensure_index(key)[missing_mask\u001b[38;5;241m.\u001b[39mnonzero()[\u001b[38;5;241m0\u001b[39m]]\u001b[38;5;241m.\u001b[39munique())\n\u001b[0;32m-> 5845\u001b[0m \u001b[38;5;28;01mraise\u001b[39;00m \u001b[38;5;167;01mKeyError\u001b[39;00m(\u001b[38;5;124mf\u001b[39m\u001b[38;5;124m\"\u001b[39m\u001b[38;5;132;01m{\u001b[39;00mnot_found\u001b[38;5;132;01m}\u001b[39;00m\u001b[38;5;124m not in index\u001b[39m\u001b[38;5;124m\"\u001b[39m)\n",
      "\u001b[0;31mKeyError\u001b[0m: \"['zoning_type_I (all)', 'util_avail_NoSewr', 'ames_neighborhood_BrDale', 'prox_to_transport_2_PosA', 'floors_2.5Fin', 'roof_material_Metal', 'roof_material_Roll', 'roof_material_WdShngl', 'ext_covering_AsphShn', 'ext_covering_PreCast', 'ext_covering2_Other', 'ext_covering2_PreCast', 'masonry_veneer_type_CBlock', 'masonry_veneer_type_nan', 'foundation_type_Slab', 'basement_finished_rating_nan', 'basement_finished_rating2_nan', 'heating_type_GasA', 'full_bathrooms_above_ground_4', 'kitchens_above_ground_1', 'garage_finished_nan', 'garage_car_capacity_1', 'sale_type_VWD'] not in index\""
     ]
    }
   ],
   "source": [
    "features = [col for col in test._get_numeric_data().columns if col != 'SalePrice' and test[col].isnull().sum() == 0]\n",
    "\n",
    "X = train[features]\n",
    "y = train['SalePrice']\n",
    "\n",
    "X_train, X_test, y_train, y_test = train_test_split(X, y, random_state=42)\n",
    "\n",
    "print(f'Training Shape: {X_train.shape, y_train.shape}')\n",
    "print(f'Test Shape: {X_test.shape, y_test.shape}')\n",
    "\n",
    "lr = LinearRegression()\n",
    "lr.fit(X_train, y_train)\n",
    "\n",
    "#Training Score\n",
    "print(f'Training Score: {lr.score(X_train, y_train)}')\n",
    "#Test Score\n",
    "print(f'Test Score: {lr.score(X_test, y_test)}')"
   ]
  },
  {
   "cell_type": "code",
   "execution_count": null,
   "id": "5b64722d-088e-4d7a-927c-5477365f5f32",
   "metadata": {},
   "outputs": [],
   "source": [
    "# Make predictions on test data\n",
    "preds = lr.predict(test[features])\n",
    "\n",
    "preds.shape"
   ]
  },
  {
   "cell_type": "code",
   "execution_count": null,
   "id": "ce33874e-49b4-43b7-b2f2-a888cbddeda7",
   "metadata": {},
   "outputs": [],
   "source": [
    "# Cross Val Score to evaluate model\n",
    "cross_val_score(lr, X_train, y_train).mean()"
   ]
  },
  {
   "cell_type": "code",
   "execution_count": null,
   "id": "ed4d4235-25fb-4e16-bd17-46b969ddef31",
   "metadata": {},
   "outputs": [],
   "source": [
    "# add sale price column to test data set based on model\n",
    "test['SalePrice'] = preds\n",
    "\n",
    "# Create Data Frame with only Id and SalePrice\n",
    "all_features_binarized = test[['Id', 'SalePrice']]\n",
    "\n",
    "# set index for new DF\n",
    "all_features_binarized.set_index('Id', inplace=True)\n",
    "all_features_binarized.head()\n",
    "\n",
    "# save submission\n",
    "all_features_binarized.to_csv('../data/all_features_binarized.csv')"
   ]
  },
  {
   "cell_type": "markdown",
   "id": "501c137e-97ba-444b-9208-fc506d3c6318",
   "metadata": {},
   "source": [
    "------"
   ]
  },
  {
   "cell_type": "code",
   "execution_count": null,
   "id": "b75b085a-846c-4cb9-8190-49ebfe3db517",
   "metadata": {},
   "outputs": [],
   "source": []
  },
  {
   "cell_type": "code",
   "execution_count": null,
   "id": "60c76173-9f6c-46fe-84d1-03f725c93602",
   "metadata": {},
   "outputs": [],
   "source": [
    "# candidates for interaction features or dropping collinear?\n",
    "house & exterior & garage - - quality/condition\n",
    "'basement_height', 'basement_condition'\n",
    "\n",
    "# collinear?\n",
    "# check with correlation/plot if 90 or greater, drop 1 of them that's less correlated with price\n",
    "droppping one of the quality / condition ones"
   ]
  },
  {
   "cell_type": "code",
   "execution_count": null,
   "id": "146b7006-63c9-46cd-a849-26685652d063",
   "metadata": {},
   "outputs": [],
   "source": [
    "# comparing correlations of all categorical features to target \n",
    "train.corr()[['sale_price']].sort_values(by = 'sale_price', ascending=False)"
   ]
  },
  {
   "cell_type": "code",
   "execution_count": 9,
   "id": "c516c51f-2ae9-49ef-8855-8d12497409b8",
   "metadata": {},
   "outputs": [],
   "source": [
    "# at this point save a version to model with to try all features\n",
    "# also save model after before each (combining, interaction, dropping) - run all features through after each to see if any improvement"
   ]
  },
  {
   "cell_type": "markdown",
   "id": "4bce57c3-c273-46a5-b396-07e85457d435",
   "metadata": {},
   "source": [
    "------\n",
    "### *Combining Features*"
   ]
  },
  {
   "cell_type": "code",
   "execution_count": 8,
   "id": "80bcfe0a-544b-4317-888f-732ee7424e6e",
   "metadata": {},
   "outputs": [],
   "source": [
    "# combine bedrooms\n",
    "# combine bathrooms\n",
    "# combine kitchens (above and below ground)\n",
    "# combine area of home (finished below and above)"
   ]
  },
  {
   "cell_type": "code",
   "execution_count": null,
   "id": "a5119358-3959-4d50-baf2-86fc58cf3775",
   "metadata": {},
   "outputs": [],
   "source": []
  },
  {
   "cell_type": "markdown",
   "id": "88bfffe4-3984-436a-9600-2e59d787f96c",
   "metadata": {},
   "source": [
    "### *Interaction Terms*"
   ]
  },
  {
   "cell_type": "code",
   "execution_count": null,
   "id": "a4ff601f-0355-4bd3-814b-f8ab86548924",
   "metadata": {},
   "outputs": [],
   "source": []
  },
  {
   "cell_type": "code",
   "execution_count": null,
   "id": "91dcb67c-c20d-431e-8f2d-4f4ba709f15e",
   "metadata": {},
   "outputs": [],
   "source": []
  },
  {
   "cell_type": "markdown",
   "id": "838bdf67-babb-4fd4-bb14-2ae2b8847ff1",
   "metadata": {},
   "source": [
    "### *Dropping Collinear Features*"
   ]
  },
  {
   "cell_type": "code",
   "execution_count": null,
   "id": "d4e12cf7-77f0-4074-8277-fa5329b31978",
   "metadata": {},
   "outputs": [],
   "source": []
  },
  {
   "cell_type": "code",
   "execution_count": null,
   "id": "08d3703b-6d92-46f0-ac2e-38bc234c3a29",
   "metadata": {},
   "outputs": [],
   "source": []
  },
  {
   "cell_type": "code",
   "execution_count": null,
   "id": "8a7ddddc-bf9d-4619-a450-2b9c1d00aa99",
   "metadata": {},
   "outputs": [],
   "source": []
  },
  {
   "cell_type": "code",
   "execution_count": null,
   "id": "e2f7d74d-da93-4829-8208-8e40e6c744a1",
   "metadata": {},
   "outputs": [],
   "source": [
    "# for exploration and modelling\n",
    "#1) run model where all features includes - X = df.drop(columns = 'SalesPrice')\n",
    "\n",
    "# Three different way to create X:\n",
    "#X = ads[['TV', 'radio', 'newspaper']]\n",
    "\n",
    "#X = ads.drop(columns = ['sales']) # recommended with high dimensional datasets\n",
    "\n",
    "model without feature engineering, interaction terms, dropping collinear features manually for all variables"
   ]
  }
 ],
 "metadata": {
  "kernelspec": {
   "display_name": "Python [conda env:dsi]",
   "language": "python",
   "name": "conda-env-dsi-py"
  },
  "language_info": {
   "codemirror_mode": {
    "name": "ipython",
    "version": 3
   },
   "file_extension": ".py",
   "mimetype": "text/x-python",
   "name": "python",
   "nbconvert_exporter": "python",
   "pygments_lexer": "ipython3",
   "version": "3.9.12"
  }
 },
 "nbformat": 4,
 "nbformat_minor": 5
}
