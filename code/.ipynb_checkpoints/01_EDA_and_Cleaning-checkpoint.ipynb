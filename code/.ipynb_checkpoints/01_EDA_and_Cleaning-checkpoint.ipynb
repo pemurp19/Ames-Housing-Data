{
 "cells": [
  {
   "cell_type": "markdown",
   "id": "f9e9e30b-9ee5-427d-a528-11b059425afa",
   "metadata": {},
   "source": [
    "# **EDA and Cleaning Train CSV**\n",
    "\n"
   ]
  },
  {
   "cell_type": "markdown",
   "id": "cbba978c-9b9c-40ab-a179-c65bb69a20e5",
   "metadata": {},
   "source": [
    "### **Imports**\n",
    "---"
   ]
  },
  {
   "cell_type": "code",
   "execution_count": 669,
   "id": "b08a77fe-2d91-4c12-8ca5-25ec646355e7",
   "metadata": {},
   "outputs": [],
   "source": [
    "import pandas as pd\n",
    "import numpy as np\n",
    "import matplotlib.pyplot as plt\n",
    "import seaborn as sns"
   ]
  },
  {
   "cell_type": "markdown",
   "id": "54db988a-b436-4e93-a7b3-1693247dae5c",
   "metadata": {},
   "source": [
    "### **Load the data**\n",
    "-----"
   ]
  },
  {
   "cell_type": "code",
   "execution_count": 670,
   "id": "c7605a5f-5ab7-4d2a-a6f5-34b349d64037",
   "metadata": {},
   "outputs": [
    {
     "data": {
      "text/html": [
       "<div>\n",
       "<style scoped>\n",
       "    .dataframe tbody tr th:only-of-type {\n",
       "        vertical-align: middle;\n",
       "    }\n",
       "\n",
       "    .dataframe tbody tr th {\n",
       "        vertical-align: top;\n",
       "    }\n",
       "\n",
       "    .dataframe thead th {\n",
       "        text-align: right;\n",
       "    }\n",
       "</style>\n",
       "<table border=\"1\" class=\"dataframe\">\n",
       "  <thead>\n",
       "    <tr style=\"text-align: right;\">\n",
       "      <th></th>\n",
       "      <th>Id</th>\n",
       "      <th>PID</th>\n",
       "      <th>MS SubClass</th>\n",
       "      <th>MS Zoning</th>\n",
       "      <th>Lot Frontage</th>\n",
       "      <th>Lot Area</th>\n",
       "      <th>Street</th>\n",
       "      <th>Alley</th>\n",
       "      <th>Lot Shape</th>\n",
       "      <th>Land Contour</th>\n",
       "      <th>...</th>\n",
       "      <th>Screen Porch</th>\n",
       "      <th>Pool Area</th>\n",
       "      <th>Pool QC</th>\n",
       "      <th>Fence</th>\n",
       "      <th>Misc Feature</th>\n",
       "      <th>Misc Val</th>\n",
       "      <th>Mo Sold</th>\n",
       "      <th>Yr Sold</th>\n",
       "      <th>Sale Type</th>\n",
       "      <th>SalePrice</th>\n",
       "    </tr>\n",
       "  </thead>\n",
       "  <tbody>\n",
       "    <tr>\n",
       "      <th>0</th>\n",
       "      <td>109</td>\n",
       "      <td>533352170</td>\n",
       "      <td>60</td>\n",
       "      <td>RL</td>\n",
       "      <td>NaN</td>\n",
       "      <td>13517</td>\n",
       "      <td>Pave</td>\n",
       "      <td>NaN</td>\n",
       "      <td>IR1</td>\n",
       "      <td>Lvl</td>\n",
       "      <td>...</td>\n",
       "      <td>0</td>\n",
       "      <td>0</td>\n",
       "      <td>NaN</td>\n",
       "      <td>NaN</td>\n",
       "      <td>NaN</td>\n",
       "      <td>0</td>\n",
       "      <td>3</td>\n",
       "      <td>2010</td>\n",
       "      <td>WD</td>\n",
       "      <td>130500</td>\n",
       "    </tr>\n",
       "    <tr>\n",
       "      <th>1</th>\n",
       "      <td>544</td>\n",
       "      <td>531379050</td>\n",
       "      <td>60</td>\n",
       "      <td>RL</td>\n",
       "      <td>43.0</td>\n",
       "      <td>11492</td>\n",
       "      <td>Pave</td>\n",
       "      <td>NaN</td>\n",
       "      <td>IR1</td>\n",
       "      <td>Lvl</td>\n",
       "      <td>...</td>\n",
       "      <td>0</td>\n",
       "      <td>0</td>\n",
       "      <td>NaN</td>\n",
       "      <td>NaN</td>\n",
       "      <td>NaN</td>\n",
       "      <td>0</td>\n",
       "      <td>4</td>\n",
       "      <td>2009</td>\n",
       "      <td>WD</td>\n",
       "      <td>220000</td>\n",
       "    </tr>\n",
       "    <tr>\n",
       "      <th>2</th>\n",
       "      <td>153</td>\n",
       "      <td>535304180</td>\n",
       "      <td>20</td>\n",
       "      <td>RL</td>\n",
       "      <td>68.0</td>\n",
       "      <td>7922</td>\n",
       "      <td>Pave</td>\n",
       "      <td>NaN</td>\n",
       "      <td>Reg</td>\n",
       "      <td>Lvl</td>\n",
       "      <td>...</td>\n",
       "      <td>0</td>\n",
       "      <td>0</td>\n",
       "      <td>NaN</td>\n",
       "      <td>NaN</td>\n",
       "      <td>NaN</td>\n",
       "      <td>0</td>\n",
       "      <td>1</td>\n",
       "      <td>2010</td>\n",
       "      <td>WD</td>\n",
       "      <td>109000</td>\n",
       "    </tr>\n",
       "    <tr>\n",
       "      <th>3</th>\n",
       "      <td>318</td>\n",
       "      <td>916386060</td>\n",
       "      <td>60</td>\n",
       "      <td>RL</td>\n",
       "      <td>73.0</td>\n",
       "      <td>9802</td>\n",
       "      <td>Pave</td>\n",
       "      <td>NaN</td>\n",
       "      <td>Reg</td>\n",
       "      <td>Lvl</td>\n",
       "      <td>...</td>\n",
       "      <td>0</td>\n",
       "      <td>0</td>\n",
       "      <td>NaN</td>\n",
       "      <td>NaN</td>\n",
       "      <td>NaN</td>\n",
       "      <td>0</td>\n",
       "      <td>4</td>\n",
       "      <td>2010</td>\n",
       "      <td>WD</td>\n",
       "      <td>174000</td>\n",
       "    </tr>\n",
       "    <tr>\n",
       "      <th>4</th>\n",
       "      <td>255</td>\n",
       "      <td>906425045</td>\n",
       "      <td>50</td>\n",
       "      <td>RL</td>\n",
       "      <td>82.0</td>\n",
       "      <td>14235</td>\n",
       "      <td>Pave</td>\n",
       "      <td>NaN</td>\n",
       "      <td>IR1</td>\n",
       "      <td>Lvl</td>\n",
       "      <td>...</td>\n",
       "      <td>0</td>\n",
       "      <td>0</td>\n",
       "      <td>NaN</td>\n",
       "      <td>NaN</td>\n",
       "      <td>NaN</td>\n",
       "      <td>0</td>\n",
       "      <td>3</td>\n",
       "      <td>2010</td>\n",
       "      <td>WD</td>\n",
       "      <td>138500</td>\n",
       "    </tr>\n",
       "  </tbody>\n",
       "</table>\n",
       "<p>5 rows × 81 columns</p>\n",
       "</div>"
      ],
      "text/plain": [
       "    Id        PID  MS SubClass MS Zoning  Lot Frontage  Lot Area Street Alley  \\\n",
       "0  109  533352170           60        RL           NaN     13517   Pave   NaN   \n",
       "1  544  531379050           60        RL          43.0     11492   Pave   NaN   \n",
       "2  153  535304180           20        RL          68.0      7922   Pave   NaN   \n",
       "3  318  916386060           60        RL          73.0      9802   Pave   NaN   \n",
       "4  255  906425045           50        RL          82.0     14235   Pave   NaN   \n",
       "\n",
       "  Lot Shape Land Contour  ... Screen Porch Pool Area Pool QC Fence  \\\n",
       "0       IR1          Lvl  ...            0         0     NaN   NaN   \n",
       "1       IR1          Lvl  ...            0         0     NaN   NaN   \n",
       "2       Reg          Lvl  ...            0         0     NaN   NaN   \n",
       "3       Reg          Lvl  ...            0         0     NaN   NaN   \n",
       "4       IR1          Lvl  ...            0         0     NaN   NaN   \n",
       "\n",
       "  Misc Feature Misc Val Mo Sold Yr Sold  Sale Type  SalePrice  \n",
       "0          NaN        0       3    2010        WD      130500  \n",
       "1          NaN        0       4    2009        WD      220000  \n",
       "2          NaN        0       1    2010        WD      109000  \n",
       "3          NaN        0       4    2010        WD      174000  \n",
       "4          NaN        0       3    2010        WD      138500  \n",
       "\n",
       "[5 rows x 81 columns]"
      ]
     },
     "execution_count": 670,
     "metadata": {},
     "output_type": "execute_result"
    }
   ],
   "source": [
    "train = pd.read_csv('../data/train.csv')\n",
    "train.head()"
   ]
  },
  {
   "cell_type": "markdown",
   "id": "643a981e-3a03-410b-ac77-3a8e5b8f63da",
   "metadata": {},
   "source": [
    "## **EDA**\n",
    "-----"
   ]
  },
  {
   "cell_type": "code",
   "execution_count": 671,
   "id": "e88fb6cb-653a-431f-b9f3-90741aed43b5",
   "metadata": {},
   "outputs": [
    {
     "data": {
      "image/png": "[encoded data removed]",
      "text/plain": [
       "<Figure size 432x288 with 1 Axes>"
      ]
     },
     "metadata": {
      "needs_background": "light"
     },
     "output_type": "display_data"
    }
   ],
   "source": [
    "#plotting to check if linear relationship between discrete variable and target\n",
    "\n",
    "# linear relationship - treat as integer, \n",
    "# non-linear - treat as str type (categorical)\n",
    "\n",
    "plt.scatter(train['Year Built'], train['SalePrice']);"
   ]
  },
  {
   "cell_type": "code",
   "execution_count": 672,
   "id": "a0f15053-07e8-4a6d-9dbb-33c845d28dbd",
   "metadata": {},
   "outputs": [
    {
     "data": {
      "image/png": "[encoded data removed]",
      "text/plain": [
       "<Figure size 432x288 with 1 Axes>"
      ]
     },
     "metadata": {
      "needs_background": "light"
     },
     "output_type": "display_data"
    }
   ],
   "source": [
    "plt.scatter(train['Year Remod/Add'], train['SalePrice']);"
   ]
  },
  {
   "cell_type": "code",
   "execution_count": 673,
   "id": "2aac69cb-4068-45ab-a7f1-cdf366971501",
   "metadata": {},
   "outputs": [
    {
     "data": {
      "image/png": "[encoded data removed]",
      "text/plain": [
       "<Figure size 432x288 with 1 Axes>"
      ]
     },
     "metadata": {
      "needs_background": "light"
     },
     "output_type": "display_data"
    }
   ],
   "source": [
    "plt.scatter(train['Bsmt Full Bath'], train['SalePrice']);"
   ]
  },
  {
   "cell_type": "code",
   "execution_count": 674,
   "id": "4c7a0d5f-195d-4ec0-99e7-1caeb6db3f17",
   "metadata": {},
   "outputs": [
    {
     "data": {
      "image/png": "[encoded data removed]",
      "text/plain": [
       "<Figure size 432x288 with 1 Axes>"
      ]
     },
     "metadata": {
      "needs_background": "light"
     },
     "output_type": "display_data"
    }
   ],
   "source": [
    "plt.scatter(train['Bsmt Half Bath'], train['SalePrice']);"
   ]
  },
  {
   "cell_type": "code",
   "execution_count": 675,
   "id": "9e9691ee-8c2e-411a-9a57-1e2127df5605",
   "metadata": {},
   "outputs": [
    {
     "data": {
      "image/png": "[encoded data removed]",
      "text/plain": [
       "<Figure size 432x288 with 1 Axes>"
      ]
     },
     "metadata": {
      "needs_background": "light"
     },
     "output_type": "display_data"
    }
   ],
   "source": [
    "plt.scatter(train['Full Bath'], train['SalePrice']);"
   ]
  },
  {
   "cell_type": "code",
   "execution_count": 676,
   "id": "3a507782-114b-42f4-a611-4515542d63f8",
   "metadata": {},
   "outputs": [
    {
     "data": {
      "image/png": "[encoded data removed]",
      "text/plain": [
       "<Figure size 432x288 with 1 Axes>"
      ]
     },
     "metadata": {
      "needs_background": "light"
     },
     "output_type": "display_data"
    }
   ],
   "source": [
    "plt.scatter(train['Half Bath'], train['SalePrice']);"
   ]
  },
  {
   "cell_type": "code",
   "execution_count": 677,
   "id": "c9eb4b9d-c367-4971-9f81-775119357c03",
   "metadata": {},
   "outputs": [
    {
     "data": {
      "image/png": "[encoded data removed]",
      "text/plain": [
       "<Figure size 432x288 with 1 Axes>"
      ]
     },
     "metadata": {
      "needs_background": "light"
     },
     "output_type": "display_data"
    }
   ],
   "source": [
    "plt.scatter(train['Bedroom AbvGr'], train['SalePrice']);"
   ]
  },
  {
   "cell_type": "code",
   "execution_count": 678,
   "id": "f9d69e32-7547-40ef-842e-09659a4bfaa8",
   "metadata": {},
   "outputs": [
    {
     "data": {
      "image/png": "[encoded data removed]",
      "text/plain": [
       "<Figure size 432x288 with 1 Axes>"
      ]
     },
     "metadata": {
      "needs_background": "light"
     },
     "output_type": "display_data"
    }
   ],
   "source": [
    "plt.scatter(train['Kitchen AbvGr'], train['SalePrice']);"
   ]
  },
  {
   "cell_type": "code",
   "execution_count": 679,
   "id": "8b2ddb76-8b19-4982-a5ef-6bbaad7361f5",
   "metadata": {},
   "outputs": [
    {
     "data": {
      "image/png": "[encoded data removed]",
      "text/plain": [
       "<Figure size 432x288 with 1 Axes>"
      ]
     },
     "metadata": {
      "needs_background": "light"
     },
     "output_type": "display_data"
    }
   ],
   "source": [
    "plt.scatter(train['Garage Yr Blt'], train['SalePrice']);"
   ]
  },
  {
   "cell_type": "code",
   "execution_count": 680,
   "id": "9d737489-0d9f-4e02-9292-22de496c5b14",
   "metadata": {},
   "outputs": [
    {
     "data": {
      "image/png": "[encoded data removed]",
      "text/plain": [
       "<Figure size 432x288 with 1 Axes>"
      ]
     },
     "metadata": {
      "needs_background": "light"
     },
     "output_type": "display_data"
    }
   ],
   "source": [
    "plt.scatter(train['Garage Cars'], train['SalePrice']);"
   ]
  },
  {
   "cell_type": "code",
   "execution_count": 681,
   "id": "2c7fc58f-e153-4d49-b4af-4334071a8742",
   "metadata": {
    "tags": []
   },
   "outputs": [
    {
     "name": "stdout",
     "output_type": "stream",
     "text": [
      "<class 'pandas.core.frame.DataFrame'>\n",
      "RangeIndex: 2051 entries, 0 to 2050\n",
      "Data columns (total 81 columns):\n",
      " #   Column           Non-Null Count  Dtype  \n",
      "---  ------           --------------  -----  \n",
      " 0   Id               2051 non-null   int64  \n",
      " 1   PID              2051 non-null   int64  \n",
      " 2   MS SubClass      2051 non-null   int64  \n",
      " 3   MS Zoning        2051 non-null   object \n",
      " 4   Lot Frontage     1721 non-null   float64\n",
      " 5   Lot Area         2051 non-null   int64  \n",
      " 6   Street           2051 non-null   object \n",
      " 7   Alley            140 non-null    object \n",
      " 8   Lot Shape        2051 non-null   object \n",
      " 9   Land Contour     2051 non-null   object \n",
      " 10  Utilities        2051 non-null   object \n",
      " 11  Lot Config       2051 non-null   object \n",
      " 12  Land Slope       2051 non-null   object \n",
      " 13  Neighborhood     2051 non-null   object \n",
      " 14  Condition 1      2051 non-null   object \n",
      " 15  Condition 2      2051 non-null   object \n",
      " 16  Bldg Type        2051 non-null   object \n",
      " 17  House Style      2051 non-null   object \n",
      " 18  Overall Qual     2051 non-null   int64  \n",
      " 19  Overall Cond     2051 non-null   int64  \n",
      " 20  Year Built       2051 non-null   int64  \n",
      " 21  Year Remod/Add   2051 non-null   int64  \n",
      " 22  Roof Style       2051 non-null   object \n",
      " 23  Roof Matl        2051 non-null   object \n",
      " 24  Exterior 1st     2051 non-null   object \n",
      " 25  Exterior 2nd     2051 non-null   object \n",
      " 26  Mas Vnr Type     2029 non-null   object \n",
      " 27  Mas Vnr Area     2029 non-null   float64\n",
      " 28  Exter Qual       2051 non-null   object \n",
      " 29  Exter Cond       2051 non-null   object \n",
      " 30  Foundation       2051 non-null   object \n",
      " 31  Bsmt Qual        1996 non-null   object \n",
      " 32  Bsmt Cond        1996 non-null   object \n",
      " 33  Bsmt Exposure    1993 non-null   object \n",
      " 34  BsmtFin Type 1   1996 non-null   object \n",
      " 35  BsmtFin SF 1     2050 non-null   float64\n",
      " 36  BsmtFin Type 2   1995 non-null   object \n",
      " 37  BsmtFin SF 2     2050 non-null   float64\n",
      " 38  Bsmt Unf SF      2050 non-null   float64\n",
      " 39  Total Bsmt SF    2050 non-null   float64\n",
      " 40  Heating          2051 non-null   object \n",
      " 41  Heating QC       2051 non-null   object \n",
      " 42  Central Air      2051 non-null   object \n",
      " 43  Electrical       2051 non-null   object \n",
      " 44  1st Flr SF       2051 non-null   int64  \n",
      " 45  2nd Flr SF       2051 non-null   int64  \n",
      " 46  Low Qual Fin SF  2051 non-null   int64  \n",
      " 47  Gr Liv Area      2051 non-null   int64  \n",
      " 48  Bsmt Full Bath   2049 non-null   float64\n",
      " 49  Bsmt Half Bath   2049 non-null   float64\n",
      " 50  Full Bath        2051 non-null   int64  \n",
      " 51  Half Bath        2051 non-null   int64  \n",
      " 52  Bedroom AbvGr    2051 non-null   int64  \n",
      " 53  Kitchen AbvGr    2051 non-null   int64  \n",
      " 54  Kitchen Qual     2051 non-null   object \n",
      " 55  TotRms AbvGrd    2051 non-null   int64  \n",
      " 56  Functional       2051 non-null   object \n",
      " 57  Fireplaces       2051 non-null   int64  \n",
      " 58  Fireplace Qu     1051 non-null   object \n",
      " 59  Garage Type      1938 non-null   object \n",
      " 60  Garage Yr Blt    1937 non-null   float64\n",
      " 61  Garage Finish    1937 non-null   object \n",
      " 62  Garage Cars      2050 non-null   float64\n",
      " 63  Garage Area      2050 non-null   float64\n",
      " 64  Garage Qual      1937 non-null   object \n",
      " 65  Garage Cond      1937 non-null   object \n",
      " 66  Paved Drive      2051 non-null   object \n",
      " 67  Wood Deck SF     2051 non-null   int64  \n",
      " 68  Open Porch SF    2051 non-null   int64  \n",
      " 69  Enclosed Porch   2051 non-null   int64  \n",
      " 70  3Ssn Porch       2051 non-null   int64  \n",
      " 71  Screen Porch     2051 non-null   int64  \n",
      " 72  Pool Area        2051 non-null   int64  \n",
      " 73  Pool QC          9 non-null      object \n",
      " 74  Fence            400 non-null    object \n",
      " 75  Misc Feature     65 non-null     object \n",
      " 76  Misc Val         2051 non-null   int64  \n",
      " 77  Mo Sold          2051 non-null   int64  \n",
      " 78  Yr Sold          2051 non-null   int64  \n",
      " 79  Sale Type        2051 non-null   object \n",
      " 80  SalePrice        2051 non-null   int64  \n",
      "dtypes: float64(11), int64(28), object(42)\n",
      "memory usage: 1.3+ MB\n"
     ]
    }
   ],
   "source": [
    "#check nulls and data types\n",
    "train.info()"
   ]
  },
  {
   "cell_type": "code",
   "execution_count": 682,
   "id": "1b5d4746-dfce-490c-840b-142723b00238",
   "metadata": {},
   "outputs": [
    {
     "data": {
      "text/plain": [
       "(2051, 81)"
      ]
     },
     "execution_count": 682,
     "metadata": {},
     "output_type": "execute_result"
    }
   ],
   "source": [
    "train.shape"
   ]
  },
  {
   "cell_type": "markdown",
   "id": "7b77bda4-ed3a-4d97-b3db-e8e3234a3cfa",
   "metadata": {},
   "source": [
    "### **Data Cleaning**\n",
    "-----"
   ]
  },
  {
   "cell_type": "markdown",
   "id": "4131b712-3cf4-41ee-a932-836d941a3bce",
   "metadata": {},
   "source": [
    "##### *Dealing with Null Values*"
   ]
  },
  {
   "cell_type": "code",
   "execution_count": 683,
   "id": "6d437dd5-62e2-4450-9978-6b1358ae1982",
   "metadata": {},
   "outputs": [],
   "source": [
    "# save an original dataframe to go back to if necessary\n",
    "train_original = train"
   ]
  },
  {
   "cell_type": "code",
   "execution_count": 684,
   "id": "9380cac0-13c5-4007-ad4f-7a8a404e8295",
   "metadata": {},
   "outputs": [
    {
     "data": {
      "text/plain": [
       "Grvl    85\n",
       "Pave    55\n",
       "Name: Alley, dtype: int64"
      ]
     },
     "execution_count": 684,
     "metadata": {},
     "output_type": "execute_result"
    }
   ],
   "source": [
    "train['Alley'].value_counts()"
   ]
  },
  {
   "cell_type": "code",
   "execution_count": 685,
   "id": "74948813-2c0c-4fe5-87a8-d9016238cd93",
   "metadata": {},
   "outputs": [
    {
     "data": {
      "text/plain": [
       "0    NaN\n",
       "1    NaN\n",
       "2    NaN\n",
       "3    NaN\n",
       "4    NaN\n",
       "Name: Alley, dtype: object"
      ]
     },
     "execution_count": 685,
     "metadata": {},
     "output_type": "execute_result"
    }
   ],
   "source": [
    "train['Alley'].head()"
   ]
  },
  {
   "cell_type": "code",
   "execution_count": 686,
   "id": "5a01bf59-8a6e-481b-bf1c-db215a3ed066",
   "metadata": {},
   "outputs": [],
   "source": [
    "train['Alley'] = train['Alley'].map(lambda itm: 'None' if itm == 'NaN' else str(itm))"
   ]
  },
  {
   "cell_type": "code",
   "execution_count": 687,
   "id": "c55fe698-882c-4d0f-a966-6e62c35e541f",
   "metadata": {
    "tags": []
   },
   "outputs": [
    {
     "data": {
      "text/plain": [
       "nan     1911\n",
       "Grvl      85\n",
       "Pave      55\n",
       "Name: Alley, dtype: int64"
      ]
     },
     "execution_count": 687,
     "metadata": {},
     "output_type": "execute_result"
    }
   ],
   "source": [
    "train['Alley'].value_counts()"
   ]
  },
  {
   "cell_type": "code",
   "execution_count": 688,
   "id": "677f5b1e-de2d-4ff4-be58-84ac815e88ca",
   "metadata": {},
   "outputs": [
    {
     "data": {
      "image/png": "[encoded data removed]",
      "text/plain": [
       "<Figure size 432x288 with 1 Axes>"
      ]
     },
     "metadata": {
      "needs_background": "light"
     },
     "output_type": "display_data"
    }
   ],
   "source": [
    "plt.hist(train['Alley']);"
   ]
  },
  {
   "cell_type": "code",
   "execution_count": 689,
   "id": "98aa62cf-6a04-4cc5-bab5-b84b34d6dbe1",
   "metadata": {},
   "outputs": [],
   "source": [
    "# applying same method to other categorical variables\n",
    "# where NA is one of the categories and should not read as null\n",
    "# applymap() used on data frame \n",
    "\n",
    "train[['Mas Vnr Type','Bsmt Qual','Bsmt Cond','BsmtFin Type 1', 'Bsmt Exposure',\n",
    "       'BsmtFin Type 2', 'Pool QC','Garage Qual', 'Garage Cond', 'Fence', 'Misc Feature', 'Fireplace Qu', 'Garage Finish',\n",
    "       'Garage Type'\n",
    "      ]] = train[['Mas Vnr Type','Bsmt Qual','Bsmt Cond','BsmtFin Type 1', 'Bsmt Exposure',\n",
    "       'BsmtFin Type 2', 'Pool QC','Garage Qual', 'Garage Cond', 'Fence', 'Misc Feature','Fireplace Qu', 'Garage Finish','Garage Type']].applymap(lambda itm: 'None' if itm == 'NaN' else str(itm))"
   ]
  },
  {
   "cell_type": "code",
   "execution_count": 690,
   "id": "81907c8e-ecba-4ca9-85b8-467e17fb1eea",
   "metadata": {},
   "outputs": [
    {
     "data": {
      "text/plain": [
       "None       1218\n",
       "BrkFace     630\n",
       "Stone       168\n",
       "nan          22\n",
       "BrkCmn       13\n",
       "Name: Mas Vnr Type, dtype: int64"
      ]
     },
     "execution_count": 690,
     "metadata": {},
     "output_type": "execute_result"
    }
   ],
   "source": [
    "train['Mas Vnr Type'].value_counts() # drop null values but not \"None\" values"
   ]
  },
  {
   "cell_type": "code",
   "execution_count": 691,
   "id": "01dda10a-21d1-4e52-8fa3-02199115ba37",
   "metadata": {},
   "outputs": [
    {
     "data": {
      "text/plain": [
       "TA     887\n",
       "Gd     864\n",
       "Ex     184\n",
       "Fa      60\n",
       "nan     55\n",
       "Po       1\n",
       "Name: Bsmt Qual, dtype: int64"
      ]
     },
     "execution_count": 691,
     "metadata": {},
     "output_type": "execute_result"
    }
   ],
   "source": [
    "train['Bsmt Qual'].value_counts() #NA means no basement"
   ]
  },
  {
   "cell_type": "code",
   "execution_count": 692,
   "id": "0bb3f98c-1037-470f-9fe5-1b6ed6ea0162",
   "metadata": {},
   "outputs": [
    {
     "data": {
      "text/plain": [
       "TA     1834\n",
       "Gd       89\n",
       "Fa       65\n",
       "nan      55\n",
       "Po        5\n",
       "Ex        3\n",
       "Name: Bsmt Cond, dtype: int64"
      ]
     },
     "execution_count": 692,
     "metadata": {},
     "output_type": "execute_result"
    }
   ],
   "source": [
    "train['Bsmt Cond'].value_counts() #NA means no basement"
   ]
  },
  {
   "cell_type": "code",
   "execution_count": 693,
   "id": "e5c5f7da-9172-4bba-a1d5-94d273700873",
   "metadata": {},
   "outputs": [
    {
     "data": {
      "text/plain": [
       "GLQ    615\n",
       "Unf    603\n",
       "ALQ    293\n",
       "BLQ    200\n",
       "Rec    183\n",
       "LwQ    102\n",
       "nan     55\n",
       "Name: BsmtFin Type 1, dtype: int64"
      ]
     },
     "execution_count": 693,
     "metadata": {},
     "output_type": "execute_result"
    }
   ],
   "source": [
    "train['BsmtFin Type 1'].value_counts() #NA means no basement"
   ]
  },
  {
   "cell_type": "code",
   "execution_count": 694,
   "id": "3d5363f7-b30f-42c1-ba0e-b6a82b264e56",
   "metadata": {},
   "outputs": [
    {
     "data": {
      "text/plain": [
       "No     1339\n",
       "Av      288\n",
       "Gd      203\n",
       "Mn      163\n",
       "nan      58\n",
       "Name: Bsmt Exposure, dtype: int64"
      ]
     },
     "execution_count": 694,
     "metadata": {},
     "output_type": "execute_result"
    }
   ],
   "source": [
    "train['Bsmt Exposure'].value_counts() #NA means no basement"
   ]
  },
  {
   "cell_type": "code",
   "execution_count": 695,
   "id": "152e4dbf-e150-408e-adec-d2319d09dfa1",
   "metadata": {},
   "outputs": [
    {
     "data": {
      "text/plain": [
       "TA     1834\n",
       "Gd       89\n",
       "Fa       65\n",
       "nan      55\n",
       "Po        5\n",
       "Ex        3\n",
       "Name: Bsmt Cond, dtype: int64"
      ]
     },
     "execution_count": 695,
     "metadata": {},
     "output_type": "execute_result"
    }
   ],
   "source": [
    "train['Bsmt Cond'].value_counts() #NA means no basement"
   ]
  },
  {
   "cell_type": "code",
   "execution_count": 696,
   "id": "993981cd-7965-48cf-b795-567d7eafbd8d",
   "metadata": {},
   "outputs": [
    {
     "data": {
      "text/plain": [
       "nan    2042\n",
       "Gd        4\n",
       "Fa        2\n",
       "TA        2\n",
       "Ex        1\n",
       "Name: Pool QC, dtype: int64"
      ]
     },
     "execution_count": 696,
     "metadata": {},
     "output_type": "execute_result"
    }
   ],
   "source": [
    "train['Pool QC'].value_counts() #NA means no pool"
   ]
  },
  {
   "cell_type": "code",
   "execution_count": 697,
   "id": "5ea0e2e4-e0ab-4a76-923e-9c17d6262efd",
   "metadata": {},
   "outputs": [
    {
     "data": {
      "text/plain": [
       "TA     1832\n",
       "nan     114\n",
       "Fa       82\n",
       "Gd       18\n",
       "Ex        3\n",
       "Po        2\n",
       "Name: Garage Qual, dtype: int64"
      ]
     },
     "execution_count": 697,
     "metadata": {},
     "output_type": "execute_result"
    }
   ],
   "source": [
    "train['Garage Qual'].value_counts() #NA means no garage"
   ]
  },
  {
   "cell_type": "code",
   "execution_count": 698,
   "id": "6f11b4b5-f5d4-43e3-ba4b-7278e263e1d7",
   "metadata": {},
   "outputs": [
    {
     "data": {
      "text/plain": [
       "TA     1868\n",
       "nan     114\n",
       "Fa       47\n",
       "Gd       12\n",
       "Po        8\n",
       "Ex        2\n",
       "Name: Garage Cond, dtype: int64"
      ]
     },
     "execution_count": 698,
     "metadata": {},
     "output_type": "execute_result"
    }
   ],
   "source": [
    "train['Garage Cond'].value_counts() #NA means no garage"
   ]
  },
  {
   "cell_type": "code",
   "execution_count": 699,
   "id": "d05e2362-5d71-4596-bfe4-e490b736f37b",
   "metadata": {},
   "outputs": [
    {
     "data": {
      "text/plain": [
       "nan      1651\n",
       "MnPrv     227\n",
       "GdPrv      83\n",
       "GdWo       80\n",
       "MnWw       10\n",
       "Name: Fence, dtype: int64"
      ]
     },
     "execution_count": 699,
     "metadata": {},
     "output_type": "execute_result"
    }
   ],
   "source": [
    "train['Fence'].value_counts() #NA means no fence"
   ]
  },
  {
   "cell_type": "code",
   "execution_count": 700,
   "id": "3c89c41f-9910-4f5b-8f76-22e54d19e0f1",
   "metadata": {},
   "outputs": [
    {
     "data": {
      "text/plain": [
       "nan     1986\n",
       "Shed      56\n",
       "Gar2       4\n",
       "Othr       3\n",
       "TenC       1\n",
       "Elev       1\n",
       "Name: Misc Feature, dtype: int64"
      ]
     },
     "execution_count": 700,
     "metadata": {},
     "output_type": "execute_result"
    }
   ],
   "source": [
    "train['Misc Feature'].value_counts() #NA means no misc. features"
   ]
  },
  {
   "cell_type": "code",
   "execution_count": 701,
   "id": "defce787-8f6d-4779-8344-e2d1b7cda2fd",
   "metadata": {},
   "outputs": [
    {
     "data": {
      "text/plain": [
       "nan    1000\n",
       "Gd      523\n",
       "TA      407\n",
       "Fa       59\n",
       "Po       31\n",
       "Ex       31\n",
       "Name: Fireplace Qu, dtype: int64"
      ]
     },
     "execution_count": 701,
     "metadata": {},
     "output_type": "execute_result"
    }
   ],
   "source": [
    "train['Fireplace Qu'].value_counts() #NA means no fireplace "
   ]
  },
  {
   "cell_type": "code",
   "execution_count": 702,
   "id": "21428434-1dc2-4241-a659-c8db5635b68c",
   "metadata": {},
   "outputs": [
    {
     "data": {
      "text/plain": [
       "Unf    849\n",
       "RFn    579\n",
       "Fin    509\n",
       "nan    114\n",
       "Name: Garage Finish, dtype: int64"
      ]
     },
     "execution_count": 702,
     "metadata": {},
     "output_type": "execute_result"
    }
   ],
   "source": [
    "train['Garage Finish'].value_counts() #NA means no garage"
   ]
  },
  {
   "cell_type": "code",
   "execution_count": 703,
   "id": "3918648c-141a-48f8-a894-1634ad1a6cce",
   "metadata": {},
   "outputs": [],
   "source": [
    "# to string\n",
    "# non-linear relationship between 'Bsmt Full Bath','Bsmt Half Bath','Full Bath','Half Bath','Bedroom AbvGr','Kitchen AbvGr' and target\n",
    "train[['Overall Qual','Overall Cond','Bsmt Full Bath','Bsmt Half Bath','Full Bath','Half Bath','Bedroom AbvGr','Kitchen AbvGr','Garage Cars']] = train[['Overall Qual','Overall Cond','Bsmt Full Bath','Bsmt Half Bath','Full Bath','Half Bath','Bedroom AbvGr','Kitchen AbvGr', 'Garage Cars']].astype(str)"
   ]
  },
  {
   "cell_type": "code",
   "execution_count": 704,
   "id": "e6d4ece6-3929-4434-bb4a-5810bb376378",
   "metadata": {},
   "outputs": [],
   "source": [
    "# update data types based on data dictionary\n",
    "# to float\n",
    "train[['Lot Area','1st Flr SF','2nd Flr SF','Low Qual Fin SF',\n",
    "       'Gr Liv Area','Wood Deck SF','Open Porch SF','Enclosed Porch',\n",
    "      '3Ssn Porch', 'Screen Porch','Pool Area','Misc Val','SalePrice']] = train[['Lot Area','1st Flr SF','2nd Flr SF','Low Qual Fin SF',\n",
    "       'Gr Liv Area','Wood Deck SF','Open Porch SF','Enclosed Porch',\n",
    "      '3Ssn Porch', 'Screen Porch','Pool Area','Misc Val','SalePrice']].astype(float)"
   ]
  },
  {
   "cell_type": "code",
   "execution_count": 705,
   "id": "c2b16ba8-289e-422b-8b6a-69c0ec3c982c",
   "metadata": {
    "tags": []
   },
   "outputs": [
    {
     "name": "stdout",
     "output_type": "stream",
     "text": [
      "(2051, 81)\n",
      "<class 'pandas.core.frame.DataFrame'>\n",
      "Int64Index: 1597 entries, 1 to 2050\n",
      "Data columns (total 81 columns):\n",
      " #   Column           Non-Null Count  Dtype  \n",
      "---  ------           --------------  -----  \n",
      " 0   Id               1597 non-null   int64  \n",
      " 1   PID              1597 non-null   int64  \n",
      " 2   MS SubClass      1597 non-null   int64  \n",
      " 3   MS Zoning        1597 non-null   object \n",
      " 4   Lot Frontage     1597 non-null   float64\n",
      " 5   Lot Area         1597 non-null   float64\n",
      " 6   Street           1597 non-null   object \n",
      " 7   Alley            1597 non-null   object \n",
      " 8   Lot Shape        1597 non-null   object \n",
      " 9   Land Contour     1597 non-null   object \n",
      " 10  Utilities        1597 non-null   object \n",
      " 11  Lot Config       1597 non-null   object \n",
      " 12  Land Slope       1597 non-null   object \n",
      " 13  Neighborhood     1597 non-null   object \n",
      " 14  Condition 1      1597 non-null   object \n",
      " 15  Condition 2      1597 non-null   object \n",
      " 16  Bldg Type        1597 non-null   object \n",
      " 17  House Style      1597 non-null   object \n",
      " 18  Overall Qual     1597 non-null   object \n",
      " 19  Overall Cond     1597 non-null   object \n",
      " 20  Year Built       1597 non-null   int64  \n",
      " 21  Year Remod/Add   1597 non-null   int64  \n",
      " 22  Roof Style       1597 non-null   object \n",
      " 23  Roof Matl        1597 non-null   object \n",
      " 24  Exterior 1st     1597 non-null   object \n",
      " 25  Exterior 2nd     1597 non-null   object \n",
      " 26  Mas Vnr Type     1597 non-null   object \n",
      " 27  Mas Vnr Area     1597 non-null   float64\n",
      " 28  Exter Qual       1597 non-null   object \n",
      " 29  Exter Cond       1597 non-null   object \n",
      " 30  Foundation       1597 non-null   object \n",
      " 31  Bsmt Qual        1597 non-null   object \n",
      " 32  Bsmt Cond        1597 non-null   object \n",
      " 33  Bsmt Exposure    1597 non-null   object \n",
      " 34  BsmtFin Type 1   1597 non-null   object \n",
      " 35  BsmtFin SF 1     1597 non-null   float64\n",
      " 36  BsmtFin Type 2   1597 non-null   object \n",
      " 37  BsmtFin SF 2     1597 non-null   float64\n",
      " 38  Bsmt Unf SF      1597 non-null   float64\n",
      " 39  Total Bsmt SF    1597 non-null   float64\n",
      " 40  Heating          1597 non-null   object \n",
      " 41  Heating QC       1597 non-null   object \n",
      " 42  Central Air      1597 non-null   object \n",
      " 43  Electrical       1597 non-null   object \n",
      " 44  1st Flr SF       1597 non-null   float64\n",
      " 45  2nd Flr SF       1597 non-null   float64\n",
      " 46  Low Qual Fin SF  1597 non-null   float64\n",
      " 47  Gr Liv Area      1597 non-null   float64\n",
      " 48  Bsmt Full Bath   1597 non-null   object \n",
      " 49  Bsmt Half Bath   1597 non-null   object \n",
      " 50  Full Bath        1597 non-null   object \n",
      " 51  Half Bath        1597 non-null   object \n",
      " 52  Bedroom AbvGr    1597 non-null   object \n",
      " 53  Kitchen AbvGr    1597 non-null   object \n",
      " 54  Kitchen Qual     1597 non-null   object \n",
      " 55  TotRms AbvGrd    1597 non-null   int64  \n",
      " 56  Functional       1597 non-null   object \n",
      " 57  Fireplaces       1597 non-null   int64  \n",
      " 58  Fireplace Qu     1597 non-null   object \n",
      " 59  Garage Type      1597 non-null   object \n",
      " 60  Garage Yr Blt    1597 non-null   float64\n",
      " 61  Garage Finish    1597 non-null   object \n",
      " 62  Garage Cars      1597 non-null   object \n",
      " 63  Garage Area      1597 non-null   float64\n",
      " 64  Garage Qual      1597 non-null   object \n",
      " 65  Garage Cond      1597 non-null   object \n",
      " 66  Paved Drive      1597 non-null   object \n",
      " 67  Wood Deck SF     1597 non-null   float64\n",
      " 68  Open Porch SF    1597 non-null   float64\n",
      " 69  Enclosed Porch   1597 non-null   float64\n",
      " 70  3Ssn Porch       1597 non-null   float64\n",
      " 71  Screen Porch     1597 non-null   float64\n",
      " 72  Pool Area        1597 non-null   float64\n",
      " 73  Pool QC          1597 non-null   object \n",
      " 74  Fence            1597 non-null   object \n",
      " 75  Misc Feature     1597 non-null   object \n",
      " 76  Misc Val         1597 non-null   float64\n",
      " 77  Mo Sold          1597 non-null   int64  \n",
      " 78  Yr Sold          1597 non-null   int64  \n",
      " 79  Sale Type        1597 non-null   object \n",
      " 80  SalePrice        1597 non-null   float64\n",
      "dtypes: float64(21), int64(9), object(51)\n",
      "memory usage: 1023.1+ KB\n",
      "None\n"
     ]
    }
   ],
   "source": [
    "# drop nulls from numerical columns identified in boxplots above\n",
    "print(train.shape)\n",
    "train.dropna(subset=['Mas Vnr Area','Lot Frontage','Lot Area','Garage Yr Blt','BsmtFin SF 1'], inplace=True)\n",
    "print(train.info())"
   ]
  },
  {
   "cell_type": "code",
   "execution_count": 706,
   "id": "8caedc1c-2cea-42ae-bdf9-caa55b694f1a",
   "metadata": {
    "tags": []
   },
   "outputs": [
    {
     "data": {
      "text/plain": [
       "Id              0\n",
       "PID             0\n",
       "MS SubClass     0\n",
       "MS Zoning       0\n",
       "Lot Frontage    0\n",
       "               ..\n",
       "Misc Val        0\n",
       "Mo Sold         0\n",
       "Yr Sold         0\n",
       "Sale Type       0\n",
       "SalePrice       0\n",
       "Length: 81, dtype: int64"
      ]
     },
     "execution_count": 706,
     "metadata": {},
     "output_type": "execute_result"
    }
   ],
   "source": [
    "train.isnull().sum()"
   ]
  },
  {
   "cell_type": "markdown",
   "id": "2affd3db-919b-4121-a959-70302c78f3c3",
   "metadata": {},
   "source": [
    "-----\n",
    "##### *Dealing with outliers*"
   ]
  },
  {
   "cell_type": "code",
   "execution_count": 707,
   "id": "5e701552-d4ac-437f-9eec-9f1f7a0a8558",
   "metadata": {},
   "outputs": [],
   "source": [
    "# identify outliers for continuous variables\n",
    "# remove outliers based on boxplots above"
   ]
  },
  {
   "cell_type": "code",
   "execution_count": 709,
   "id": "11da5002-b59e-40f4-be0e-b0edbaddb1bf",
   "metadata": {},
   "outputs": [],
   "source": [
    "# function calculates lower (25th % - 1.5(IQR)) and upper (75th % + 1.5(IQR)) bounds\n",
    "# framework to remove outliers\n",
    "def calc_bounds(column):\n",
    "    IQR = (train[column].quantile(0.75) - train[column].quantile(0.25))\n",
    "    lower_bound = train[column].quantile(0.25) - (1.5 * IQR)\n",
    "    upper_bound = train[column].quantile(0.75) + (1.5 * IQR)\n",
    "    if lower_bound > 0:\n",
    "        return f\"train = train[(train['{column}'] > {lower_bound}) & (train['{column}'] < {upper_bound})]\"\n",
    "    return f\"train = train[(train['{column}'] > 0) & (train['{column}'] < {upper_bound})]\""
   ]
  },
  {
   "cell_type": "code",
   "execution_count": 710,
   "id": "90a9d41e-736a-47dd-b50d-e5d0fc33ccd4",
   "metadata": {},
   "outputs": [
    {
     "data": {
      "image/png": "[encoded data removed]",
      "text/plain": [
       "<Figure size 432x288 with 1 Axes>"
      ]
     },
     "metadata": {
      "needs_background": "light"
     },
     "output_type": "display_data"
    }
   ],
   "source": [
    "sns.boxplot(x = train['Lot Frontage'], color = 'r');"
   ]
  },
  {
   "cell_type": "code",
   "execution_count": 711,
   "id": "140f18b3-ab85-4d33-9fa2-adcafccba4fe",
   "metadata": {},
   "outputs": [
    {
     "name": "stdout",
     "output_type": "stream",
     "text": [
      "train = train[(train['Lot Frontage'] > 27.5) & (train['Lot Frontage'] < 111.5)]\n"
     ]
    }
   ],
   "source": [
    "print(calc_bounds('Lot Frontage'))"
   ]
  },
  {
   "cell_type": "code",
   "execution_count": 712,
   "id": "22cce7e2-54a1-484c-9b68-36cdcfcb6ee7",
   "metadata": {},
   "outputs": [
    {
     "name": "stdout",
     "output_type": "stream",
     "text": [
      "27.5 111.5\n"
     ]
    }
   ],
   "source": [
    "#sanity check\n",
    "lower_bound = train['Lot Frontage'].quantile(0.25) - (1.5 * (train['Lot Frontage'].quantile(0.75) - train['Lot Frontage'].quantile(0.25)))\n",
    "upper_bound = train['Lot Frontage'].quantile(0.75) + (1.5 * (train['Lot Frontage'].quantile(0.75) - train['Lot Frontage'].quantile(0.25)))\n",
    "print(lower_bound, upper_bound)"
   ]
  },
  {
   "cell_type": "code",
   "execution_count": 713,
   "id": "1a011de6-e3a2-46e5-9474-5a08477457ff",
   "metadata": {
    "tags": []
   },
   "outputs": [],
   "source": [
    "train = train[(train['Lot Frontage'] > 27.5) & (train['Lot Frontage'] < 111.5)]"
   ]
  },
  {
   "cell_type": "code",
   "execution_count": 714,
   "id": "82804489-8d06-4c08-b494-7c60c4cb9934",
   "metadata": {},
   "outputs": [
    {
     "data": {
      "image/png": "[encoded data removed]",
      "text/plain": [
       "<Figure size 432x288 with 1 Axes>"
      ]
     },
     "metadata": {
      "needs_background": "light"
     },
     "output_type": "display_data"
    }
   ],
   "source": [
    "sns.boxplot(x = train['Lot Area'], color = 'b');"
   ]
  },
  {
   "cell_type": "code",
   "execution_count": 715,
   "id": "b2997d7d-5084-4237-8b8e-7f0c50d6522e",
   "metadata": {},
   "outputs": [
    {
     "name": "stdout",
     "output_type": "stream",
     "text": [
      "train = train[(train['Lot Area'] > 2431.125) & (train['Lot Area'] < 16260.125)]\n"
     ]
    }
   ],
   "source": [
    "print(calc_bounds('Lot Area'))"
   ]
  },
  {
   "cell_type": "code",
   "execution_count": 716,
   "id": "9efdc3f4-f519-42cc-bd25-3920e73774ac",
   "metadata": {},
   "outputs": [],
   "source": [
    "train = train[(train['Lot Area'] > 2431.125) & (train['Lot Area'] < 16260.125)]"
   ]
  },
  {
   "cell_type": "code",
   "execution_count": 718,
   "id": "dc8fedfc-8e9b-44dd-b510-82fe24bf0ac3",
   "metadata": {},
   "outputs": [
    {
     "data": {
      "image/png": "[encoded data removed]",
      "text/plain": [
       "<Figure size 432x288 with 1 Axes>"
      ]
     },
     "metadata": {
      "needs_background": "light"
     },
     "output_type": "display_data"
    }
   ],
   "source": [
    "sns.boxplot(x = train['Total Bsmt SF'], color = 'g');"
   ]
  },
  {
   "cell_type": "code",
   "execution_count": 719,
   "id": "c2b94bdc-90d0-4ac3-bef1-5e4069d6dcad",
   "metadata": {},
   "outputs": [
    {
     "name": "stdout",
     "output_type": "stream",
     "text": [
      "train = train[(train['Total Bsmt SF'] > 30.5) & (train['Total Bsmt SF'] < 2082.5)]\n"
     ]
    }
   ],
   "source": [
    "print(calc_bounds('Total Bsmt SF'))"
   ]
  },
  {
   "cell_type": "code",
   "execution_count": 720,
   "id": "acbc8ed0-edeb-4749-9ef1-014d497774d3",
   "metadata": {},
   "outputs": [],
   "source": [
    "train = train[(train['Total Bsmt SF'] > 30.5) & (train['Total Bsmt SF'] < 2082.5)]"
   ]
  },
  {
   "cell_type": "code",
   "execution_count": 721,
   "id": "6a314161-1865-4b86-9546-9c3a9c46b6ed",
   "metadata": {},
   "outputs": [
    {
     "data": {
      "image/png": "[encoded data removed]",
      "text/plain": [
       "<Figure size 432x288 with 1 Axes>"
      ]
     },
     "metadata": {
      "needs_background": "light"
     },
     "output_type": "display_data"
    }
   ],
   "source": [
    "sns.boxplot(x = train['1st Flr SF'], color = 'r');"
   ]
  },
  {
   "cell_type": "code",
   "execution_count": 722,
   "id": "a63c3d4f-e7fa-4149-90f9-7506f71746a8",
   "metadata": {},
   "outputs": [
    {
     "name": "stdout",
     "output_type": "stream",
     "text": [
      "train = train[(train['1st Flr SF'] > 154.75) & (train['1st Flr SF'] < 2088.75)]\n"
     ]
    }
   ],
   "source": [
    "print(calc_bounds('1st Flr SF'))"
   ]
  },
  {
   "cell_type": "code",
   "execution_count": 723,
   "id": "4cc1e2b0-e46f-43f2-8fb6-74f8fc6aa0a8",
   "metadata": {},
   "outputs": [],
   "source": [
    "train = train[(train['1st Flr SF'] > 154.75) & (train['1st Flr SF'] < 2088.75)]"
   ]
  },
  {
   "cell_type": "code",
   "execution_count": 724,
   "id": "0444edf3-2388-4b60-8695-f17bd7512c8b",
   "metadata": {},
   "outputs": [
    {
     "data": {
      "image/png": "[encoded data removed]",
      "text/plain": [
       "<Figure size 432x288 with 1 Axes>"
      ]
     },
     "metadata": {
      "needs_background": "light"
     },
     "output_type": "display_data"
    }
   ],
   "source": [
    "sns.boxplot(x = train['Gr Liv Area'], color = 'r');"
   ]
  },
  {
   "cell_type": "code",
   "execution_count": 725,
   "id": "84dcdda6-9f0c-479e-8030-17502ad5ae6e",
   "metadata": {},
   "outputs": [
    {
     "name": "stdout",
     "output_type": "stream",
     "text": [
      "train = train[(train['Gr Liv Area'] > 300.5) & (train['Gr Liv Area'] < 2544.5)]\n"
     ]
    }
   ],
   "source": [
    "print(calc_bounds('Gr Liv Area'))"
   ]
  },
  {
   "cell_type": "code",
   "execution_count": 726,
   "id": "f27abfc1-59d8-41ac-8195-b815fdd1a0e4",
   "metadata": {},
   "outputs": [],
   "source": [
    "train = train[(train['Gr Liv Area'] > 300.5) & (train['Gr Liv Area'] < 2544.5)]"
   ]
  },
  {
   "cell_type": "code",
   "execution_count": 729,
   "id": "a55051e2-606b-4e69-85ee-ab92ce2f5d42",
   "metadata": {},
   "outputs": [
    {
     "data": {
      "image/png": "[encoded data removed]",
      "text/plain": [
       "<Figure size 432x288 with 1 Axes>"
      ]
     },
     "metadata": {
      "needs_background": "light"
     },
     "output_type": "display_data"
    }
   ],
   "source": [
    "sns.boxplot(x = train['SalePrice'], color = 'r');"
   ]
  },
  {
   "cell_type": "code",
   "execution_count": 730,
   "id": "e0ab361e-88d7-4605-9646-44f3e04b0dbd",
   "metadata": {},
   "outputs": [
    {
     "name": "stdout",
     "output_type": "stream",
     "text": [
      "train = train[(train['SalePrice'] > 16750.0) & (train['SalePrice'] < 318750.0)]\n"
     ]
    }
   ],
   "source": [
    "print(calc_bounds('SalePrice'))"
   ]
  },
  {
   "cell_type": "code",
   "execution_count": 731,
   "id": "42dd0a39-5d23-41b8-b797-6fa2fddf7275",
   "metadata": {},
   "outputs": [],
   "source": [
    "train = train[(train['SalePrice'] > 16750.0) & (train['SalePrice'] < 318750.0)]"
   ]
  },
  {
   "cell_type": "code",
   "execution_count": 732,
   "id": "e36ddbf1-b9fb-40aa-868d-2349774dfdd7",
   "metadata": {
    "collapsed": true,
    "jupyter": {
     "outputs_hidden": true
    },
    "tags": []
   },
   "outputs": [
    {
     "name": "stdout",
     "output_type": "stream",
     "text": [
      "<class 'pandas.core.frame.DataFrame'>\n",
      "Int64Index: 1272 entries, 1 to 2050\n",
      "Data columns (total 81 columns):\n",
      " #   Column           Non-Null Count  Dtype  \n",
      "---  ------           --------------  -----  \n",
      " 0   Id               1272 non-null   int64  \n",
      " 1   PID              1272 non-null   int64  \n",
      " 2   MS SubClass      1272 non-null   int64  \n",
      " 3   MS Zoning        1272 non-null   object \n",
      " 4   Lot Frontage     1272 non-null   float64\n",
      " 5   Lot Area         1272 non-null   float64\n",
      " 6   Street           1272 non-null   object \n",
      " 7   Alley            1272 non-null   object \n",
      " 8   Lot Shape        1272 non-null   object \n",
      " 9   Land Contour     1272 non-null   object \n",
      " 10  Utilities        1272 non-null   object \n",
      " 11  Lot Config       1272 non-null   object \n",
      " 12  Land Slope       1272 non-null   object \n",
      " 13  Neighborhood     1272 non-null   object \n",
      " 14  Condition 1      1272 non-null   object \n",
      " 15  Condition 2      1272 non-null   object \n",
      " 16  Bldg Type        1272 non-null   object \n",
      " 17  House Style      1272 non-null   object \n",
      " 18  Overall Qual     1272 non-null   object \n",
      " 19  Overall Cond     1272 non-null   object \n",
      " 20  Year Built       1272 non-null   int64  \n",
      " 21  Year Remod/Add   1272 non-null   int64  \n",
      " 22  Roof Style       1272 non-null   object \n",
      " 23  Roof Matl        1272 non-null   object \n",
      " 24  Exterior 1st     1272 non-null   object \n",
      " 25  Exterior 2nd     1272 non-null   object \n",
      " 26  Mas Vnr Type     1272 non-null   object \n",
      " 27  Mas Vnr Area     1272 non-null   float64\n",
      " 28  Exter Qual       1272 non-null   object \n",
      " 29  Exter Cond       1272 non-null   object \n",
      " 30  Foundation       1272 non-null   object \n",
      " 31  Bsmt Qual        1272 non-null   object \n",
      " 32  Bsmt Cond        1272 non-null   object \n",
      " 33  Bsmt Exposure    1272 non-null   object \n",
      " 34  BsmtFin Type 1   1272 non-null   object \n",
      " 35  BsmtFin SF 1     1272 non-null   float64\n",
      " 36  BsmtFin Type 2   1272 non-null   object \n",
      " 37  BsmtFin SF 2     1272 non-null   float64\n",
      " 38  Bsmt Unf SF      1272 non-null   float64\n",
      " 39  Total Bsmt SF    1272 non-null   float64\n",
      " 40  Heating          1272 non-null   object \n",
      " 41  Heating QC       1272 non-null   object \n",
      " 42  Central Air      1272 non-null   object \n",
      " 43  Electrical       1272 non-null   object \n",
      " 44  1st Flr SF       1272 non-null   float64\n",
      " 45  2nd Flr SF       1272 non-null   float64\n",
      " 46  Low Qual Fin SF  1272 non-null   float64\n",
      " 47  Gr Liv Area      1272 non-null   float64\n",
      " 48  Bsmt Full Bath   1272 non-null   object \n",
      " 49  Bsmt Half Bath   1272 non-null   object \n",
      " 50  Full Bath        1272 non-null   object \n",
      " 51  Half Bath        1272 non-null   object \n",
      " 52  Bedroom AbvGr    1272 non-null   object \n",
      " 53  Kitchen AbvGr    1272 non-null   object \n",
      " 54  Kitchen Qual     1272 non-null   object \n",
      " 55  TotRms AbvGrd    1272 non-null   int64  \n",
      " 56  Functional       1272 non-null   object \n",
      " 57  Fireplaces       1272 non-null   int64  \n",
      " 58  Fireplace Qu     1272 non-null   object \n",
      " 59  Garage Type      1272 non-null   object \n",
      " 60  Garage Yr Blt    1272 non-null   float64\n",
      " 61  Garage Finish    1272 non-null   object \n",
      " 62  Garage Cars      1272 non-null   object \n",
      " 63  Garage Area      1272 non-null   float64\n",
      " 64  Garage Qual      1272 non-null   object \n",
      " 65  Garage Cond      1272 non-null   object \n",
      " 66  Paved Drive      1272 non-null   object \n",
      " 67  Wood Deck SF     1272 non-null   float64\n",
      " 68  Open Porch SF    1272 non-null   float64\n",
      " 69  Enclosed Porch   1272 non-null   float64\n",
      " 70  3Ssn Porch       1272 non-null   float64\n",
      " 71  Screen Porch     1272 non-null   float64\n",
      " 72  Pool Area        1272 non-null   float64\n",
      " 73  Pool QC          1272 non-null   object \n",
      " 74  Fence            1272 non-null   object \n",
      " 75  Misc Feature     1272 non-null   object \n",
      " 76  Misc Val         1272 non-null   float64\n",
      " 77  Mo Sold          1272 non-null   int64  \n",
      " 78  Yr Sold          1272 non-null   int64  \n",
      " 79  Sale Type        1272 non-null   object \n",
      " 80  SalePrice        1272 non-null   float64\n",
      "dtypes: float64(21), int64(9), object(51)\n",
      "memory usage: 814.9+ KB\n"
     ]
    }
   ],
   "source": [
    "train.info()"
   ]
  },
  {
   "cell_type": "markdown",
   "id": "1e39b926-ba4b-4014-a021-c8e4d8f17bf8",
   "metadata": {},
   "source": [
    "-----\n",
    "##### *Editing column names*"
   ]
  },
  {
   "cell_type": "code",
   "execution_count": 737,
   "id": "78bc11aa-1f3e-4820-91b0-fd7e96ab9a44",
   "metadata": {},
   "outputs": [
    {
     "data": {
      "text/html": [
       "<div>\n",
       "<style scoped>\n",
       "    .dataframe tbody tr th:only-of-type {\n",
       "        vertical-align: middle;\n",
       "    }\n",
       "\n",
       "    .dataframe tbody tr th {\n",
       "        vertical-align: top;\n",
       "    }\n",
       "\n",
       "    .dataframe thead th {\n",
       "        text-align: right;\n",
       "    }\n",
       "</style>\n",
       "<table border=\"1\" class=\"dataframe\">\n",
       "  <thead>\n",
       "    <tr style=\"text-align: right;\">\n",
       "      <th></th>\n",
       "      <th>Id</th>\n",
       "      <th>PID</th>\n",
       "      <th>MS SubClass</th>\n",
       "      <th>MS Zoning</th>\n",
       "      <th>Lot Frontage</th>\n",
       "      <th>Lot Area</th>\n",
       "      <th>Street</th>\n",
       "      <th>Alley</th>\n",
       "      <th>Lot Shape</th>\n",
       "      <th>Land Contour</th>\n",
       "      <th>...</th>\n",
       "      <th>Screen Porch</th>\n",
       "      <th>Pool Area</th>\n",
       "      <th>Pool QC</th>\n",
       "      <th>Fence</th>\n",
       "      <th>Misc Feature</th>\n",
       "      <th>Misc Val</th>\n",
       "      <th>Mo Sold</th>\n",
       "      <th>Yr Sold</th>\n",
       "      <th>Sale Type</th>\n",
       "      <th>SalePrice</th>\n",
       "    </tr>\n",
       "  </thead>\n",
       "  <tbody>\n",
       "    <tr>\n",
       "      <th>1</th>\n",
       "      <td>544</td>\n",
       "      <td>531379050</td>\n",
       "      <td>60</td>\n",
       "      <td>RL</td>\n",
       "      <td>43.0</td>\n",
       "      <td>11492.0</td>\n",
       "      <td>Pave</td>\n",
       "      <td>nan</td>\n",
       "      <td>IR1</td>\n",
       "      <td>Lvl</td>\n",
       "      <td>...</td>\n",
       "      <td>0.0</td>\n",
       "      <td>0.0</td>\n",
       "      <td>nan</td>\n",
       "      <td>nan</td>\n",
       "      <td>nan</td>\n",
       "      <td>0.0</td>\n",
       "      <td>4</td>\n",
       "      <td>2009</td>\n",
       "      <td>WD</td>\n",
       "      <td>220000.0</td>\n",
       "    </tr>\n",
       "    <tr>\n",
       "      <th>2</th>\n",
       "      <td>153</td>\n",
       "      <td>535304180</td>\n",
       "      <td>20</td>\n",
       "      <td>RL</td>\n",
       "      <td>68.0</td>\n",
       "      <td>7922.0</td>\n",
       "      <td>Pave</td>\n",
       "      <td>nan</td>\n",
       "      <td>Reg</td>\n",
       "      <td>Lvl</td>\n",
       "      <td>...</td>\n",
       "      <td>0.0</td>\n",
       "      <td>0.0</td>\n",
       "      <td>nan</td>\n",
       "      <td>nan</td>\n",
       "      <td>nan</td>\n",
       "      <td>0.0</td>\n",
       "      <td>1</td>\n",
       "      <td>2010</td>\n",
       "      <td>WD</td>\n",
       "      <td>109000.0</td>\n",
       "    </tr>\n",
       "  </tbody>\n",
       "</table>\n",
       "<p>2 rows × 81 columns</p>\n",
       "</div>"
      ],
      "text/plain": [
       "    Id        PID  MS SubClass MS Zoning  Lot Frontage  Lot Area Street Alley  \\\n",
       "1  544  531379050           60        RL          43.0   11492.0   Pave   nan   \n",
       "2  153  535304180           20        RL          68.0    7922.0   Pave   nan   \n",
       "\n",
       "  Lot Shape Land Contour  ... Screen Porch Pool Area Pool QC Fence  \\\n",
       "1       IR1          Lvl  ...          0.0       0.0     nan   nan   \n",
       "2       Reg          Lvl  ...          0.0       0.0     nan   nan   \n",
       "\n",
       "  Misc Feature Misc Val Mo Sold Yr Sold Sale Type SalePrice  \n",
       "1          nan      0.0       4    2009       WD   220000.0  \n",
       "2          nan      0.0       1    2010       WD   109000.0  \n",
       "\n",
       "[2 rows x 81 columns]"
      ]
     },
     "execution_count": 737,
     "metadata": {},
     "output_type": "execute_result"
    }
   ],
   "source": [
    "train.head(2)"
   ]
  },
  {
   "cell_type": "code",
   "execution_count": 736,
   "id": "0086b2f1-e5a3-4526-9fad-e1256af956fd",
   "metadata": {
    "tags": []
   },
   "outputs": [
    {
     "data": {
      "text/plain": [
       "Index(['Id', 'PID', 'MS SubClass', 'MS Zoning', 'Lot Frontage', 'Lot Area',\n",
       "       'Street', 'Alley', 'Lot Shape', 'Land Contour', 'Utilities',\n",
       "       'Lot Config', 'Land Slope', 'Neighborhood', 'Condition 1',\n",
       "       'Condition 2', 'Bldg Type', 'House Style', 'Overall Qual',\n",
       "       'Overall Cond', 'Year Built', 'Year Remod/Add', 'Roof Style',\n",
       "       'Roof Matl', 'Exterior 1st', 'Exterior 2nd', 'Mas Vnr Type',\n",
       "       'Mas Vnr Area', 'Exter Qual', 'Exter Cond', 'Foundation', 'Bsmt Qual',\n",
       "       'Bsmt Cond', 'Bsmt Exposure', 'BsmtFin Type 1', 'BsmtFin SF 1',\n",
       "       'BsmtFin Type 2', 'BsmtFin SF 2', 'Bsmt Unf SF', 'Total Bsmt SF',\n",
       "       'Heating', 'Heating QC', 'Central Air', 'Electrical', '1st Flr SF',\n",
       "       '2nd Flr SF', 'Low Qual Fin SF', 'Gr Liv Area', 'Bsmt Full Bath',\n",
       "       'Bsmt Half Bath', 'Full Bath', 'Half Bath', 'Bedroom AbvGr',\n",
       "       'Kitchen AbvGr', 'Kitchen Qual', 'TotRms AbvGrd', 'Functional',\n",
       "       'Fireplaces', 'Fireplace Qu', 'Garage Type', 'Garage Yr Blt',\n",
       "       'Garage Finish', 'Garage Cars', 'Garage Area', 'Garage Qual',\n",
       "       'Garage Cond', 'Paved Drive', 'Wood Deck SF', 'Open Porch SF',\n",
       "       'Enclosed Porch', '3Ssn Porch', 'Screen Porch', 'Pool Area', 'Pool QC',\n",
       "       'Fence', 'Misc Feature', 'Misc Val', 'Mo Sold', 'Yr Sold', 'Sale Type',\n",
       "       'SalePrice'],\n",
       "      dtype='object')"
      ]
     },
     "execution_count": 736,
     "metadata": {},
     "output_type": "execute_result"
    }
   ],
   "source": [
    "#check column names\n",
    "train.columns"
   ]
  },
  {
   "cell_type": "code",
   "execution_count": 739,
   "id": "20ee5555-23f5-44af-a20d-d235b7317c73",
   "metadata": {},
   "outputs": [
    {
     "data": {
      "text/plain": [
       "Index(['sale_id', 'parcel_id', 'dwelling_type', 'zoning_type', 'lot_frontage',\n",
       "       'lot_area', 'street_surface', 'alley_surface', 'property_shape',\n",
       "       'property_flatness', 'util_avail', 'lot_position', 'property_slope',\n",
       "       'ames_neighborhood', 'prox_to_transport', 'prox_to_transport_2',\n",
       "       'bldg_type', 'floors', 'house_quality', 'house_condition', 'year_built',\n",
       "       'year_remodeled', 'roof_style', 'roof_material', 'ext_covering',\n",
       "       'ext_covering2', 'masonry_veneer_type', 'masonry_veneer_area',\n",
       "       'exterior_quality', 'exterior_condition', 'foundation_type',\n",
       "       'basement_height', 'basement_condition', 'basement_walkouts',\n",
       "       'basement_finished_rating', 'finished_area',\n",
       "       'basement_finished_rating2', 'finished_area2', 'unfinished_area',\n",
       "       'total_basement_area', 'heating_type', 'heating_quality', 'central_air',\n",
       "       'electrical_setup', 'first_fl_area', 'second_fl_area',\n",
       "       'low_qual_finished_area', 'above_ground_living_area',\n",
       "       'full_bathrooms_basement', 'half_bathrooms_basement',\n",
       "       'full_bathrooms_above_ground', 'half_bathrooms_above_ground',\n",
       "       'bedrooms_above_ground', 'kitchens_above_ground', 'kitchen_quality',\n",
       "       'total_rooms_above_ground', 'home_functionality', 'number_fireplaces',\n",
       "       'fireplace_quality', 'garage_location', 'garage_yr_built',\n",
       "       'garage_finished', 'garage_car_capacity', 'garage_size',\n",
       "       'garage_quality', 'garage_condition', 'driveway_surface',\n",
       "       'wood_deck_size', 'open_porch_size', 'enclose_porch_size',\n",
       "       'three_season_porch_size', 'screen_porch_size', 'pool_size',\n",
       "       'pool_quality', 'fence_quality', 'misc_features', 'misc_features_value',\n",
       "       'month_sold', 'year_sold', 'sale_type', 'sale_price'],\n",
       "      dtype='object')"
      ]
     },
     "execution_count": 739,
     "metadata": {},
     "output_type": "execute_result"
    }
   ],
   "source": [
    "train.rename(columns = {'Id':'sale_id', 'PID':'parcel_id', 'MS SubClass': 'dwelling_type', \n",
    "                        'MS Zoning':'zoning_type', 'Lot Frontage':'lot_frontage', 'Lot Area':'lot_area',\n",
    "                        'Street':'street_surface', 'Alley':'alley_surface', 'Lot Shape':'property_shape',\n",
    "                        'Land Contour':'property_flatness', 'Utilities':'util_avail','Lot Config': 'lot_position',\n",
    "                        'Land Slope':'property_slope', 'Neighborhood':'ames_neighborhood', 'Condition 1':'prox_to_transport',\n",
    "                        'Condition 2':'prox_to_transport_2', 'Bldg Type':'bldg_type', 'House Style':'floors', 'Overall Qual':'house_quality',\n",
    "                        'Overall Cond':'house_condition', 'Year Built':'year_built', 'Year Remod/Add':'year_remodeled',\n",
    "                        'Roof Style':'roof_style','Roof Matl':'roof_material', 'Exterior 1st':'ext_covering', 'Exterior 2nd':'ext_covering2',\n",
    "                        'Mas Vnr Type':'masonry_veneer_type','Mas Vnr Area':'masonry_veneer_area',\n",
    "                        'Exter Qual':'exterior_quality', 'Exter Cond':'exterior_condition',\n",
    "                        'Foundation':'foundation_type', 'Bsmt Qual':'basement_height','Bsmt Cond':'basement_condition',\n",
    "                        'Bsmt Exposure':'basement_walkouts', 'BsmtFin Type 1':'basement_finished_rating', 'BsmtFin SF 1':'finished_area',\n",
    "                        'BsmtFin Type 2':'basement_finished_rating2', 'BsmtFin SF 2':'finished_area2',\n",
    "                        'Bsmt Unf SF':'unfinished_area','Total Bsmt SF':'total_basement_area','Heating':'heating_type',\n",
    "                        'Heating QC':'heating_quality', 'Central Air':'central_air', 'Electrical':'electrical_setup',\n",
    "                        '1st Flr SF':'first_fl_area','2nd Flr SF':'second_fl_area','Low Qual Fin SF':'low_qual_finished_area',\n",
    "                        'Gr Liv Area':'above_ground_living_area', 'Bsmt Full Bath': 'full_bathrooms_basement',\n",
    "                        'Bsmt Half Bath':'half_bathrooms_basement', 'Full Bath':'full_bathrooms_above_ground',\n",
    "                        'Half Bath':'half_bathrooms_above_ground', 'Bedroom AbvGr':'bedrooms_above_ground',\n",
    "                        'Kitchen AbvGr':'kitchens_above_ground', 'Kitchen Qual':'kitchen_quality', 'TotRms AbvGrd':'total_rooms_above_ground',\n",
    "                        'Functional':'home_functionality','Fireplaces':'number_fireplaces', 'Fireplace Qu':'fireplace_quality',\n",
    "                        'Garage Type':'garage_location', 'Garage Yr Blt':'garage_yr_built','Garage Finish':'garage_finished',\n",
    "                        'Garage Cars':'garage_car_capacity', 'Garage Area':'garage_size', 'Garage Qual':'garage_quality','Garage Cond':'garage_condition',\n",
    "                        'Paved Drive':'driveway_surface', 'Wood Deck SF':'wood_deck_size', 'Open Porch SF':'open_porch_size',\n",
    "                        'Enclosed Porch':'enclose_porch_size', '3Ssn Porch':'three_season_porch_size', 'Screen Porch':'screen_porch_size',\n",
    "                        'Pool Area':'pool_size', 'Pool QC':'pool_quality','Fence':'fence_quality', 'Misc Feature':'misc_features',\n",
    "                        'Misc Val':'misc_features_value', 'Mo Sold':'month_sold', 'Yr Sold':'year_sold', 'Sale Type':'sale_type',\n",
    "                        'SalePrice':'sale_price'}, inplace=True)\n",
    "train.columns"
   ]
  },
  {
   "cell_type": "markdown",
   "id": "17b2e321-d76d-4405-95e6-d1c556176383",
   "metadata": {},
   "source": [
    "##### *Handling Categorical Variables*"
   ]
  },
  {
   "cell_type": "code",
   "execution_count": 753,
   "id": "e516038e-c5f1-465f-a1ac-d4b1895a53f4",
   "metadata": {
    "collapsed": true,
    "jupyter": {
     "outputs_hidden": true
    },
    "tags": []
   },
   "outputs": [
    {
     "name": "stdout",
     "output_type": "stream",
     "text": [
      "<class 'pandas.core.frame.DataFrame'>\n",
      "Int64Index: 1272 entries, 1 to 2050\n",
      "Data columns (total 81 columns):\n",
      " #   Column                       Non-Null Count  Dtype  \n",
      "---  ------                       --------------  -----  \n",
      " 0   sale_id                      1272 non-null   int64  \n",
      " 1   parcel_id                    1272 non-null   int64  \n",
      " 2   dwelling_type                1272 non-null   int64  \n",
      " 3   zoning_type                  1272 non-null   object \n",
      " 4   lot_frontage                 1272 non-null   float64\n",
      " 5   lot_area                     1272 non-null   float64\n",
      " 6   street_surface               1272 non-null   object \n",
      " 7   alley_surface                1272 non-null   object \n",
      " 8   property_shape               1272 non-null   object \n",
      " 9   property_flatness            1272 non-null   object \n",
      " 10  util_avail                   1272 non-null   object \n",
      " 11  lot_position                 1272 non-null   object \n",
      " 12  property_slope               1272 non-null   object \n",
      " 13  ames_neighborhood            1272 non-null   object \n",
      " 14  prox_to_transport            1272 non-null   object \n",
      " 15  prox_to_transport_2          1272 non-null   object \n",
      " 16  bldg_type                    1272 non-null   object \n",
      " 17  floors                       1272 non-null   object \n",
      " 18  house_quality                1272 non-null   object \n",
      " 19  house_condition              1272 non-null   object \n",
      " 20  year_built                   1272 non-null   int64  \n",
      " 21  year_remodeled               1272 non-null   int64  \n",
      " 22  roof_style                   1272 non-null   object \n",
      " 23  roof_material                1272 non-null   object \n",
      " 24  ext_covering                 1272 non-null   object \n",
      " 25  ext_covering2                1272 non-null   object \n",
      " 26  masonry_veneer_type          1272 non-null   object \n",
      " 27  masonry_veneer_area          1272 non-null   float64\n",
      " 28  exterior_quality             1272 non-null   object \n",
      " 29  exterior_condition           1272 non-null   object \n",
      " 30  foundation_type              1272 non-null   object \n",
      " 31  basement_height              1272 non-null   object \n",
      " 32  basement_condition           1272 non-null   object \n",
      " 33  basement_walkouts            1272 non-null   object \n",
      " 34  basement_finished_rating     1272 non-null   object \n",
      " 35  finished_area                1272 non-null   float64\n",
      " 36  basement_finished_rating2    1272 non-null   object \n",
      " 37  finished_area2               1272 non-null   float64\n",
      " 38  unfinished_area              1272 non-null   float64\n",
      " 39  total_basement_area          1272 non-null   float64\n",
      " 40  heating_type                 1272 non-null   object \n",
      " 41  heating_quality              1272 non-null   object \n",
      " 42  central_air                  1272 non-null   object \n",
      " 43  electrical_setup             1272 non-null   object \n",
      " 44  first_fl_area                1272 non-null   float64\n",
      " 45  second_fl_area               1272 non-null   float64\n",
      " 46  low_qual_finished_area       1272 non-null   float64\n",
      " 47  above_ground_living_area     1272 non-null   float64\n",
      " 48  full_bathrooms_basement      1272 non-null   object \n",
      " 49  half_bathrooms_basement      1272 non-null   object \n",
      " 50  full_bathrooms_above_ground  1272 non-null   object \n",
      " 51  half_bathrooms_above_ground  1272 non-null   object \n",
      " 52  bedrooms_above_ground        1272 non-null   object \n",
      " 53  kitchens_above_ground        1272 non-null   object \n",
      " 54  kitchen_quality              1272 non-null   object \n",
      " 55  total_rooms_above_ground     1272 non-null   int64  \n",
      " 56  home_functionality           1272 non-null   object \n",
      " 57  number_fireplaces            1272 non-null   int64  \n",
      " 58  fireplace_quality            1272 non-null   object \n",
      " 59  garage_location              1272 non-null   object \n",
      " 60  garage_yr_built              1272 non-null   float64\n",
      " 61  garage_finished              1272 non-null   object \n",
      " 62  garage_car_capacity          1272 non-null   object \n",
      " 63  garage_size                  1272 non-null   float64\n",
      " 64  garage_quality               1272 non-null   object \n",
      " 65  garage_condition             1272 non-null   object \n",
      " 66  driveway_surface             1272 non-null   object \n",
      " 67  wood_deck_size               1272 non-null   float64\n",
      " 68  open_porch_size              1272 non-null   float64\n",
      " 69  enclose_porch_size           1272 non-null   float64\n",
      " 70  three_season_porch_size      1272 non-null   float64\n",
      " 71  screen_porch_size            1272 non-null   float64\n",
      " 72  pool_size                    1272 non-null   float64\n",
      " 73  pool_quality                 1272 non-null   object \n",
      " 74  fence_quality                1272 non-null   object \n",
      " 75  misc_features                1272 non-null   object \n",
      " 76  misc_features_value          1272 non-null   float64\n",
      " 77  month_sold                   1272 non-null   int64  \n",
      " 78  year_sold                    1272 non-null   int64  \n",
      " 79  sale_type                    1272 non-null   object \n",
      " 80  sale_price                   1272 non-null   float64\n",
      "dtypes: float64(21), int64(9), object(51)\n",
      "memory usage: 847.2+ KB\n"
     ]
    }
   ],
   "source": [
    "#check data types\n",
    "train.info()"
   ]
  },
  {
   "cell_type": "code",
   "execution_count": null,
   "id": "a8291a5e-5194-4c6d-9129-a4a207d2b9b6",
   "metadata": {},
   "outputs": [],
   "source": [
    " #need to pass these all as dummy features (cetegorical)\n",
    "\n",
    " 6   street_surface               1272 non-null   object \n",
    " 7   alley_surface                1272 non-null   object \n",
    " 8   property_shape               1272 non-null   object \n",
    " 9   property_flatness            1272 non-null   object \n",
    " 10  util_avail                   1272 non-null   object \n",
    " 11  lot_position                 1272 non-null   object \n",
    " 12  property_slope               1272 non-null   object \n",
    " 13  ames_neighborhood            1272 non-null   object \n",
    " 14  prox_to_transport            1272 non-null   object \n",
    " 15  prox_to_transport_2          1272 non-null   object \n",
    " 16  bldg_type                    1272 non-null   object \n",
    " 17  floors                       1272 non-null   object \n",
    " 18  house_quality                1272 non-null   object \n",
    " 19  house_condition              1272 non-null   object \n",
    " 22  roof_style                   1272 non-null   object \n",
    " 23  roof_material                1272 non-null   object \n",
    " 24  ext_covering                 1272 non-null   object \n",
    " 25  ext_covering2                1272 non-null   object \n",
    " 26  masonry_veneer_type          1272 non-null   object \n",
    " 28  exterior_quality             1272 non-null   object \n",
    " 29  exterior_condition           1272 non-null   object \n",
    " 30  foundation_type              1272 non-null   object \n",
    " 31  basement_height              1272 non-null   object \n",
    " 32  basement_condition           1272 non-null   object \n",
    " 33  basement_walkouts            1272 non-null   object \n",
    " 34  basement_finished_rating     1272 non-null   object \n",
    " 36  basement_finished_rating2    1272 non-null   object \n",
    " 40  heating_type                 1272 non-null   object \n",
    " 41  heating_quality              1272 non-null   object \n",
    " 42  central_air                  1272 non-null   object \n",
    " 43  electrical_setup             1272 non-null   object \n",
    " 48  full_bathrooms_basement      1272 non-null   object \n",
    " 49  half_bathrooms_basement      1272 non-null   object \n",
    " 50  full_bathrooms_above_ground  1272 non-null   object \n",
    " 51  half_bathrooms_above_ground  1272 non-null   object \n",
    " 52  bedrooms_above_ground        1272 non-null   object \n",
    " 53  kitchens_above_ground        1272 non-null   object \n",
    " 54  kitchen_quality              1272 non-null   object \n",
    " 56  home_functionality           1272 non-null   object \n",
    " 58  fireplace_quality            1272 non-null   object \n",
    " 59  garage_location              1272 non-null   object \n",
    " 61  garage_finished              1272 non-null   object \n",
    " 62  garage_car_capacity          1272 non-null   object \n",
    " 64  garage_quality               1272 non-null   object \n",
    " 65  garage_condition             1272 non-null   object \n",
    " 66  driveway_surface             1272 non-null   object \n",
    " 73  pool_quality                 1272 non-null   object \n",
    " 74  fence_quality                1272 non-null   object \n",
    " 75  misc_features                1272 non-null   object \n",
    " 79  sale_type                    1272 non-null   object "
   ]
  },
  {
   "cell_type": "code",
   "execution_count": 755,
   "id": "ae2b162d-f9c3-431b-b4eb-1be7cedcc348",
   "metadata": {},
   "outputs": [],
   "source": [
    "train['dwelling_type'] = train['dwelling_type'].astype(str)"
   ]
  },
  {
   "cell_type": "code",
   "execution_count": 772,
   "id": "adec11b7-6d1a-4897-a8c6-525990af4a2d",
   "metadata": {},
   "outputs": [],
   "source": [
    "dummy_df = pd.get_dummies(train[['dwelling_type','zoning_type','street_surface','alley_surface','property_shape','property_flatness',\n",
    "                     'util_avail','lot_position','property_slope','ames_neighborhood','prox_to_transport','prox_to_transport_2',\n",
    "                     'bldg_type', 'floors','house_quality','house_condition','roof_style', 'roof_material','ext_covering','ext_covering2',\n",
    "                     'masonry_veneer_type','exterior_quality','exterior_condition','foundation_type','basement_height', 'basement_condition',\n",
    "                     'basement_walkouts','basement_finished_rating','basement_finished_rating2','heating_type','heating_quality','central_air',\n",
    "                     'electrical_setup', 'full_bathrooms_basement', 'half_bathrooms_basement', 'full_bathrooms_above_ground',\n",
    "                     'half_bathrooms_above_ground','bedrooms_above_ground', 'kitchens_above_ground', 'kitchen_quality', 'home_functionality',\n",
    "                     'fireplace_quality', 'garage_location', 'garage_finished', 'garage_car_capacity', 'garage_quality',\n",
    "                     'garage_condition', 'driveway_surface','pool_quality','fence_quality', 'misc_features', 'sale_type']])              "
   ]
  },
  {
   "cell_type": "code",
   "execution_count": 774,
   "id": "e83f1aae-8dd4-4780-a880-ce95f69342ef",
   "metadata": {
    "collapsed": true,
    "jupyter": {
     "outputs_hidden": true
    },
    "tags": []
   },
   "outputs": [
    {
     "name": "stdout",
     "output_type": "stream",
     "text": [
      "(1272, 297)\n"
     ]
    },
    {
     "data": {
      "text/html": [
       "<div>\n",
       "<style scoped>\n",
       "    .dataframe tbody tr th:only-of-type {\n",
       "        vertical-align: middle;\n",
       "    }\n",
       "\n",
       "    .dataframe tbody tr th {\n",
       "        vertical-align: top;\n",
       "    }\n",
       "\n",
       "    .dataframe thead th {\n",
       "        text-align: right;\n",
       "    }\n",
       "</style>\n",
       "<table border=\"1\" class=\"dataframe\">\n",
       "  <thead>\n",
       "    <tr style=\"text-align: right;\">\n",
       "      <th></th>\n",
       "      <th>dwelling_type_120</th>\n",
       "      <th>dwelling_type_160</th>\n",
       "      <th>dwelling_type_180</th>\n",
       "      <th>dwelling_type_190</th>\n",
       "      <th>dwelling_type_20</th>\n",
       "      <th>dwelling_type_30</th>\n",
       "      <th>dwelling_type_40</th>\n",
       "      <th>dwelling_type_45</th>\n",
       "      <th>dwelling_type_50</th>\n",
       "      <th>dwelling_type_60</th>\n",
       "      <th>...</th>\n",
       "      <th>misc_features_nan</th>\n",
       "      <th>sale_type_COD</th>\n",
       "      <th>sale_type_CWD</th>\n",
       "      <th>sale_type_Con</th>\n",
       "      <th>sale_type_ConLD</th>\n",
       "      <th>sale_type_ConLI</th>\n",
       "      <th>sale_type_ConLw</th>\n",
       "      <th>sale_type_New</th>\n",
       "      <th>sale_type_Oth</th>\n",
       "      <th>sale_type_WD</th>\n",
       "    </tr>\n",
       "  </thead>\n",
       "  <tbody>\n",
       "    <tr>\n",
       "      <th>1</th>\n",
       "      <td>0</td>\n",
       "      <td>0</td>\n",
       "      <td>0</td>\n",
       "      <td>0</td>\n",
       "      <td>0</td>\n",
       "      <td>0</td>\n",
       "      <td>0</td>\n",
       "      <td>0</td>\n",
       "      <td>0</td>\n",
       "      <td>1</td>\n",
       "      <td>...</td>\n",
       "      <td>1</td>\n",
       "      <td>0</td>\n",
       "      <td>0</td>\n",
       "      <td>0</td>\n",
       "      <td>0</td>\n",
       "      <td>0</td>\n",
       "      <td>0</td>\n",
       "      <td>0</td>\n",
       "      <td>0</td>\n",
       "      <td>1</td>\n",
       "    </tr>\n",
       "    <tr>\n",
       "      <th>2</th>\n",
       "      <td>0</td>\n",
       "      <td>0</td>\n",
       "      <td>0</td>\n",
       "      <td>0</td>\n",
       "      <td>1</td>\n",
       "      <td>0</td>\n",
       "      <td>0</td>\n",
       "      <td>0</td>\n",
       "      <td>0</td>\n",
       "      <td>0</td>\n",
       "      <td>...</td>\n",
       "      <td>1</td>\n",
       "      <td>0</td>\n",
       "      <td>0</td>\n",
       "      <td>0</td>\n",
       "      <td>0</td>\n",
       "      <td>0</td>\n",
       "      <td>0</td>\n",
       "      <td>0</td>\n",
       "      <td>0</td>\n",
       "      <td>1</td>\n",
       "    </tr>\n",
       "    <tr>\n",
       "      <th>3</th>\n",
       "      <td>0</td>\n",
       "      <td>0</td>\n",
       "      <td>0</td>\n",
       "      <td>0</td>\n",
       "      <td>0</td>\n",
       "      <td>0</td>\n",
       "      <td>0</td>\n",
       "      <td>0</td>\n",
       "      <td>0</td>\n",
       "      <td>1</td>\n",
       "      <td>...</td>\n",
       "      <td>1</td>\n",
       "      <td>0</td>\n",
       "      <td>0</td>\n",
       "      <td>0</td>\n",
       "      <td>0</td>\n",
       "      <td>0</td>\n",
       "      <td>0</td>\n",
       "      <td>0</td>\n",
       "      <td>0</td>\n",
       "      <td>1</td>\n",
       "    </tr>\n",
       "    <tr>\n",
       "      <th>4</th>\n",
       "      <td>0</td>\n",
       "      <td>0</td>\n",
       "      <td>0</td>\n",
       "      <td>0</td>\n",
       "      <td>0</td>\n",
       "      <td>0</td>\n",
       "      <td>0</td>\n",
       "      <td>0</td>\n",
       "      <td>1</td>\n",
       "      <td>0</td>\n",
       "      <td>...</td>\n",
       "      <td>1</td>\n",
       "      <td>0</td>\n",
       "      <td>0</td>\n",
       "      <td>0</td>\n",
       "      <td>0</td>\n",
       "      <td>0</td>\n",
       "      <td>0</td>\n",
       "      <td>0</td>\n",
       "      <td>0</td>\n",
       "      <td>1</td>\n",
       "    </tr>\n",
       "    <tr>\n",
       "      <th>6</th>\n",
       "      <td>0</td>\n",
       "      <td>0</td>\n",
       "      <td>1</td>\n",
       "      <td>0</td>\n",
       "      <td>0</td>\n",
       "      <td>0</td>\n",
       "      <td>0</td>\n",
       "      <td>0</td>\n",
       "      <td>0</td>\n",
       "      <td>0</td>\n",
       "      <td>...</td>\n",
       "      <td>1</td>\n",
       "      <td>0</td>\n",
       "      <td>0</td>\n",
       "      <td>0</td>\n",
       "      <td>0</td>\n",
       "      <td>0</td>\n",
       "      <td>0</td>\n",
       "      <td>1</td>\n",
       "      <td>0</td>\n",
       "      <td>0</td>\n",
       "    </tr>\n",
       "    <tr>\n",
       "      <th>9</th>\n",
       "      <td>0</td>\n",
       "      <td>0</td>\n",
       "      <td>0</td>\n",
       "      <td>0</td>\n",
       "      <td>0</td>\n",
       "      <td>0</td>\n",
       "      <td>0</td>\n",
       "      <td>0</td>\n",
       "      <td>0</td>\n",
       "      <td>1</td>\n",
       "      <td>...</td>\n",
       "      <td>1</td>\n",
       "      <td>0</td>\n",
       "      <td>0</td>\n",
       "      <td>0</td>\n",
       "      <td>0</td>\n",
       "      <td>0</td>\n",
       "      <td>0</td>\n",
       "      <td>0</td>\n",
       "      <td>0</td>\n",
       "      <td>1</td>\n",
       "    </tr>\n",
       "    <tr>\n",
       "      <th>11</th>\n",
       "      <td>0</td>\n",
       "      <td>0</td>\n",
       "      <td>0</td>\n",
       "      <td>0</td>\n",
       "      <td>1</td>\n",
       "      <td>0</td>\n",
       "      <td>0</td>\n",
       "      <td>0</td>\n",
       "      <td>0</td>\n",
       "      <td>0</td>\n",
       "      <td>...</td>\n",
       "      <td>1</td>\n",
       "      <td>0</td>\n",
       "      <td>0</td>\n",
       "      <td>0</td>\n",
       "      <td>0</td>\n",
       "      <td>0</td>\n",
       "      <td>0</td>\n",
       "      <td>0</td>\n",
       "      <td>0</td>\n",
       "      <td>1</td>\n",
       "    </tr>\n",
       "    <tr>\n",
       "      <th>14</th>\n",
       "      <td>0</td>\n",
       "      <td>0</td>\n",
       "      <td>0</td>\n",
       "      <td>0</td>\n",
       "      <td>1</td>\n",
       "      <td>0</td>\n",
       "      <td>0</td>\n",
       "      <td>0</td>\n",
       "      <td>0</td>\n",
       "      <td>0</td>\n",
       "      <td>...</td>\n",
       "      <td>1</td>\n",
       "      <td>0</td>\n",
       "      <td>0</td>\n",
       "      <td>0</td>\n",
       "      <td>0</td>\n",
       "      <td>0</td>\n",
       "      <td>0</td>\n",
       "      <td>0</td>\n",
       "      <td>0</td>\n",
       "      <td>1</td>\n",
       "    </tr>\n",
       "    <tr>\n",
       "      <th>15</th>\n",
       "      <td>0</td>\n",
       "      <td>0</td>\n",
       "      <td>0</td>\n",
       "      <td>0</td>\n",
       "      <td>1</td>\n",
       "      <td>0</td>\n",
       "      <td>0</td>\n",
       "      <td>0</td>\n",
       "      <td>0</td>\n",
       "      <td>0</td>\n",
       "      <td>...</td>\n",
       "      <td>1</td>\n",
       "      <td>0</td>\n",
       "      <td>0</td>\n",
       "      <td>0</td>\n",
       "      <td>0</td>\n",
       "      <td>0</td>\n",
       "      <td>0</td>\n",
       "      <td>0</td>\n",
       "      <td>0</td>\n",
       "      <td>1</td>\n",
       "    </tr>\n",
       "    <tr>\n",
       "      <th>16</th>\n",
       "      <td>0</td>\n",
       "      <td>0</td>\n",
       "      <td>0</td>\n",
       "      <td>0</td>\n",
       "      <td>0</td>\n",
       "      <td>0</td>\n",
       "      <td>0</td>\n",
       "      <td>0</td>\n",
       "      <td>0</td>\n",
       "      <td>0</td>\n",
       "      <td>...</td>\n",
       "      <td>1</td>\n",
       "      <td>1</td>\n",
       "      <td>0</td>\n",
       "      <td>0</td>\n",
       "      <td>0</td>\n",
       "      <td>0</td>\n",
       "      <td>0</td>\n",
       "      <td>0</td>\n",
       "      <td>0</td>\n",
       "      <td>0</td>\n",
       "    </tr>\n",
       "    <tr>\n",
       "      <th>17</th>\n",
       "      <td>0</td>\n",
       "      <td>0</td>\n",
       "      <td>0</td>\n",
       "      <td>0</td>\n",
       "      <td>1</td>\n",
       "      <td>0</td>\n",
       "      <td>0</td>\n",
       "      <td>0</td>\n",
       "      <td>0</td>\n",
       "      <td>0</td>\n",
       "      <td>...</td>\n",
       "      <td>1</td>\n",
       "      <td>0</td>\n",
       "      <td>0</td>\n",
       "      <td>0</td>\n",
       "      <td>0</td>\n",
       "      <td>0</td>\n",
       "      <td>0</td>\n",
       "      <td>0</td>\n",
       "      <td>0</td>\n",
       "      <td>1</td>\n",
       "    </tr>\n",
       "    <tr>\n",
       "      <th>18</th>\n",
       "      <td>0</td>\n",
       "      <td>0</td>\n",
       "      <td>0</td>\n",
       "      <td>0</td>\n",
       "      <td>1</td>\n",
       "      <td>0</td>\n",
       "      <td>0</td>\n",
       "      <td>0</td>\n",
       "      <td>0</td>\n",
       "      <td>0</td>\n",
       "      <td>...</td>\n",
       "      <td>1</td>\n",
       "      <td>0</td>\n",
       "      <td>0</td>\n",
       "      <td>0</td>\n",
       "      <td>0</td>\n",
       "      <td>0</td>\n",
       "      <td>0</td>\n",
       "      <td>0</td>\n",
       "      <td>0</td>\n",
       "      <td>1</td>\n",
       "    </tr>\n",
       "    <tr>\n",
       "      <th>19</th>\n",
       "      <td>0</td>\n",
       "      <td>0</td>\n",
       "      <td>0</td>\n",
       "      <td>0</td>\n",
       "      <td>0</td>\n",
       "      <td>0</td>\n",
       "      <td>0</td>\n",
       "      <td>0</td>\n",
       "      <td>0</td>\n",
       "      <td>1</td>\n",
       "      <td>...</td>\n",
       "      <td>1</td>\n",
       "      <td>0</td>\n",
       "      <td>0</td>\n",
       "      <td>1</td>\n",
       "      <td>0</td>\n",
       "      <td>0</td>\n",
       "      <td>0</td>\n",
       "      <td>0</td>\n",
       "      <td>0</td>\n",
       "      <td>0</td>\n",
       "    </tr>\n",
       "    <tr>\n",
       "      <th>20</th>\n",
       "      <td>0</td>\n",
       "      <td>0</td>\n",
       "      <td>0</td>\n",
       "      <td>0</td>\n",
       "      <td>1</td>\n",
       "      <td>0</td>\n",
       "      <td>0</td>\n",
       "      <td>0</td>\n",
       "      <td>0</td>\n",
       "      <td>0</td>\n",
       "      <td>...</td>\n",
       "      <td>1</td>\n",
       "      <td>0</td>\n",
       "      <td>0</td>\n",
       "      <td>0</td>\n",
       "      <td>0</td>\n",
       "      <td>0</td>\n",
       "      <td>0</td>\n",
       "      <td>0</td>\n",
       "      <td>0</td>\n",
       "      <td>1</td>\n",
       "    </tr>\n",
       "    <tr>\n",
       "      <th>21</th>\n",
       "      <td>1</td>\n",
       "      <td>0</td>\n",
       "      <td>0</td>\n",
       "      <td>0</td>\n",
       "      <td>0</td>\n",
       "      <td>0</td>\n",
       "      <td>0</td>\n",
       "      <td>0</td>\n",
       "      <td>0</td>\n",
       "      <td>0</td>\n",
       "      <td>...</td>\n",
       "      <td>1</td>\n",
       "      <td>0</td>\n",
       "      <td>0</td>\n",
       "      <td>0</td>\n",
       "      <td>0</td>\n",
       "      <td>0</td>\n",
       "      <td>0</td>\n",
       "      <td>0</td>\n",
       "      <td>0</td>\n",
       "      <td>1</td>\n",
       "    </tr>\n",
       "    <tr>\n",
       "      <th>25</th>\n",
       "      <td>0</td>\n",
       "      <td>0</td>\n",
       "      <td>0</td>\n",
       "      <td>0</td>\n",
       "      <td>1</td>\n",
       "      <td>0</td>\n",
       "      <td>0</td>\n",
       "      <td>0</td>\n",
       "      <td>0</td>\n",
       "      <td>0</td>\n",
       "      <td>...</td>\n",
       "      <td>1</td>\n",
       "      <td>0</td>\n",
       "      <td>0</td>\n",
       "      <td>0</td>\n",
       "      <td>0</td>\n",
       "      <td>0</td>\n",
       "      <td>0</td>\n",
       "      <td>0</td>\n",
       "      <td>0</td>\n",
       "      <td>1</td>\n",
       "    </tr>\n",
       "    <tr>\n",
       "      <th>26</th>\n",
       "      <td>0</td>\n",
       "      <td>0</td>\n",
       "      <td>0</td>\n",
       "      <td>0</td>\n",
       "      <td>1</td>\n",
       "      <td>0</td>\n",
       "      <td>0</td>\n",
       "      <td>0</td>\n",
       "      <td>0</td>\n",
       "      <td>0</td>\n",
       "      <td>...</td>\n",
       "      <td>1</td>\n",
       "      <td>0</td>\n",
       "      <td>0</td>\n",
       "      <td>0</td>\n",
       "      <td>0</td>\n",
       "      <td>0</td>\n",
       "      <td>0</td>\n",
       "      <td>0</td>\n",
       "      <td>0</td>\n",
       "      <td>1</td>\n",
       "    </tr>\n",
       "    <tr>\n",
       "      <th>29</th>\n",
       "      <td>0</td>\n",
       "      <td>0</td>\n",
       "      <td>0</td>\n",
       "      <td>0</td>\n",
       "      <td>0</td>\n",
       "      <td>0</td>\n",
       "      <td>0</td>\n",
       "      <td>0</td>\n",
       "      <td>1</td>\n",
       "      <td>0</td>\n",
       "      <td>...</td>\n",
       "      <td>0</td>\n",
       "      <td>0</td>\n",
       "      <td>0</td>\n",
       "      <td>0</td>\n",
       "      <td>0</td>\n",
       "      <td>0</td>\n",
       "      <td>0</td>\n",
       "      <td>0</td>\n",
       "      <td>0</td>\n",
       "      <td>1</td>\n",
       "    </tr>\n",
       "    <tr>\n",
       "      <th>32</th>\n",
       "      <td>1</td>\n",
       "      <td>0</td>\n",
       "      <td>0</td>\n",
       "      <td>0</td>\n",
       "      <td>0</td>\n",
       "      <td>0</td>\n",
       "      <td>0</td>\n",
       "      <td>0</td>\n",
       "      <td>0</td>\n",
       "      <td>0</td>\n",
       "      <td>...</td>\n",
       "      <td>1</td>\n",
       "      <td>0</td>\n",
       "      <td>0</td>\n",
       "      <td>0</td>\n",
       "      <td>0</td>\n",
       "      <td>0</td>\n",
       "      <td>0</td>\n",
       "      <td>0</td>\n",
       "      <td>0</td>\n",
       "      <td>1</td>\n",
       "    </tr>\n",
       "    <tr>\n",
       "      <th>33</th>\n",
       "      <td>0</td>\n",
       "      <td>0</td>\n",
       "      <td>0</td>\n",
       "      <td>0</td>\n",
       "      <td>1</td>\n",
       "      <td>0</td>\n",
       "      <td>0</td>\n",
       "      <td>0</td>\n",
       "      <td>0</td>\n",
       "      <td>0</td>\n",
       "      <td>...</td>\n",
       "      <td>1</td>\n",
       "      <td>0</td>\n",
       "      <td>0</td>\n",
       "      <td>0</td>\n",
       "      <td>0</td>\n",
       "      <td>0</td>\n",
       "      <td>0</td>\n",
       "      <td>0</td>\n",
       "      <td>0</td>\n",
       "      <td>1</td>\n",
       "    </tr>\n",
       "  </tbody>\n",
       "</table>\n",
       "<p>20 rows × 297 columns</p>\n",
       "</div>"
      ],
      "text/plain": [
       "    dwelling_type_120  dwelling_type_160  dwelling_type_180  \\\n",
       "1                   0                  0                  0   \n",
       "2                   0                  0                  0   \n",
       "3                   0                  0                  0   \n",
       "4                   0                  0                  0   \n",
       "6                   0                  0                  1   \n",
       "9                   0                  0                  0   \n",
       "11                  0                  0                  0   \n",
       "14                  0                  0                  0   \n",
       "15                  0                  0                  0   \n",
       "16                  0                  0                  0   \n",
       "17                  0                  0                  0   \n",
       "18                  0                  0                  0   \n",
       "19                  0                  0                  0   \n",
       "20                  0                  0                  0   \n",
       "21                  1                  0                  0   \n",
       "25                  0                  0                  0   \n",
       "26                  0                  0                  0   \n",
       "29                  0                  0                  0   \n",
       "32                  1                  0                  0   \n",
       "33                  0                  0                  0   \n",
       "\n",
       "    dwelling_type_190  dwelling_type_20  dwelling_type_30  dwelling_type_40  \\\n",
       "1                   0                 0                 0                 0   \n",
       "2                   0                 1                 0                 0   \n",
       "3                   0                 0                 0                 0   \n",
       "4                   0                 0                 0                 0   \n",
       "6                   0                 0                 0                 0   \n",
       "9                   0                 0                 0                 0   \n",
       "11                  0                 1                 0                 0   \n",
       "14                  0                 1                 0                 0   \n",
       "15                  0                 1                 0                 0   \n",
       "16                  0                 0                 0                 0   \n",
       "17                  0                 1                 0                 0   \n",
       "18                  0                 1                 0                 0   \n",
       "19                  0                 0                 0                 0   \n",
       "20                  0                 1                 0                 0   \n",
       "21                  0                 0                 0                 0   \n",
       "25                  0                 1                 0                 0   \n",
       "26                  0                 1                 0                 0   \n",
       "29                  0                 0                 0                 0   \n",
       "32                  0                 0                 0                 0   \n",
       "33                  0                 1                 0                 0   \n",
       "\n",
       "    dwelling_type_45  dwelling_type_50  dwelling_type_60  ...  \\\n",
       "1                  0                 0                 1  ...   \n",
       "2                  0                 0                 0  ...   \n",
       "3                  0                 0                 1  ...   \n",
       "4                  0                 1                 0  ...   \n",
       "6                  0                 0                 0  ...   \n",
       "9                  0                 0                 1  ...   \n",
       "11                 0                 0                 0  ...   \n",
       "14                 0                 0                 0  ...   \n",
       "15                 0                 0                 0  ...   \n",
       "16                 0                 0                 0  ...   \n",
       "17                 0                 0                 0  ...   \n",
       "18                 0                 0                 0  ...   \n",
       "19                 0                 0                 1  ...   \n",
       "20                 0                 0                 0  ...   \n",
       "21                 0                 0                 0  ...   \n",
       "25                 0                 0                 0  ...   \n",
       "26                 0                 0                 0  ...   \n",
       "29                 0                 1                 0  ...   \n",
       "32                 0                 0                 0  ...   \n",
       "33                 0                 0                 0  ...   \n",
       "\n",
       "    misc_features_nan  sale_type_COD  sale_type_CWD  sale_type_Con  \\\n",
       "1                   1              0              0              0   \n",
       "2                   1              0              0              0   \n",
       "3                   1              0              0              0   \n",
       "4                   1              0              0              0   \n",
       "6                   1              0              0              0   \n",
       "9                   1              0              0              0   \n",
       "11                  1              0              0              0   \n",
       "14                  1              0              0              0   \n",
       "15                  1              0              0              0   \n",
       "16                  1              1              0              0   \n",
       "17                  1              0              0              0   \n",
       "18                  1              0              0              0   \n",
       "19                  1              0              0              1   \n",
       "20                  1              0              0              0   \n",
       "21                  1              0              0              0   \n",
       "25                  1              0              0              0   \n",
       "26                  1              0              0              0   \n",
       "29                  0              0              0              0   \n",
       "32                  1              0              0              0   \n",
       "33                  1              0              0              0   \n",
       "\n",
       "    sale_type_ConLD  sale_type_ConLI  sale_type_ConLw  sale_type_New  \\\n",
       "1                 0                0                0              0   \n",
       "2                 0                0                0              0   \n",
       "3                 0                0                0              0   \n",
       "4                 0                0                0              0   \n",
       "6                 0                0                0              1   \n",
       "9                 0                0                0              0   \n",
       "11                0                0                0              0   \n",
       "14                0                0                0              0   \n",
       "15                0                0                0              0   \n",
       "16                0                0                0              0   \n",
       "17                0                0                0              0   \n",
       "18                0                0                0              0   \n",
       "19                0                0                0              0   \n",
       "20                0                0                0              0   \n",
       "21                0                0                0              0   \n",
       "25                0                0                0              0   \n",
       "26                0                0                0              0   \n",
       "29                0                0                0              0   \n",
       "32                0                0                0              0   \n",
       "33                0                0                0              0   \n",
       "\n",
       "    sale_type_Oth  sale_type_WD   \n",
       "1               0              1  \n",
       "2               0              1  \n",
       "3               0              1  \n",
       "4               0              1  \n",
       "6               0              0  \n",
       "9               0              1  \n",
       "11              0              1  \n",
       "14              0              1  \n",
       "15              0              1  \n",
       "16              0              0  \n",
       "17              0              1  \n",
       "18              0              1  \n",
       "19              0              0  \n",
       "20              0              1  \n",
       "21              0              1  \n",
       "25              0              1  \n",
       "26              0              1  \n",
       "29              0              1  \n",
       "32              0              1  \n",
       "33              0              1  \n",
       "\n",
       "[20 rows x 297 columns]"
      ]
     },
     "execution_count": 774,
     "metadata": {},
     "output_type": "execute_result"
    }
   ],
   "source": [
    "print(dummy_df.shape)\n",
    "dummy_df.head(20)"
   ]
  },
  {
   "cell_type": "code",
   "execution_count": 775,
   "id": "83483984-595e-4830-a8b8-e044db1cc0fe",
   "metadata": {},
   "outputs": [],
   "source": [
    "dummy_df['sale_price'] = train['sale_price']"
   ]
  },
  {
   "cell_type": "code",
   "execution_count": 782,
   "id": "26809609-dc74-4a2f-a5db-dc21d6849e05",
   "metadata": {},
   "outputs": [
    {
     "data": {
      "text/html": [
       "<div>\n",
       "<style scoped>\n",
       "    .dataframe tbody tr th:only-of-type {\n",
       "        vertical-align: middle;\n",
       "    }\n",
       "\n",
       "    .dataframe tbody tr th {\n",
       "        vertical-align: top;\n",
       "    }\n",
       "\n",
       "    .dataframe thead th {\n",
       "        text-align: right;\n",
       "    }\n",
       "</style>\n",
       "<table border=\"1\" class=\"dataframe\">\n",
       "  <thead>\n",
       "    <tr style=\"text-align: right;\">\n",
       "      <th></th>\n",
       "      <th>sale_price</th>\n",
       "    </tr>\n",
       "  </thead>\n",
       "  <tbody>\n",
       "    <tr>\n",
       "      <th>sale_price</th>\n",
       "      <td>1.000000</td>\n",
       "    </tr>\n",
       "    <tr>\n",
       "      <th>exterior_quality_Gd</th>\n",
       "      <td>0.622846</td>\n",
       "    </tr>\n",
       "    <tr>\n",
       "      <th>foundation_type_PConc</th>\n",
       "      <td>0.598865</td>\n",
       "    </tr>\n",
       "    <tr>\n",
       "      <th>full_bathrooms_above_ground_2</th>\n",
       "      <td>0.587672</td>\n",
       "    </tr>\n",
       "    <tr>\n",
       "      <th>house_quality_8</th>\n",
       "      <td>0.551639</td>\n",
       "    </tr>\n",
       "    <tr>\n",
       "      <th>...</th>\n",
       "      <td>...</td>\n",
       "    </tr>\n",
       "    <tr>\n",
       "      <th>kitchen_quality_TA</th>\n",
       "      <td>-0.562917</td>\n",
       "    </tr>\n",
       "    <tr>\n",
       "      <th>garage_finished_Unf</th>\n",
       "      <td>-0.567855</td>\n",
       "    </tr>\n",
       "    <tr>\n",
       "      <th>full_bathrooms_above_ground_1</th>\n",
       "      <td>-0.600389</td>\n",
       "    </tr>\n",
       "    <tr>\n",
       "      <th>exterior_quality_TA</th>\n",
       "      <td>-0.642072</td>\n",
       "    </tr>\n",
       "    <tr>\n",
       "      <th>util_avail_AllPub</th>\n",
       "      <td>NaN</td>\n",
       "    </tr>\n",
       "  </tbody>\n",
       "</table>\n",
       "<p>298 rows × 1 columns</p>\n",
       "</div>"
      ],
      "text/plain": [
       "                               sale_price\n",
       "sale_price                       1.000000\n",
       "exterior_quality_Gd              0.622846\n",
       "foundation_type_PConc            0.598865\n",
       "full_bathrooms_above_ground_2    0.587672\n",
       "house_quality_8                  0.551639\n",
       "...                                   ...\n",
       "kitchen_quality_TA              -0.562917\n",
       "garage_finished_Unf             -0.567855\n",
       "full_bathrooms_above_ground_1   -0.600389\n",
       "exterior_quality_TA             -0.642072\n",
       "util_avail_AllPub                     NaN\n",
       "\n",
       "[298 rows x 1 columns]"
      ]
     },
     "execution_count": 782,
     "metadata": {},
     "output_type": "execute_result"
    }
   ],
   "source": [
    "# comparing correlations of all categorical features to target \n",
    "dummy_df.corr()[['sale_price']].sort_values(by = 'sale_price', ascending=False)"
   ]
  },
  {
   "cell_type": "code",
   "execution_count": null,
   "id": "0ebd6580-cb05-4150-830a-49b42d0cf614",
   "metadata": {},
   "outputs": [],
   "source": [
    "#(add dummy columns to original df)"
   ]
  },
  {
   "cell_type": "markdown",
   "id": "0d4ec738-7424-48be-8b94-b926585e762b",
   "metadata": {},
   "source": [
    "-------\n",
    "##### *Exploratory Visualizations*"
   ]
  },
  {
   "cell_type": "code",
   "execution_count": 751,
   "id": "2889cbd8-f7a8-4b6d-8503-c437adfdb5c1",
   "metadata": {},
   "outputs": [
    {
     "data": {
      "image/png": "[encoded data removed]",
      "text/plain": [
       "<Figure size 720x720 with 2 Axes>"
      ]
     },
     "metadata": {
      "needs_background": "light"
     },
     "output_type": "display_data"
    }
   ],
   "source": [
    "# comparing correlations of all numerical features to target (before creating dummy columns for categorical features)\n",
    "plt.figure(figsize=(10,10))\n",
    "sns.heatmap(train.corr()[['sale_price']].sort_values(by = 'sale_price', ascending=False), \n",
    "            annot=True,\n",
    "            vmin = -1,\n",
    "            vmax = 1,\n",
    "            cmap = 'coolwarm');          "
   ]
  },
  {
   "cell_type": "code",
   "execution_count": 750,
   "id": "eec60224-ed59-48fc-b524-efe76888412e",
   "metadata": {},
   "outputs": [
    {
     "data": {
      "image/png": "[encoded data removed]",
      "text/plain": [
       "<Figure size 900x900 with 20 Axes>"
      ]
     },
     "metadata": {
      "needs_background": "light"
     },
     "output_type": "display_data"
    }
   ],
   "source": [
    "mask = np.zeros_like(train.corr()[['year_built','above_ground_living_area','garage_yr_built', 'year_remodeled','sale_price']])\n",
    "mask[np.triu_indices_from(mask)] = True\n",
    "\n",
    "sns.pairplot(train[['year_built','above_ground_living_area','garage_yr_built', 'year_remodeled','sale_price']],\n",
    "            corner = True);"
   ]
  },
  {
   "cell_type": "code",
   "execution_count": null,
   "id": "a96f96df-64d0-4497-8f42-3dd255c9a51f",
   "metadata": {},
   "outputs": [],
   "source": [
    "# for exploration and modelling\n",
    "#explore: sns.heatmap(df.corr()[['SalesPrice']], annot=True, ...)\n",
    "#1) run model where all features includes - X = df.drop(columns = 'SalesPrice')"
   ]
  },
  {
   "cell_type": "code",
   "execution_count": null,
   "id": "4899aa01-e52c-415b-8bc8-f9a43a099e7c",
   "metadata": {},
   "outputs": [],
   "source": [
    "# Three different way to create X:\n",
    "#X = ads[['TV', 'radio', 'newspaper']]\n",
    "\n",
    "#X = ads.drop(columns = ['sales']) # recommended with high dimensional datasets\n"
   ]
  },
  {
   "cell_type": "code",
   "execution_count": null,
   "id": "031498d6-9fc4-4b5d-9dfe-b5c358bd4566",
   "metadata": {},
   "outputs": [],
   "source": [
    "model without feature engineering, interaction terms, dropping collinear features manually"
   ]
  }
 ],
 "metadata": {
  "kernelspec": {
   "display_name": "Python [conda env:dsi] *",
   "language": "python",
   "name": "conda-env-dsi-py"
  },
  "language_info": {
   "codemirror_mode": {
    "name": "ipython",
    "version": 3
   },
   "file_extension": ".py",
   "mimetype": "text/x-python",
   "name": "python",
   "nbconvert_exporter": "python",
   "pygments_lexer": "ipython3",
   "version": "3.9.12"
  }
 },
 "nbformat": 4,
 "nbformat_minor": 5
}
