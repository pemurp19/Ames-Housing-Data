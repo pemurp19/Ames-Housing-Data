{
 "cells": [
  {
   "cell_type": "markdown",
   "id": "f9e9e30b-9ee5-427d-a528-11b059425afa",
   "metadata": {},
   "source": [
    "# **EDA and Cleaning Train CSV**\n",
    "\n"
   ]
  },
  {
   "cell_type": "markdown",
   "id": "cbba978c-9b9c-40ab-a179-c65bb69a20e5",
   "metadata": {},
   "source": [
    "### **Imports**\n",
    "---"
   ]
  },
  {
   "cell_type": "code",
   "execution_count": 174,
   "id": "b08a77fe-2d91-4c12-8ca5-25ec646355e7",
   "metadata": {},
   "outputs": [],
   "source": [
    "import pandas as pd\n",
    "import numpy as np\n",
    "import matplotlib.pyplot as plt\n",
    "import seaborn as sns"
   ]
  },
  {
   "cell_type": "markdown",
   "id": "54db988a-b436-4e93-a7b3-1693247dae5c",
   "metadata": {},
   "source": [
    "### **Load the data**\n",
    "-----"
   ]
  },
  {
   "cell_type": "code",
   "execution_count": 175,
   "id": "c7605a5f-5ab7-4d2a-a6f5-34b349d64037",
   "metadata": {},
   "outputs": [
    {
     "data": {
      "text/html": [
       "<div>\n",
       "<style scoped>\n",
       "    .dataframe tbody tr th:only-of-type {\n",
       "        vertical-align: middle;\n",
       "    }\n",
       "\n",
       "    .dataframe tbody tr th {\n",
       "        vertical-align: top;\n",
       "    }\n",
       "\n",
       "    .dataframe thead th {\n",
       "        text-align: right;\n",
       "    }\n",
       "</style>\n",
       "<table border=\"1\" class=\"dataframe\">\n",
       "  <thead>\n",
       "    <tr style=\"text-align: right;\">\n",
       "      <th></th>\n",
       "      <th>Id</th>\n",
       "      <th>PID</th>\n",
       "      <th>MS SubClass</th>\n",
       "      <th>MS Zoning</th>\n",
       "      <th>Lot Frontage</th>\n",
       "      <th>Lot Area</th>\n",
       "      <th>Street</th>\n",
       "      <th>Alley</th>\n",
       "      <th>Lot Shape</th>\n",
       "      <th>Land Contour</th>\n",
       "      <th>...</th>\n",
       "      <th>Screen Porch</th>\n",
       "      <th>Pool Area</th>\n",
       "      <th>Pool QC</th>\n",
       "      <th>Fence</th>\n",
       "      <th>Misc Feature</th>\n",
       "      <th>Misc Val</th>\n",
       "      <th>Mo Sold</th>\n",
       "      <th>Yr Sold</th>\n",
       "      <th>Sale Type</th>\n",
       "      <th>SalePrice</th>\n",
       "    </tr>\n",
       "  </thead>\n",
       "  <tbody>\n",
       "    <tr>\n",
       "      <th>0</th>\n",
       "      <td>109</td>\n",
       "      <td>533352170</td>\n",
       "      <td>60</td>\n",
       "      <td>RL</td>\n",
       "      <td>NaN</td>\n",
       "      <td>13517</td>\n",
       "      <td>Pave</td>\n",
       "      <td>NaN</td>\n",
       "      <td>IR1</td>\n",
       "      <td>Lvl</td>\n",
       "      <td>...</td>\n",
       "      <td>0</td>\n",
       "      <td>0</td>\n",
       "      <td>NaN</td>\n",
       "      <td>NaN</td>\n",
       "      <td>NaN</td>\n",
       "      <td>0</td>\n",
       "      <td>3</td>\n",
       "      <td>2010</td>\n",
       "      <td>WD</td>\n",
       "      <td>130500</td>\n",
       "    </tr>\n",
       "    <tr>\n",
       "      <th>1</th>\n",
       "      <td>544</td>\n",
       "      <td>531379050</td>\n",
       "      <td>60</td>\n",
       "      <td>RL</td>\n",
       "      <td>43.0</td>\n",
       "      <td>11492</td>\n",
       "      <td>Pave</td>\n",
       "      <td>NaN</td>\n",
       "      <td>IR1</td>\n",
       "      <td>Lvl</td>\n",
       "      <td>...</td>\n",
       "      <td>0</td>\n",
       "      <td>0</td>\n",
       "      <td>NaN</td>\n",
       "      <td>NaN</td>\n",
       "      <td>NaN</td>\n",
       "      <td>0</td>\n",
       "      <td>4</td>\n",
       "      <td>2009</td>\n",
       "      <td>WD</td>\n",
       "      <td>220000</td>\n",
       "    </tr>\n",
       "    <tr>\n",
       "      <th>2</th>\n",
       "      <td>153</td>\n",
       "      <td>535304180</td>\n",
       "      <td>20</td>\n",
       "      <td>RL</td>\n",
       "      <td>68.0</td>\n",
       "      <td>7922</td>\n",
       "      <td>Pave</td>\n",
       "      <td>NaN</td>\n",
       "      <td>Reg</td>\n",
       "      <td>Lvl</td>\n",
       "      <td>...</td>\n",
       "      <td>0</td>\n",
       "      <td>0</td>\n",
       "      <td>NaN</td>\n",
       "      <td>NaN</td>\n",
       "      <td>NaN</td>\n",
       "      <td>0</td>\n",
       "      <td>1</td>\n",
       "      <td>2010</td>\n",
       "      <td>WD</td>\n",
       "      <td>109000</td>\n",
       "    </tr>\n",
       "    <tr>\n",
       "      <th>3</th>\n",
       "      <td>318</td>\n",
       "      <td>916386060</td>\n",
       "      <td>60</td>\n",
       "      <td>RL</td>\n",
       "      <td>73.0</td>\n",
       "      <td>9802</td>\n",
       "      <td>Pave</td>\n",
       "      <td>NaN</td>\n",
       "      <td>Reg</td>\n",
       "      <td>Lvl</td>\n",
       "      <td>...</td>\n",
       "      <td>0</td>\n",
       "      <td>0</td>\n",
       "      <td>NaN</td>\n",
       "      <td>NaN</td>\n",
       "      <td>NaN</td>\n",
       "      <td>0</td>\n",
       "      <td>4</td>\n",
       "      <td>2010</td>\n",
       "      <td>WD</td>\n",
       "      <td>174000</td>\n",
       "    </tr>\n",
       "    <tr>\n",
       "      <th>4</th>\n",
       "      <td>255</td>\n",
       "      <td>906425045</td>\n",
       "      <td>50</td>\n",
       "      <td>RL</td>\n",
       "      <td>82.0</td>\n",
       "      <td>14235</td>\n",
       "      <td>Pave</td>\n",
       "      <td>NaN</td>\n",
       "      <td>IR1</td>\n",
       "      <td>Lvl</td>\n",
       "      <td>...</td>\n",
       "      <td>0</td>\n",
       "      <td>0</td>\n",
       "      <td>NaN</td>\n",
       "      <td>NaN</td>\n",
       "      <td>NaN</td>\n",
       "      <td>0</td>\n",
       "      <td>3</td>\n",
       "      <td>2010</td>\n",
       "      <td>WD</td>\n",
       "      <td>138500</td>\n",
       "    </tr>\n",
       "  </tbody>\n",
       "</table>\n",
       "<p>5 rows × 81 columns</p>\n",
       "</div>"
      ],
      "text/plain": [
       "    Id        PID  MS SubClass MS Zoning  Lot Frontage  Lot Area Street Alley  \\\n",
       "0  109  533352170           60        RL           NaN     13517   Pave   NaN   \n",
       "1  544  531379050           60        RL          43.0     11492   Pave   NaN   \n",
       "2  153  535304180           20        RL          68.0      7922   Pave   NaN   \n",
       "3  318  916386060           60        RL          73.0      9802   Pave   NaN   \n",
       "4  255  906425045           50        RL          82.0     14235   Pave   NaN   \n",
       "\n",
       "  Lot Shape Land Contour  ... Screen Porch Pool Area Pool QC Fence  \\\n",
       "0       IR1          Lvl  ...            0         0     NaN   NaN   \n",
       "1       IR1          Lvl  ...            0         0     NaN   NaN   \n",
       "2       Reg          Lvl  ...            0         0     NaN   NaN   \n",
       "3       Reg          Lvl  ...            0         0     NaN   NaN   \n",
       "4       IR1          Lvl  ...            0         0     NaN   NaN   \n",
       "\n",
       "  Misc Feature Misc Val Mo Sold Yr Sold  Sale Type  SalePrice  \n",
       "0          NaN        0       3    2010        WD      130500  \n",
       "1          NaN        0       4    2009        WD      220000  \n",
       "2          NaN        0       1    2010        WD      109000  \n",
       "3          NaN        0       4    2010        WD      174000  \n",
       "4          NaN        0       3    2010        WD      138500  \n",
       "\n",
       "[5 rows x 81 columns]"
      ]
     },
     "execution_count": 175,
     "metadata": {},
     "output_type": "execute_result"
    }
   ],
   "source": [
    "train = pd.read_csv('../data/train.csv')\n",
    "train.head()"
   ]
  },
  {
   "cell_type": "markdown",
   "id": "643a981e-3a03-410b-ac77-3a8e5b8f63da",
   "metadata": {},
   "source": [
    "## **EDA**\n",
    "-----"
   ]
  },
  {
   "cell_type": "code",
   "execution_count": 141,
   "id": "e88fb6cb-653a-431f-b9f3-90741aed43b5",
   "metadata": {},
   "outputs": [
    {
     "data": {
      "image/png": "[encoded data removed]",
      "text/plain": [
       "<Figure size 432x288 with 1 Axes>"
      ]
     },
     "metadata": {
      "needs_background": "light"
     },
     "output_type": "display_data"
    }
   ],
   "source": [
    "#plotting to check if linear relationship between discrete variable and target\n",
    "\n",
    "# linear relationship - treat as integer, \n",
    "# non-linear - treat as str type (categorical)\n",
    "\n",
    "plt.scatter(train['Year Built'], train['SalePrice']);"
   ]
  },
  {
   "cell_type": "code",
   "execution_count": 134,
   "id": "a0f15053-07e8-4a6d-9dbb-33c845d28dbd",
   "metadata": {},
   "outputs": [
    {
     "data": {
      "image/png": "[encoded data removed]",
      "text/plain": [
       "<Figure size 432x288 with 1 Axes>"
      ]
     },
     "metadata": {
      "needs_background": "light"
     },
     "output_type": "display_data"
    }
   ],
   "source": [
    "plt.scatter(train['Year Remod/Add'], train['SalePrice']);"
   ]
  },
  {
   "cell_type": "code",
   "execution_count": 135,
   "id": "2aac69cb-4068-45ab-a7f1-cdf366971501",
   "metadata": {},
   "outputs": [
    {
     "data": {
      "image/png": "[encoded data removed]",
      "text/plain": [
       "<Figure size 432x288 with 1 Axes>"
      ]
     },
     "metadata": {
      "needs_background": "light"
     },
     "output_type": "display_data"
    }
   ],
   "source": [
    "plt.scatter(train['Bsmt Full Bath'], train['SalePrice']);"
   ]
  },
  {
   "cell_type": "code",
   "execution_count": 136,
   "id": "4c7a0d5f-195d-4ec0-99e7-1caeb6db3f17",
   "metadata": {},
   "outputs": [
    {
     "data": {
      "image/png": "[encoded data removed]",
      "text/plain": [
       "<Figure size 432x288 with 1 Axes>"
      ]
     },
     "metadata": {
      "needs_background": "light"
     },
     "output_type": "display_data"
    }
   ],
   "source": [
    "plt.scatter(train['Bsmt Half Bath'], train['SalePrice']);"
   ]
  },
  {
   "cell_type": "code",
   "execution_count": 137,
   "id": "9e9691ee-8c2e-411a-9a57-1e2127df5605",
   "metadata": {},
   "outputs": [
    {
     "data": {
      "image/png": "[encoded data removed]",
      "text/plain": [
       "<Figure size 432x288 with 1 Axes>"
      ]
     },
     "metadata": {
      "needs_background": "light"
     },
     "output_type": "display_data"
    }
   ],
   "source": [
    "plt.scatter(train['Full Bath'], train['SalePrice']);"
   ]
  },
  {
   "cell_type": "code",
   "execution_count": 138,
   "id": "3a507782-114b-42f4-a611-4515542d63f8",
   "metadata": {},
   "outputs": [
    {
     "data": {
      "image/png": "[encoded data removed]",
      "text/plain": [
       "<Figure size 432x288 with 1 Axes>"
      ]
     },
     "metadata": {
      "needs_background": "light"
     },
     "output_type": "display_data"
    }
   ],
   "source": [
    "plt.scatter(train['Half Bath'], train['SalePrice']);"
   ]
  },
  {
   "cell_type": "code",
   "execution_count": 139,
   "id": "c9eb4b9d-c367-4971-9f81-775119357c03",
   "metadata": {},
   "outputs": [
    {
     "data": {
      "image/png": "[encoded data removed]",
      "text/plain": [
       "<Figure size 432x288 with 1 Axes>"
      ]
     },
     "metadata": {
      "needs_background": "light"
     },
     "output_type": "display_data"
    }
   ],
   "source": [
    "plt.scatter(train['Bedroom AbvGr'], train['SalePrice']);"
   ]
  },
  {
   "cell_type": "code",
   "execution_count": 140,
   "id": "f9d69e32-7547-40ef-842e-09659a4bfaa8",
   "metadata": {},
   "outputs": [
    {
     "data": {
      "image/png": "[encoded data removed]",
      "text/plain": [
       "<Figure size 432x288 with 1 Axes>"
      ]
     },
     "metadata": {
      "needs_background": "light"
     },
     "output_type": "display_data"
    }
   ],
   "source": [
    "plt.scatter(train['Kitchen AbvGr'], train['SalePrice']);"
   ]
  },
  {
   "cell_type": "code",
   "execution_count": 176,
   "id": "2c7fc58f-e153-4d49-b4af-4334071a8742",
   "metadata": {},
   "outputs": [
    {
     "name": "stdout",
     "output_type": "stream",
     "text": [
      "<class 'pandas.core.frame.DataFrame'>\n",
      "RangeIndex: 2051 entries, 0 to 2050\n",
      "Data columns (total 81 columns):\n",
      " #   Column           Non-Null Count  Dtype  \n",
      "---  ------           --------------  -----  \n",
      " 0   Id               2051 non-null   int64  \n",
      " 1   PID              2051 non-null   int64  \n",
      " 2   MS SubClass      2051 non-null   int64  \n",
      " 3   MS Zoning        2051 non-null   object \n",
      " 4   Lot Frontage     1721 non-null   float64\n",
      " 5   Lot Area         2051 non-null   int64  \n",
      " 6   Street           2051 non-null   object \n",
      " 7   Alley            140 non-null    object \n",
      " 8   Lot Shape        2051 non-null   object \n",
      " 9   Land Contour     2051 non-null   object \n",
      " 10  Utilities        2051 non-null   object \n",
      " 11  Lot Config       2051 non-null   object \n",
      " 12  Land Slope       2051 non-null   object \n",
      " 13  Neighborhood     2051 non-null   object \n",
      " 14  Condition 1      2051 non-null   object \n",
      " 15  Condition 2      2051 non-null   object \n",
      " 16  Bldg Type        2051 non-null   object \n",
      " 17  House Style      2051 non-null   object \n",
      " 18  Overall Qual     2051 non-null   int64  \n",
      " 19  Overall Cond     2051 non-null   int64  \n",
      " 20  Year Built       2051 non-null   int64  \n",
      " 21  Year Remod/Add   2051 non-null   int64  \n",
      " 22  Roof Style       2051 non-null   object \n",
      " 23  Roof Matl        2051 non-null   object \n",
      " 24  Exterior 1st     2051 non-null   object \n",
      " 25  Exterior 2nd     2051 non-null   object \n",
      " 26  Mas Vnr Type     2029 non-null   object \n",
      " 27  Mas Vnr Area     2029 non-null   float64\n",
      " 28  Exter Qual       2051 non-null   object \n",
      " 29  Exter Cond       2051 non-null   object \n",
      " 30  Foundation       2051 non-null   object \n",
      " 31  Bsmt Qual        1996 non-null   object \n",
      " 32  Bsmt Cond        1996 non-null   object \n",
      " 33  Bsmt Exposure    1993 non-null   object \n",
      " 34  BsmtFin Type 1   1996 non-null   object \n",
      " 35  BsmtFin SF 1     2050 non-null   float64\n",
      " 36  BsmtFin Type 2   1995 non-null   object \n",
      " 37  BsmtFin SF 2     2050 non-null   float64\n",
      " 38  Bsmt Unf SF      2050 non-null   float64\n",
      " 39  Total Bsmt SF    2050 non-null   float64\n",
      " 40  Heating          2051 non-null   object \n",
      " 41  Heating QC       2051 non-null   object \n",
      " 42  Central Air      2051 non-null   object \n",
      " 43  Electrical       2051 non-null   object \n",
      " 44  1st Flr SF       2051 non-null   int64  \n",
      " 45  2nd Flr SF       2051 non-null   int64  \n",
      " 46  Low Qual Fin SF  2051 non-null   int64  \n",
      " 47  Gr Liv Area      2051 non-null   int64  \n",
      " 48  Bsmt Full Bath   2049 non-null   float64\n",
      " 49  Bsmt Half Bath   2049 non-null   float64\n",
      " 50  Full Bath        2051 non-null   int64  \n",
      " 51  Half Bath        2051 non-null   int64  \n",
      " 52  Bedroom AbvGr    2051 non-null   int64  \n",
      " 53  Kitchen AbvGr    2051 non-null   int64  \n",
      " 54  Kitchen Qual     2051 non-null   object \n",
      " 55  TotRms AbvGrd    2051 non-null   int64  \n",
      " 56  Functional       2051 non-null   object \n",
      " 57  Fireplaces       2051 non-null   int64  \n",
      " 58  Fireplace Qu     1051 non-null   object \n",
      " 59  Garage Type      1938 non-null   object \n",
      " 60  Garage Yr Blt    1937 non-null   float64\n",
      " 61  Garage Finish    1937 non-null   object \n",
      " 62  Garage Cars      2050 non-null   float64\n",
      " 63  Garage Area      2050 non-null   float64\n",
      " 64  Garage Qual      1937 non-null   object \n",
      " 65  Garage Cond      1937 non-null   object \n",
      " 66  Paved Drive      2051 non-null   object \n",
      " 67  Wood Deck SF     2051 non-null   int64  \n",
      " 68  Open Porch SF    2051 non-null   int64  \n",
      " 69  Enclosed Porch   2051 non-null   int64  \n",
      " 70  3Ssn Porch       2051 non-null   int64  \n",
      " 71  Screen Porch     2051 non-null   int64  \n",
      " 72  Pool Area        2051 non-null   int64  \n",
      " 73  Pool QC          9 non-null      object \n",
      " 74  Fence            400 non-null    object \n",
      " 75  Misc Feature     65 non-null     object \n",
      " 76  Misc Val         2051 non-null   int64  \n",
      " 77  Mo Sold          2051 non-null   int64  \n",
      " 78  Yr Sold          2051 non-null   int64  \n",
      " 79  Sale Type        2051 non-null   object \n",
      " 80  SalePrice        2051 non-null   int64  \n",
      "dtypes: float64(11), int64(28), object(42)\n",
      "memory usage: 1.3+ MB\n"
     ]
    }
   ],
   "source": [
    "#check nulls and data types\n",
    "train.info()"
   ]
  },
  {
   "cell_type": "code",
   "execution_count": 177,
   "id": "1b5d4746-dfce-490c-840b-142723b00238",
   "metadata": {},
   "outputs": [
    {
     "data": {
      "text/plain": [
       "(2051, 81)"
      ]
     },
     "execution_count": 177,
     "metadata": {},
     "output_type": "execute_result"
    }
   ],
   "source": [
    "train.shape"
   ]
  },
  {
   "cell_type": "code",
   "execution_count": null,
   "id": "9352a8d8-5de9-4a76-9a10-23f3c1f77257",
   "metadata": {},
   "outputs": [],
   "source": [
    "# identify outliers for continuous variables"
   ]
  },
  {
   "cell_type": "code",
   "execution_count": 147,
   "id": "f7e45e37-3baf-4b29-a65f-8f7d80a61b68",
   "metadata": {},
   "outputs": [
    {
     "data": {
      "image/png": "[encoded data removed]",
      "text/plain": [
       "<Figure size 432x288 with 1 Axes>"
      ]
     },
     "metadata": {
      "needs_background": "light"
     },
     "output_type": "display_data"
    }
   ],
   "source": [
    "sns.boxplot(x = train['Lot Frontage'], color = 'r');"
   ]
  },
  {
   "cell_type": "code",
   "execution_count": 149,
   "id": "fccb496c-5464-4116-af08-3a6f73e67f91",
   "metadata": {},
   "outputs": [
    {
     "data": {
      "image/png": "[encoded data removed]",
      "text/plain": [
       "<Figure size 432x288 with 1 Axes>"
      ]
     },
     "metadata": {
      "needs_background": "light"
     },
     "output_type": "display_data"
    }
   ],
   "source": [
    "sns.boxplot(x = train['Lot Area'], color = 'b');"
   ]
  },
  {
   "cell_type": "code",
   "execution_count": 150,
   "id": "1266085c-9f81-46cb-b470-9412debc20d1",
   "metadata": {},
   "outputs": [
    {
     "data": {
      "image/png": "[encoded data removed]",
      "text/plain": [
       "<Figure size 432x288 with 1 Axes>"
      ]
     },
     "metadata": {
      "needs_background": "light"
     },
     "output_type": "display_data"
    }
   ],
   "source": [
    "sns.boxplot(x = train['Mas Vnr Area'], color = 'g');"
   ]
  },
  {
   "cell_type": "code",
   "execution_count": 152,
   "id": "deed5148-1f52-47c6-91b2-5575199be70f",
   "metadata": {},
   "outputs": [
    {
     "data": {
      "image/png": "[encoded data removed]",
      "text/plain": [
       "<Figure size 432x288 with 1 Axes>"
      ]
     },
     "metadata": {
      "needs_background": "light"
     },
     "output_type": "display_data"
    }
   ],
   "source": [
    "sns.boxplot(x = train['BsmtFin SF 1'], color = 'r');"
   ]
  },
  {
   "cell_type": "code",
   "execution_count": 153,
   "id": "071e9d5f-0919-4510-a236-84d2c423c6b8",
   "metadata": {},
   "outputs": [
    {
     "data": {
      "image/png": "[encoded data removed]",
      "text/plain": [
       "<Figure size 432x288 with 1 Axes>"
      ]
     },
     "metadata": {
      "needs_background": "light"
     },
     "output_type": "display_data"
    }
   ],
   "source": [
    "sns.boxplot(x = train['BsmtFin SF 2'], color = 'b');"
   ]
  },
  {
   "cell_type": "code",
   "execution_count": 154,
   "id": "63d3690e-188d-4ab2-83ab-72f45f473e81",
   "metadata": {},
   "outputs": [
    {
     "data": {
      "image/png": "[encoded data removed]",
      "text/plain": [
       "<Figure size 432x288 with 1 Axes>"
      ]
     },
     "metadata": {
      "needs_background": "light"
     },
     "output_type": "display_data"
    }
   ],
   "source": [
    "sns.boxplot(x = train['Total Bsmt SF'], color = 'g');"
   ]
  },
  {
   "cell_type": "code",
   "execution_count": 156,
   "id": "df7384c4-fa74-427b-a13a-a7311383f6ff",
   "metadata": {},
   "outputs": [
    {
     "data": {
      "image/png": "[encoded data removed]",
      "text/plain": [
       "<Figure size 432x288 with 1 Axes>"
      ]
     },
     "metadata": {
      "needs_background": "light"
     },
     "output_type": "display_data"
    }
   ],
   "source": [
    "sns.boxplot(x = train['1st Flr SF'], color = 'r');"
   ]
  },
  {
   "cell_type": "code",
   "execution_count": 157,
   "id": "3fd80d6a-159c-4883-815f-1e22ffe9c4ff",
   "metadata": {},
   "outputs": [
    {
     "data": {
      "image/png": "[encoded data removed]",
      "text/plain": [
       "<Figure size 432x288 with 1 Axes>"
      ]
     },
     "metadata": {
      "needs_background": "light"
     },
     "output_type": "display_data"
    }
   ],
   "source": [
    "sns.boxplot(x = train['2nd Flr SF'], color = 'b');"
   ]
  },
  {
   "cell_type": "code",
   "execution_count": 158,
   "id": "3d80f406-58ef-44b8-90e9-63e85df82988",
   "metadata": {},
   "outputs": [
    {
     "data": {
      "image/png": "[encoded data removed]",
      "text/plain": [
       "<Figure size 432x288 with 1 Axes>"
      ]
     },
     "metadata": {
      "needs_background": "light"
     },
     "output_type": "display_data"
    }
   ],
   "source": [
    "sns.boxplot(x = train['Low Qual Fin SF'], color = 'g');"
   ]
  },
  {
   "cell_type": "code",
   "execution_count": 159,
   "id": "d9955ab6-f647-4e13-9197-1a32c3a715a9",
   "metadata": {},
   "outputs": [
    {
     "data": {
      "image/png": "[encoded data removed]",
      "text/plain": [
       "<Figure size 432x288 with 1 Axes>"
      ]
     },
     "metadata": {
      "needs_background": "light"
     },
     "output_type": "display_data"
    }
   ],
   "source": [
    "sns.boxplot(x = train['Gr Liv Area'], color = 'r');"
   ]
  },
  {
   "cell_type": "code",
   "execution_count": 160,
   "id": "d03dc959-216c-4376-baf2-0b818f05f649",
   "metadata": {},
   "outputs": [
    {
     "data": {
      "image/png": "[encoded data removed]",
      "text/plain": [
       "<Figure size 432x288 with 1 Axes>"
      ]
     },
     "metadata": {
      "needs_background": "light"
     },
     "output_type": "display_data"
    }
   ],
   "source": [
    "sns.boxplot(x = train['Garage Area'], color = 'b');"
   ]
  },
  {
   "cell_type": "code",
   "execution_count": 161,
   "id": "66464201-ef81-4db9-a831-fd5cb6ccba8a",
   "metadata": {},
   "outputs": [
    {
     "data": {
      "image/png": "[encoded data removed]",
      "text/plain": [
       "<Figure size 432x288 with 1 Axes>"
      ]
     },
     "metadata": {
      "needs_background": "light"
     },
     "output_type": "display_data"
    }
   ],
   "source": [
    "sns.boxplot(x = train['Wood Deck SF'], color = 'g');"
   ]
  },
  {
   "cell_type": "code",
   "execution_count": 162,
   "id": "8ea710ea-2de2-4c70-a0b6-3e80d91a1f62",
   "metadata": {},
   "outputs": [
    {
     "data": {
      "image/png": "[encoded data removed]",
      "text/plain": [
       "<Figure size 432x288 with 1 Axes>"
      ]
     },
     "metadata": {
      "needs_background": "light"
     },
     "output_type": "display_data"
    }
   ],
   "source": [
    "sns.boxplot(x = train['Open Porch SF'], color = 'r');"
   ]
  },
  {
   "cell_type": "code",
   "execution_count": 163,
   "id": "1d421e10-387b-445a-9d3c-4f065887833f",
   "metadata": {},
   "outputs": [
    {
     "data": {
      "image/png": "[encoded data removed]",
      "text/plain": [
       "<Figure size 432x288 with 1 Axes>"
      ]
     },
     "metadata": {
      "needs_background": "light"
     },
     "output_type": "display_data"
    }
   ],
   "source": [
    "sns.boxplot(x = train['Enclosed Porch'], color = 'b');"
   ]
  },
  {
   "cell_type": "code",
   "execution_count": 166,
   "id": "4d352e5b-cf7f-4add-bde8-6a3d6c45f7e0",
   "metadata": {},
   "outputs": [
    {
     "data": {
      "image/png": "[encoded data removed]",
      "text/plain": [
       "<Figure size 432x288 with 1 Axes>"
      ]
     },
     "metadata": {
      "needs_background": "light"
     },
     "output_type": "display_data"
    }
   ],
   "source": [
    "sns.boxplot(x = train['3Ssn Porch'], color = 'g');"
   ]
  },
  {
   "cell_type": "code",
   "execution_count": 167,
   "id": "3bcaa83a-6fb0-4103-8aba-22898dcfd21f",
   "metadata": {},
   "outputs": [
    {
     "data": {
      "image/png": "[encoded data removed]",
      "text/plain": [
       "<Figure size 432x288 with 1 Axes>"
      ]
     },
     "metadata": {
      "needs_background": "light"
     },
     "output_type": "display_data"
    }
   ],
   "source": [
    "sns.boxplot(x = train['Screen Porch'], color = 'r');"
   ]
  },
  {
   "cell_type": "code",
   "execution_count": 171,
   "id": "7d37a8a4-d718-4f51-b13a-c56f438acae5",
   "metadata": {},
   "outputs": [
    {
     "data": {
      "image/png": "[encoded data removed]",
      "text/plain": [
       "<Figure size 432x288 with 1 Axes>"
      ]
     },
     "metadata": {
      "needs_background": "light"
     },
     "output_type": "display_data"
    }
   ],
   "source": [
    "sns.boxplot(x = train['Pool Area'], color = 'b');"
   ]
  },
  {
   "cell_type": "code",
   "execution_count": 172,
   "id": "616aaf10-d277-44f7-a5f2-7a85419634c8",
   "metadata": {},
   "outputs": [
    {
     "data": {
      "image/png": "[encoded data removed]",
      "text/plain": [
       "<Figure size 432x288 with 1 Axes>"
      ]
     },
     "metadata": {
      "needs_background": "light"
     },
     "output_type": "display_data"
    }
   ],
   "source": [
    "sns.boxplot(x = train['Misc Val'], color = 'g');"
   ]
  },
  {
   "cell_type": "code",
   "execution_count": 173,
   "id": "7bae268f-2042-45d9-aa2d-233b665b1359",
   "metadata": {},
   "outputs": [
    {
     "data": {
      "image/png": "[encoded data removed]",
      "text/plain": [
       "<Figure size 432x288 with 1 Axes>"
      ]
     },
     "metadata": {
      "needs_background": "light"
     },
     "output_type": "display_data"
    }
   ],
   "source": [
    "sns.boxplot(x = train['SalePrice'], color = 'r');"
   ]
  },
  {
   "cell_type": "markdown",
   "id": "7b77bda4-ed3a-4d97-b3db-e8e3234a3cfa",
   "metadata": {},
   "source": [
    "### **Data Cleaning**\n",
    "-----"
   ]
  },
  {
   "cell_type": "code",
   "execution_count": 189,
   "id": "6d437dd5-62e2-4450-9978-6b1358ae1982",
   "metadata": {},
   "outputs": [],
   "source": [
    "# save an original dataframe to go back to if necessary\n",
    "train_original = train"
   ]
  },
  {
   "cell_type": "code",
   "execution_count": 190,
   "id": "9380cac0-13c5-4007-ad4f-7a8a404e8295",
   "metadata": {},
   "outputs": [
    {
     "data": {
      "text/plain": [
       "nan     1911\n",
       "Grvl      85\n",
       "Pave      55\n",
       "Name: Alley, dtype: int64"
      ]
     },
     "execution_count": 190,
     "metadata": {},
     "output_type": "execute_result"
    }
   ],
   "source": [
    "train['Alley'].value_counts()"
   ]
  },
  {
   "cell_type": "code",
   "execution_count": 191,
   "id": "74948813-2c0c-4fe5-87a8-d9016238cd93",
   "metadata": {},
   "outputs": [
    {
     "data": {
      "text/plain": [
       "0    nan\n",
       "1    nan\n",
       "2    nan\n",
       "3    nan\n",
       "4    nan\n",
       "Name: Alley, dtype: object"
      ]
     },
     "execution_count": 191,
     "metadata": {},
     "output_type": "execute_result"
    }
   ],
   "source": [
    "train['Alley'].head()"
   ]
  },
  {
   "cell_type": "code",
   "execution_count": 192,
   "id": "5a01bf59-8a6e-481b-bf1c-db215a3ed066",
   "metadata": {},
   "outputs": [],
   "source": [
    "train['Alley'] = train['Alley'].map(lambda itm: 'None' if itm == 'NaN' else str(itm))"
   ]
  },
  {
   "cell_type": "code",
   "execution_count": 193,
   "id": "c55fe698-882c-4d0f-a966-6e62c35e541f",
   "metadata": {
    "tags": []
   },
   "outputs": [
    {
     "data": {
      "text/plain": [
       "nan     1911\n",
       "Grvl      85\n",
       "Pave      55\n",
       "Name: Alley, dtype: int64"
      ]
     },
     "execution_count": 193,
     "metadata": {},
     "output_type": "execute_result"
    }
   ],
   "source": [
    "train['Alley'].value_counts()"
   ]
  },
  {
   "cell_type": "code",
   "execution_count": 194,
   "id": "677f5b1e-de2d-4ff4-be58-84ac815e88ca",
   "metadata": {},
   "outputs": [
    {
     "data": {
      "image/png": "[encoded data removed]",
      "text/plain": [
       "<Figure size 432x288 with 1 Axes>"
      ]
     },
     "metadata": {
      "needs_background": "light"
     },
     "output_type": "display_data"
    }
   ],
   "source": [
    "plt.hist(train['Alley']);"
   ]
  },
  {
   "cell_type": "code",
   "execution_count": 207,
   "id": "98aa62cf-6a04-4cc5-bab5-b84b34d6dbe1",
   "metadata": {},
   "outputs": [],
   "source": [
    "'''\n",
    "applying same method to other categorical variables\n",
    "where NA is one of the categories and should not read as null\n",
    "applymap() used on data frame \n",
    "'''\n",
    "\n",
    "train[['Mas Vnr Type','Bsmt Qual','Bsmt Cond','BsmtFin Type 1', 'Bsmt Exposure',\n",
    "       'BsmtFin Type 2', 'Pool QC','Garage Qual', 'Garage Cond'\n",
    "      ]] = train[['Mas Vnr Type','Bsmt Qual','Bsmt Cond','BsmtFin Type 1', 'Bsmt Exposure',\n",
    "       'BsmtFin Type 2', 'Pool QC','Garage Qual', 'Garage Cond']].applymap(lambda itm: 'None' if itm == 'NaN' else str(itm))"
   ]
  },
  {
   "cell_type": "code",
   "execution_count": 208,
   "id": "81907c8e-ecba-4ca9-85b8-467e17fb1eea",
   "metadata": {},
   "outputs": [
    {
     "data": {
      "text/plain": [
       "None       1218\n",
       "BrkFace     630\n",
       "Stone       168\n",
       "nan          22\n",
       "BrkCmn       13\n",
       "Name: Mas Vnr Type, dtype: int64"
      ]
     },
     "execution_count": 208,
     "metadata": {},
     "output_type": "execute_result"
    }
   ],
   "source": [
    "train['Mas Vnr Type'].value_counts() # drop null values but not \"None\" values"
   ]
  },
  {
   "cell_type": "code",
   "execution_count": 209,
   "id": "01dda10a-21d1-4e52-8fa3-02199115ba37",
   "metadata": {},
   "outputs": [
    {
     "data": {
      "text/plain": [
       "TA     887\n",
       "Gd     864\n",
       "Ex     184\n",
       "Fa      60\n",
       "nan     55\n",
       "Po       1\n",
       "Name: Bsmt Qual, dtype: int64"
      ]
     },
     "execution_count": 209,
     "metadata": {},
     "output_type": "execute_result"
    }
   ],
   "source": [
    "train['Bsmt Qual'].value_counts() #NA means no basement"
   ]
  },
  {
   "cell_type": "code",
   "execution_count": 210,
   "id": "0bb3f98c-1037-470f-9fe5-1b6ed6ea0162",
   "metadata": {},
   "outputs": [
    {
     "data": {
      "text/plain": [
       "TA     1834\n",
       "Gd       89\n",
       "Fa       65\n",
       "nan      55\n",
       "Po        5\n",
       "Ex        3\n",
       "Name: Bsmt Cond, dtype: int64"
      ]
     },
     "execution_count": 210,
     "metadata": {},
     "output_type": "execute_result"
    }
   ],
   "source": [
    "train['Bsmt Cond'].value_counts() #NA means no basement"
   ]
  },
  {
   "cell_type": "code",
   "execution_count": 211,
   "id": "e5c5f7da-9172-4bba-a1d5-94d273700873",
   "metadata": {},
   "outputs": [
    {
     "data": {
      "text/plain": [
       "GLQ    615\n",
       "Unf    603\n",
       "ALQ    293\n",
       "BLQ    200\n",
       "Rec    183\n",
       "LwQ    102\n",
       "nan     55\n",
       "Name: BsmtFin Type 1, dtype: int64"
      ]
     },
     "execution_count": 211,
     "metadata": {},
     "output_type": "execute_result"
    }
   ],
   "source": [
    "train['BsmtFin Type 1'].value_counts() #NA means no basement"
   ]
  },
  {
   "cell_type": "code",
   "execution_count": 212,
   "id": "3d5363f7-b30f-42c1-ba0e-b6a82b264e56",
   "metadata": {},
   "outputs": [
    {
     "data": {
      "text/plain": [
       "No     1339\n",
       "Av      288\n",
       "Gd      203\n",
       "Mn      163\n",
       "nan      58\n",
       "Name: Bsmt Exposure, dtype: int64"
      ]
     },
     "execution_count": 212,
     "metadata": {},
     "output_type": "execute_result"
    }
   ],
   "source": [
    "train['Bsmt Exposure'].value_counts() #NA means no basement"
   ]
  },
  {
   "cell_type": "code",
   "execution_count": 213,
   "id": "152e4dbf-e150-408e-adec-d2319d09dfa1",
   "metadata": {},
   "outputs": [
    {
     "data": {
      "text/plain": [
       "TA     1834\n",
       "Gd       89\n",
       "Fa       65\n",
       "nan      55\n",
       "Po        5\n",
       "Ex        3\n",
       "Name: Bsmt Cond, dtype: int64"
      ]
     },
     "execution_count": 213,
     "metadata": {},
     "output_type": "execute_result"
    }
   ],
   "source": [
    "train['Bsmt Cond'].value_counts() #NA means no basement"
   ]
  },
  {
   "cell_type": "code",
   "execution_count": 214,
   "id": "993981cd-7965-48cf-b795-567d7eafbd8d",
   "metadata": {},
   "outputs": [
    {
     "data": {
      "text/plain": [
       "nan    2042\n",
       "Gd        4\n",
       "Fa        2\n",
       "TA        2\n",
       "Ex        1\n",
       "Name: Pool QC, dtype: int64"
      ]
     },
     "execution_count": 214,
     "metadata": {},
     "output_type": "execute_result"
    }
   ],
   "source": [
    "train['Pool QC'].value_counts() #NA means no pool"
   ]
  },
  {
   "cell_type": "code",
   "execution_count": 215,
   "id": "5ea0e2e4-e0ab-4a76-923e-9c17d6262efd",
   "metadata": {},
   "outputs": [
    {
     "data": {
      "text/plain": [
       "TA     1832\n",
       "nan     114\n",
       "Fa       82\n",
       "Gd       18\n",
       "Ex        3\n",
       "Po        2\n",
       "Name: Garage Qual, dtype: int64"
      ]
     },
     "execution_count": 215,
     "metadata": {},
     "output_type": "execute_result"
    }
   ],
   "source": [
    "train['Garage Qual'].value_counts() #NA means no garage"
   ]
  },
  {
   "cell_type": "code",
   "execution_count": 216,
   "id": "6f11b4b5-f5d4-43e3-ba4b-7278e263e1d7",
   "metadata": {},
   "outputs": [
    {
     "data": {
      "text/plain": [
       "TA     1868\n",
       "nan     114\n",
       "Fa       47\n",
       "Gd       12\n",
       "Po        8\n",
       "Ex        2\n",
       "Name: Garage Cond, dtype: int64"
      ]
     },
     "execution_count": 216,
     "metadata": {},
     "output_type": "execute_result"
    }
   ],
   "source": [
    "train['Garage Cond'].value_counts() #NA means no garage"
   ]
  },
  {
   "cell_type": "code",
   "execution_count": 225,
   "id": "a0d278ea-bb2c-47cc-9d4c-ed0f9027ced6",
   "metadata": {
    "collapsed": true,
    "jupyter": {
     "outputs_hidden": true
    },
    "tags": []
   },
   "outputs": [
    {
     "name": "stdout",
     "output_type": "stream",
     "text": [
      "<class 'pandas.core.frame.DataFrame'>\n",
      "RangeIndex: 2051 entries, 0 to 2050\n",
      "Data columns (total 81 columns):\n",
      " #   Column           Non-Null Count  Dtype  \n",
      "---  ------           --------------  -----  \n",
      " 0   Id               2051 non-null   int64  \n",
      " 1   PID              2051 non-null   int64  \n",
      " 2   MS SubClass      2051 non-null   int64  \n",
      " 3   MS Zoning        2051 non-null   object \n",
      " 4   Lot Frontage     1721 non-null   float64\n",
      " 5   Lot Area         2051 non-null   int64  \n",
      " 6   Street           2051 non-null   object \n",
      " 7   Alley            2051 non-null   object \n",
      " 8   Lot Shape        2051 non-null   object \n",
      " 9   Land Contour     2051 non-null   object \n",
      " 10  Utilities        2051 non-null   object \n",
      " 11  Lot Config       2051 non-null   object \n",
      " 12  Land Slope       2051 non-null   object \n",
      " 13  Neighborhood     2051 non-null   object \n",
      " 14  Condition 1      2051 non-null   object \n",
      " 15  Condition 2      2051 non-null   object \n",
      " 16  Bldg Type        2051 non-null   object \n",
      " 17  House Style      2051 non-null   object \n",
      " 18  Overall Qual     2051 non-null   int64  \n",
      " 19  Overall Cond     2051 non-null   int64  \n",
      " 20  Year Built       2051 non-null   int64  \n",
      " 21  Year Remod/Add   2051 non-null   int64  \n",
      " 22  Roof Style       2051 non-null   object \n",
      " 23  Roof Matl        2051 non-null   object \n",
      " 24  Exterior 1st     2051 non-null   object \n",
      " 25  Exterior 2nd     2051 non-null   object \n",
      " 26  Mas Vnr Type     2051 non-null   object \n",
      " 27  Mas Vnr Area     2029 non-null   float64\n",
      " 28  Exter Qual       2051 non-null   object \n",
      " 29  Exter Cond       2051 non-null   object \n",
      " 30  Foundation       2051 non-null   object \n",
      " 31  Bsmt Qual        2051 non-null   object \n",
      " 32  Bsmt Cond        2051 non-null   object \n",
      " 33  Bsmt Exposure    2051 non-null   object \n",
      " 34  BsmtFin Type 1   2051 non-null   object \n",
      " 35  BsmtFin SF 1     2050 non-null   float64\n",
      " 36  BsmtFin Type 2   2051 non-null   object \n",
      " 37  BsmtFin SF 2     2050 non-null   float64\n",
      " 38  Bsmt Unf SF      2050 non-null   float64\n",
      " 39  Total Bsmt SF    2050 non-null   float64\n",
      " 40  Heating          2051 non-null   object \n",
      " 41  Heating QC       2051 non-null   object \n",
      " 42  Central Air      2051 non-null   object \n",
      " 43  Electrical       2051 non-null   object \n",
      " 44  1st Flr SF       2051 non-null   int64  \n",
      " 45  2nd Flr SF       2051 non-null   int64  \n",
      " 46  Low Qual Fin SF  2051 non-null   int64  \n",
      " 47  Gr Liv Area      2051 non-null   int64  \n",
      " 48  Bsmt Full Bath   2049 non-null   float64\n",
      " 49  Bsmt Half Bath   2049 non-null   float64\n",
      " 50  Full Bath        2051 non-null   int64  \n",
      " 51  Half Bath        2051 non-null   int64  \n",
      " 52  Bedroom AbvGr    2051 non-null   int64  \n",
      " 53  Kitchen AbvGr    2051 non-null   int64  \n",
      " 54  Kitchen Qual     2051 non-null   object \n",
      " 55  TotRms AbvGrd    2051 non-null   int64  \n",
      " 56  Functional       2051 non-null   object \n",
      " 57  Fireplaces       2051 non-null   int64  \n",
      " 58  Fireplace Qu     1051 non-null   object \n",
      " 59  Garage Type      1938 non-null   object \n",
      " 60  Garage Yr Blt    1937 non-null   float64\n",
      " 61  Garage Finish    1937 non-null   object \n",
      " 62  Garage Cars      2050 non-null   float64\n",
      " 63  Garage Area      2050 non-null   float64\n",
      " 64  Garage Qual      2051 non-null   object \n",
      " 65  Garage Cond      2051 non-null   object \n",
      " 66  Paved Drive      2051 non-null   object \n",
      " 67  Wood Deck SF     2051 non-null   int64  \n",
      " 68  Open Porch SF    2051 non-null   int64  \n",
      " 69  Enclosed Porch   2051 non-null   int64  \n",
      " 70  3Ssn Porch       2051 non-null   int64  \n",
      " 71  Screen Porch     2051 non-null   int64  \n",
      " 72  Pool Area        2051 non-null   int64  \n",
      " 73  Pool QC          2051 non-null   object \n",
      " 74  Fence            400 non-null    object \n",
      " 75  Misc Feature     65 non-null     object \n",
      " 76  Misc Val         2051 non-null   int64  \n",
      " 77  Mo Sold          2051 non-null   int64  \n",
      " 78  Yr Sold          2051 non-null   int64  \n",
      " 79  Sale Type        2051 non-null   object \n",
      " 80  SalePrice        2051 non-null   int64  \n",
      "dtypes: float64(11), int64(28), object(42)\n",
      "memory usage: 1.3+ MB\n"
     ]
    }
   ],
   "source": [
    "train.info()"
   ]
  },
  {
   "cell_type": "code",
   "execution_count": null,
   "id": "e6d4ece6-3929-4434-bb4a-5810bb376378",
   "metadata": {},
   "outputs": [],
   "source": [
    "# update data types based on data dictionary\n",
    "# to float\n",
    "train[['Lot Area','1st Flr SF','2nd Flr SF','Low Qual Fin SF',\n",
    "       'Gr Liv Area','Wood Deck SF','Open Porch SF','Enclosed Porch',\n",
    "      '3Ssn Porch', 'Screen Porch','Pool Area','Misc Val','SalePrice']] = train[['Lot Area','1st Flr SF','2nd Flr SF','Low Qual Fin SF',\n",
    "       'Gr Liv Area','Wood Deck SF','Open Porch SF','Enclosed Porch',\n",
    "      '3Ssn Porch', 'Screen Porch','Pool Area','Misc Val','SalePrice']].astype(float)"
   ]
  },
  {
   "cell_type": "code",
   "execution_count": null,
   "id": "4eb1cee9-0bf0-471f-a71c-e3fb93967fc4",
   "metadata": {},
   "outputs": [],
   "source": [
    "# to string\n",
    "# non-linear relationship between 'Bsmt Full Bath','Bsmt Half Bath','Full Bath','Half Bath','Bedroom AbvGr','Kitchen AbvGr' and target\n",
    "train[['Overall Qual','Overall Cond','Bsmt Full Bath','Bsmt Half Bath','Full Bath','Half Bath','Bedroom AbvGr','Kitchen AbvGr']] = train[['Overall Qual','Overall Cond']].astype(str)"
   ]
  },
  {
   "cell_type": "code",
   "execution_count": null,
   "id": "9f631dd5-8133-4e97-ba8b-e1b9ae1bac86",
   "metadata": {},
   "outputs": [],
   "source": [
    "train.info()"
   ]
  },
  {
   "cell_type": "code",
   "execution_count": null,
   "id": "a77ff9cc-e247-42a1-bc6f-0c1c04546cca",
   "metadata": {},
   "outputs": [],
   "source": [
    "# any to int conversions?\n"
   ]
  },
  {
   "cell_type": "code",
   "execution_count": null,
   "id": "56805962-5605-4a12-8b87-16c0022dd458",
   "metadata": {},
   "outputs": [],
   "source": []
  },
  {
   "cell_type": "code",
   "execution_count": 222,
   "id": "d8bd3c00-b1cd-40b2-aadc-673394a972f3",
   "metadata": {
    "tags": []
   },
   "outputs": [
    {
     "name": "stdout",
     "output_type": "stream",
     "text": [
      "(2051, 81)\n"
     ]
    },
    {
     "data": {
      "text/plain": [
       "<bound method DataFrame.info of         Id        PID  MS SubClass MS Zoning  Lot Frontage  Lot Area Street  \\\n",
       "0      109  533352170           60        RL           NaN     13517   Pave   \n",
       "1      544  531379050           60        RL          43.0     11492   Pave   \n",
       "2      153  535304180           20        RL          68.0      7922   Pave   \n",
       "3      318  916386060           60        RL          73.0      9802   Pave   \n",
       "4      255  906425045           50        RL          82.0     14235   Pave   \n",
       "...    ...        ...          ...       ...           ...       ...    ...   \n",
       "2046  1587  921126030           20        RL          79.0     11449   Pave   \n",
       "2047   785  905377130           30        RL           NaN     12342   Pave   \n",
       "2048   916  909253010           50        RL          57.0      7558   Pave   \n",
       "2049   639  535179160           20        RL          80.0     10400   Pave   \n",
       "2050    10  527162130           60        RL          60.0      7500   Pave   \n",
       "\n",
       "     Alley Lot Shape Land Contour  ... Screen Porch Pool Area Pool QC Fence  \\\n",
       "0      nan       IR1          Lvl  ...            0         0     nan   NaN   \n",
       "1      nan       IR1          Lvl  ...            0         0     nan   NaN   \n",
       "2      nan       Reg          Lvl  ...            0         0     nan   NaN   \n",
       "3      nan       Reg          Lvl  ...            0         0     nan   NaN   \n",
       "4      nan       IR1          Lvl  ...            0         0     nan   NaN   \n",
       "...    ...       ...          ...  ...          ...       ...     ...   ...   \n",
       "2046   nan       IR1          HLS  ...            0         0     nan   NaN   \n",
       "2047   nan       IR1          Lvl  ...            0         0     nan   NaN   \n",
       "2048   nan       Reg          Bnk  ...            0         0     nan   NaN   \n",
       "2049   nan       Reg          Lvl  ...            0         0     nan   NaN   \n",
       "2050   nan       Reg          Lvl  ...            0         0     nan   NaN   \n",
       "\n",
       "     Misc Feature Misc Val Mo Sold Yr Sold  Sale Type  SalePrice  \n",
       "0             NaN        0       3    2010        WD      130500  \n",
       "1             NaN        0       4    2009        WD      220000  \n",
       "2             NaN        0       1    2010        WD      109000  \n",
       "3             NaN        0       4    2010        WD      174000  \n",
       "4             NaN        0       3    2010        WD      138500  \n",
       "...           ...      ...     ...     ...        ...        ...  \n",
       "2046          NaN        0       1    2008        WD      298751  \n",
       "2047          NaN        0       3    2009        WD       82500  \n",
       "2048          NaN        0       3    2009        WD      177000  \n",
       "2049          NaN        0      11    2009        WD      144000  \n",
       "2050          NaN        0       6    2010        WD      189000  \n",
       "\n",
       "[2029 rows x 81 columns]>"
      ]
     },
     "execution_count": 222,
     "metadata": {},
     "output_type": "execute_result"
    }
   ],
   "source": [
    "# drop nulls\n",
    "print(train.shape)\n",
    "new_train = train.dropna(subset='Mas Vnr Area')"
   ]
  },
  {
   "cell_type": "code",
   "execution_count": null,
   "id": "3e86a886-7bd7-45fa-a0ae-189acacc86b0",
   "metadata": {},
   "outputs": [],
   "source": []
  },
  {
   "cell_type": "code",
   "execution_count": null,
   "id": "dde275d2-2f57-4956-976f-2d66d217c758",
   "metadata": {},
   "outputs": [],
   "source": [
    "# dropping numerical features which should not have null values\n",
    "print(train.shape)\n",
    "\n",
    "\n",
    "print(train.shape)\n",
    "# for categorical variables (ordinal, nominal), \"na\" is referring to not having a given feature\n",
    "# refrain from dropping these for now"
   ]
  },
  {
   "cell_type": "code",
   "execution_count": null,
   "id": "37fc3a95-dd75-4142-9a65-1e04f644787c",
   "metadata": {},
   "outputs": [],
   "source": [
    "# remove outliers"
   ]
  },
  {
   "cell_type": "code",
   "execution_count": null,
   "id": "0086b2f1-e5a3-4526-9fad-e1256af956fd",
   "metadata": {},
   "outputs": [],
   "source": [
    "# check column names\n",
    "#categorical ones - based on scatter plots above"
   ]
  }
 ],
 "metadata": {
  "kernelspec": {
   "display_name": "Python [conda env:dsi] *",
   "language": "python",
   "name": "conda-env-dsi-py"
  },
  "language_info": {
   "codemirror_mode": {
    "name": "ipython",
    "version": 3
   },
   "file_extension": ".py",
   "mimetype": "text/x-python",
   "name": "python",
   "nbconvert_exporter": "python",
   "pygments_lexer": "ipython3",
   "version": "3.9.12"
  }
 },
 "nbformat": 4,
 "nbformat_minor": 5
}
