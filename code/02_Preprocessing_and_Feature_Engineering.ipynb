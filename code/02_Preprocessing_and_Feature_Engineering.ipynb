{
 "cells": [
  {
   "cell_type": "markdown",
   "id": "78d3093d-6a34-44a0-8fb3-f5bc0287d39d",
   "metadata": {},
   "source": [
    "# **Preprocessing and Feature Engineering**"
   ]
  },
  {
   "cell_type": "markdown",
   "id": "9622866e-4b0a-4f5f-8c75-cd2c2a44bb8e",
   "metadata": {},
   "source": [
    "### **Imports**\n",
    "---"
   ]
  },
  {
   "cell_type": "code",
   "execution_count": null,
   "id": "88a97af0-942e-4430-b64a-9571943133a3",
   "metadata": {},
   "outputs": [],
   "source": []
  },
  {
   "cell_type": "code",
   "execution_count": null,
   "id": "cbc0fb24-190c-4c7c-a2b7-726c82900231",
   "metadata": {},
   "outputs": [],
   "source": []
  },
  {
   "cell_type": "code",
   "execution_count": null,
   "id": "4581f87e-ef05-4e97-9208-5a034b131f72",
   "metadata": {},
   "outputs": [],
   "source": []
  },
  {
   "cell_type": "markdown",
   "id": "cf09f8bf-0a41-4ec1-9561-d75ebda0ab00",
   "metadata": {},
   "source": [
    "### **Load the data**\n",
    "-----"
   ]
  },
  {
   "cell_type": "code",
   "execution_count": null,
   "id": "5c818aa1-495a-4e07-bf23-5a48c7ccd3ac",
   "metadata": {},
   "outputs": [],
   "source": [
    "train = pd.read_csv('../data/train_cleaned.csv')\n",
    "train.head()"
   ]
  },
  {
   "cell_type": "code",
   "execution_count": null,
   "id": "dcc7adec-4028-4e29-8147-842bfd8ed062",
   "metadata": {},
   "outputs": [],
   "source": [
    "# for exploration and modelling\n",
    "#1) run model where all features includes - X = df.drop(columns = 'SalesPrice')\n",
    "\n",
    "# Three different way to create X:\n",
    "#X = ads[['TV', 'radio', 'newspaper']]\n",
    "\n",
    "#X = ads.drop(columns = ['sales']) # recommended with high dimensional datasets\n",
    "\n",
    "model without feature engineering, interaction terms, dropping collinear features manually"
   ]
  },
  {
   "cell_type": "code",
   "execution_count": null,
   "id": "d9ac7aa7-8047-470f-baf3-e63bc17ffd6a",
   "metadata": {},
   "outputs": [],
   "source": []
  },
  {
   "cell_type": "code",
   "execution_count": null,
   "id": "f538ab95-e734-405c-be2e-8858cb1d07c9",
   "metadata": {},
   "outputs": [],
   "source": []
  },
  {
   "cell_type": "code",
   "execution_count": null,
   "id": "72580b6f-157d-4897-8fb2-754b53d4b595",
   "metadata": {},
   "outputs": [],
   "source": []
  },
  {
   "cell_type": "code",
   "execution_count": null,
   "id": "5a774e43-cef4-4bc5-868f-e101e195379b",
   "metadata": {},
   "outputs": [],
   "source": []
  },
  {
   "cell_type": "code",
   "execution_count": null,
   "id": "b28cb42d-995d-4b2c-998e-d3d29713cb6b",
   "metadata": {},
   "outputs": [],
   "source": []
  }
 ],
 "metadata": {
  "kernelspec": {
   "display_name": "Python [conda env:dsi] *",
   "language": "python",
   "name": "conda-env-dsi-py"
  },
  "language_info": {
   "codemirror_mode": {
    "name": "ipython",
    "version": 3
   },
   "file_extension": ".py",
   "mimetype": "text/x-python",
   "name": "python",
   "nbconvert_exporter": "python",
   "pygments_lexer": "ipython3",
   "version": "3.9.12"
  }
 },
 "nbformat": 4,
 "nbformat_minor": 5
}
