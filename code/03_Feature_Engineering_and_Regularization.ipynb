{
 "cells": [
  {
   "cell_type": "markdown",
   "id": "ad24f327-c209-4c64-82ae-fe7373a3b924",
   "metadata": {},
   "source": [
    "# **Feature Engineering**"
   ]
  },
  {
   "cell_type": "markdown",
   "id": "f2f91901-2090-4df7-b872-40ce7d2f08c1",
   "metadata": {
    "tags": []
   },
   "source": [
    "### **Imports**\n",
    "---"
   ]
  },
  {
   "cell_type": "code",
   "execution_count": 222,
   "id": "7703f179-a0a1-43cd-9c02-bd5a162d1ac2",
   "metadata": {},
   "outputs": [],
   "source": [
    "import pandas as pd\n",
    "import numpy as np\n",
    "import matplotlib.pyplot as plt\n",
    "import seaborn as sns\n",
    "\n",
    "from sklearn.linear_model import LinearRegression, Ridge, RidgeCV, Lasso, LassoCV, ElasticNetCV\n",
    "from sklearn.model_selection import train_test_split, cross_val_score\n",
    "from sklearn.preprocessing import StandardScaler, PolynomialFeatures\n",
    "from sklearn import metrics"
   ]
  },
  {
   "cell_type": "markdown",
   "id": "997eb4fe-04cf-4861-b257-68e56444d1a5",
   "metadata": {},
   "source": [
    "### **Load the data**\n",
    "-----"
   ]
  },
  {
   "cell_type": "code",
   "execution_count": 223,
   "id": "a14c85ff-d420-4bbb-8dc9-f5cad17d543c",
   "metadata": {},
   "outputs": [
    {
     "data": {
      "text/html": [
       "<div>\n",
       "<style scoped>\n",
       "    .dataframe tbody tr th:only-of-type {\n",
       "        vertical-align: middle;\n",
       "    }\n",
       "\n",
       "    .dataframe tbody tr th {\n",
       "        vertical-align: top;\n",
       "    }\n",
       "\n",
       "    .dataframe thead th {\n",
       "        text-align: right;\n",
       "    }\n",
       "</style>\n",
       "<table border=\"1\" class=\"dataframe\">\n",
       "  <thead>\n",
       "    <tr style=\"text-align: right;\">\n",
       "      <th></th>\n",
       "      <th>Id</th>\n",
       "      <th>parcel_id</th>\n",
       "      <th>zoning_type</th>\n",
       "      <th>lot_frontage</th>\n",
       "      <th>lot_area</th>\n",
       "      <th>util_avail</th>\n",
       "      <th>house_quality</th>\n",
       "      <th>year_built</th>\n",
       "      <th>year_remodeled</th>\n",
       "      <th>masonry_veneer_area</th>\n",
       "      <th>...</th>\n",
       "      <th>misc_features_nan</th>\n",
       "      <th>sale_type_CWD</th>\n",
       "      <th>sale_type_Con</th>\n",
       "      <th>sale_type_ConLD</th>\n",
       "      <th>sale_type_ConLI</th>\n",
       "      <th>sale_type_ConLw</th>\n",
       "      <th>sale_type_New</th>\n",
       "      <th>sale_type_Oth</th>\n",
       "      <th>sale_type_VWD</th>\n",
       "      <th>sale_type_WD</th>\n",
       "    </tr>\n",
       "  </thead>\n",
       "  <tbody>\n",
       "    <tr>\n",
       "      <th>0</th>\n",
       "      <td>544</td>\n",
       "      <td>531379050</td>\n",
       "      <td>RL</td>\n",
       "      <td>43.0</td>\n",
       "      <td>11492.0</td>\n",
       "      <td>AllPub</td>\n",
       "      <td>7</td>\n",
       "      <td>1996</td>\n",
       "      <td>1997</td>\n",
       "      <td>132.0</td>\n",
       "      <td>...</td>\n",
       "      <td>1</td>\n",
       "      <td>0</td>\n",
       "      <td>0</td>\n",
       "      <td>0</td>\n",
       "      <td>0</td>\n",
       "      <td>0</td>\n",
       "      <td>0</td>\n",
       "      <td>0</td>\n",
       "      <td>0</td>\n",
       "      <td>1</td>\n",
       "    </tr>\n",
       "    <tr>\n",
       "      <th>1</th>\n",
       "      <td>153</td>\n",
       "      <td>535304180</td>\n",
       "      <td>RL</td>\n",
       "      <td>68.0</td>\n",
       "      <td>7922.0</td>\n",
       "      <td>AllPub</td>\n",
       "      <td>5</td>\n",
       "      <td>1953</td>\n",
       "      <td>2007</td>\n",
       "      <td>0.0</td>\n",
       "      <td>...</td>\n",
       "      <td>1</td>\n",
       "      <td>0</td>\n",
       "      <td>0</td>\n",
       "      <td>0</td>\n",
       "      <td>0</td>\n",
       "      <td>0</td>\n",
       "      <td>0</td>\n",
       "      <td>0</td>\n",
       "      <td>0</td>\n",
       "      <td>1</td>\n",
       "    </tr>\n",
       "    <tr>\n",
       "      <th>2</th>\n",
       "      <td>318</td>\n",
       "      <td>916386060</td>\n",
       "      <td>RL</td>\n",
       "      <td>73.0</td>\n",
       "      <td>9802.0</td>\n",
       "      <td>AllPub</td>\n",
       "      <td>5</td>\n",
       "      <td>2006</td>\n",
       "      <td>2007</td>\n",
       "      <td>0.0</td>\n",
       "      <td>...</td>\n",
       "      <td>1</td>\n",
       "      <td>0</td>\n",
       "      <td>0</td>\n",
       "      <td>0</td>\n",
       "      <td>0</td>\n",
       "      <td>0</td>\n",
       "      <td>0</td>\n",
       "      <td>0</td>\n",
       "      <td>0</td>\n",
       "      <td>1</td>\n",
       "    </tr>\n",
       "    <tr>\n",
       "      <th>3</th>\n",
       "      <td>255</td>\n",
       "      <td>906425045</td>\n",
       "      <td>RL</td>\n",
       "      <td>82.0</td>\n",
       "      <td>14235.0</td>\n",
       "      <td>AllPub</td>\n",
       "      <td>6</td>\n",
       "      <td>1900</td>\n",
       "      <td>1993</td>\n",
       "      <td>0.0</td>\n",
       "      <td>...</td>\n",
       "      <td>1</td>\n",
       "      <td>0</td>\n",
       "      <td>0</td>\n",
       "      <td>0</td>\n",
       "      <td>0</td>\n",
       "      <td>0</td>\n",
       "      <td>0</td>\n",
       "      <td>0</td>\n",
       "      <td>0</td>\n",
       "      <td>1</td>\n",
       "    </tr>\n",
       "    <tr>\n",
       "      <th>4</th>\n",
       "      <td>2827</td>\n",
       "      <td>908186070</td>\n",
       "      <td>RM</td>\n",
       "      <td>35.0</td>\n",
       "      <td>3675.0</td>\n",
       "      <td>AllPub</td>\n",
       "      <td>6</td>\n",
       "      <td>2005</td>\n",
       "      <td>2006</td>\n",
       "      <td>82.0</td>\n",
       "      <td>...</td>\n",
       "      <td>1</td>\n",
       "      <td>0</td>\n",
       "      <td>0</td>\n",
       "      <td>0</td>\n",
       "      <td>0</td>\n",
       "      <td>0</td>\n",
       "      <td>1</td>\n",
       "      <td>0</td>\n",
       "      <td>0</td>\n",
       "      <td>0</td>\n",
       "    </tr>\n",
       "  </tbody>\n",
       "</table>\n",
       "<p>5 rows × 244 columns</p>\n",
       "</div>"
      ],
      "text/plain": [
       "     Id  parcel_id zoning_type  lot_frontage  lot_area util_avail  \\\n",
       "0   544  531379050          RL          43.0   11492.0     AllPub   \n",
       "1   153  535304180          RL          68.0    7922.0     AllPub   \n",
       "2   318  916386060          RL          73.0    9802.0     AllPub   \n",
       "3   255  906425045          RL          82.0   14235.0     AllPub   \n",
       "4  2827  908186070          RM          35.0    3675.0     AllPub   \n",
       "\n",
       "   house_quality  year_built  year_remodeled  masonry_veneer_area  ...  \\\n",
       "0              7        1996            1997                132.0  ...   \n",
       "1              5        1953            2007                  0.0  ...   \n",
       "2              5        2006            2007                  0.0  ...   \n",
       "3              6        1900            1993                  0.0  ...   \n",
       "4              6        2005            2006                 82.0  ...   \n",
       "\n",
       "   misc_features_nan  sale_type_CWD  sale_type_Con  sale_type_ConLD  \\\n",
       "0                  1              0              0                0   \n",
       "1                  1              0              0                0   \n",
       "2                  1              0              0                0   \n",
       "3                  1              0              0                0   \n",
       "4                  1              0              0                0   \n",
       "\n",
       "   sale_type_ConLI  sale_type_ConLw  sale_type_New  sale_type_Oth  \\\n",
       "0                0                0              0              0   \n",
       "1                0                0              0              0   \n",
       "2                0                0              0              0   \n",
       "3                0                0              0              0   \n",
       "4                0                0              1              0   \n",
       "\n",
       "   sale_type_VWD  sale_type_WD   \n",
       "0              0              1  \n",
       "1              0              1  \n",
       "2              0              1  \n",
       "3              0              1  \n",
       "4              0              0  \n",
       "\n",
       "[5 rows x 244 columns]"
      ]
     },
     "execution_count": 223,
     "metadata": {},
     "output_type": "execute_result"
    }
   ],
   "source": [
    "train = pd.read_csv('../data/train_preprocessed.csv')\n",
    "train.head()"
   ]
  },
  {
   "cell_type": "code",
   "execution_count": 224,
   "id": "1b4c2b5b-0f9c-42a6-b7e5-acdf4ffb5a9c",
   "metadata": {},
   "outputs": [
    {
     "data": {
      "text/html": [
       "<div>\n",
       "<style scoped>\n",
       "    .dataframe tbody tr th:only-of-type {\n",
       "        vertical-align: middle;\n",
       "    }\n",
       "\n",
       "    .dataframe tbody tr th {\n",
       "        vertical-align: top;\n",
       "    }\n",
       "\n",
       "    .dataframe thead th {\n",
       "        text-align: right;\n",
       "    }\n",
       "</style>\n",
       "<table border=\"1\" class=\"dataframe\">\n",
       "  <thead>\n",
       "    <tr style=\"text-align: right;\">\n",
       "      <th></th>\n",
       "      <th>Id</th>\n",
       "      <th>parcel_id</th>\n",
       "      <th>zoning_type</th>\n",
       "      <th>lot_frontage</th>\n",
       "      <th>lot_area</th>\n",
       "      <th>util_avail</th>\n",
       "      <th>house_quality</th>\n",
       "      <th>year_built</th>\n",
       "      <th>year_remodeled</th>\n",
       "      <th>masonry_veneer_area</th>\n",
       "      <th>...</th>\n",
       "      <th>misc_features_nan</th>\n",
       "      <th>sale_type_CWD</th>\n",
       "      <th>sale_type_Con</th>\n",
       "      <th>sale_type_ConLD</th>\n",
       "      <th>sale_type_ConLI</th>\n",
       "      <th>sale_type_ConLw</th>\n",
       "      <th>sale_type_New</th>\n",
       "      <th>sale_type_Oth</th>\n",
       "      <th>sale_type_VWD</th>\n",
       "      <th>sale_type_WD</th>\n",
       "    </tr>\n",
       "  </thead>\n",
       "  <tbody>\n",
       "    <tr>\n",
       "      <th>0</th>\n",
       "      <td>2658</td>\n",
       "      <td>902301120</td>\n",
       "      <td>RM</td>\n",
       "      <td>69.0</td>\n",
       "      <td>9142.0</td>\n",
       "      <td>AllPub</td>\n",
       "      <td>6</td>\n",
       "      <td>1910</td>\n",
       "      <td>1950</td>\n",
       "      <td>0.0</td>\n",
       "      <td>...</td>\n",
       "      <td>1</td>\n",
       "      <td>0</td>\n",
       "      <td>0</td>\n",
       "      <td>0</td>\n",
       "      <td>0</td>\n",
       "      <td>0</td>\n",
       "      <td>0</td>\n",
       "      <td>0</td>\n",
       "      <td>0</td>\n",
       "      <td>1</td>\n",
       "    </tr>\n",
       "    <tr>\n",
       "      <th>1</th>\n",
       "      <td>2718</td>\n",
       "      <td>905108090</td>\n",
       "      <td>RL</td>\n",
       "      <td>NaN</td>\n",
       "      <td>9662.0</td>\n",
       "      <td>AllPub</td>\n",
       "      <td>5</td>\n",
       "      <td>1977</td>\n",
       "      <td>1977</td>\n",
       "      <td>0.0</td>\n",
       "      <td>...</td>\n",
       "      <td>1</td>\n",
       "      <td>0</td>\n",
       "      <td>0</td>\n",
       "      <td>0</td>\n",
       "      <td>0</td>\n",
       "      <td>0</td>\n",
       "      <td>0</td>\n",
       "      <td>0</td>\n",
       "      <td>0</td>\n",
       "      <td>1</td>\n",
       "    </tr>\n",
       "    <tr>\n",
       "      <th>2</th>\n",
       "      <td>2414</td>\n",
       "      <td>528218130</td>\n",
       "      <td>RL</td>\n",
       "      <td>58.0</td>\n",
       "      <td>17104.0</td>\n",
       "      <td>AllPub</td>\n",
       "      <td>7</td>\n",
       "      <td>2006</td>\n",
       "      <td>2006</td>\n",
       "      <td>0.0</td>\n",
       "      <td>...</td>\n",
       "      <td>1</td>\n",
       "      <td>0</td>\n",
       "      <td>0</td>\n",
       "      <td>0</td>\n",
       "      <td>0</td>\n",
       "      <td>0</td>\n",
       "      <td>1</td>\n",
       "      <td>0</td>\n",
       "      <td>0</td>\n",
       "      <td>0</td>\n",
       "    </tr>\n",
       "    <tr>\n",
       "      <th>3</th>\n",
       "      <td>1989</td>\n",
       "      <td>902207150</td>\n",
       "      <td>RM</td>\n",
       "      <td>60.0</td>\n",
       "      <td>8520.0</td>\n",
       "      <td>AllPub</td>\n",
       "      <td>5</td>\n",
       "      <td>1923</td>\n",
       "      <td>2006</td>\n",
       "      <td>0.0</td>\n",
       "      <td>...</td>\n",
       "      <td>1</td>\n",
       "      <td>0</td>\n",
       "      <td>0</td>\n",
       "      <td>0</td>\n",
       "      <td>0</td>\n",
       "      <td>0</td>\n",
       "      <td>0</td>\n",
       "      <td>0</td>\n",
       "      <td>0</td>\n",
       "      <td>1</td>\n",
       "    </tr>\n",
       "    <tr>\n",
       "      <th>4</th>\n",
       "      <td>625</td>\n",
       "      <td>535105100</td>\n",
       "      <td>RL</td>\n",
       "      <td>NaN</td>\n",
       "      <td>9500.0</td>\n",
       "      <td>AllPub</td>\n",
       "      <td>6</td>\n",
       "      <td>1963</td>\n",
       "      <td>1963</td>\n",
       "      <td>247.0</td>\n",
       "      <td>...</td>\n",
       "      <td>1</td>\n",
       "      <td>0</td>\n",
       "      <td>0</td>\n",
       "      <td>0</td>\n",
       "      <td>0</td>\n",
       "      <td>0</td>\n",
       "      <td>0</td>\n",
       "      <td>0</td>\n",
       "      <td>0</td>\n",
       "      <td>1</td>\n",
       "    </tr>\n",
       "  </tbody>\n",
       "</table>\n",
       "<p>5 rows × 244 columns</p>\n",
       "</div>"
      ],
      "text/plain": [
       "     Id  parcel_id zoning_type  lot_frontage  lot_area util_avail  \\\n",
       "0  2658  902301120          RM          69.0    9142.0     AllPub   \n",
       "1  2718  905108090          RL           NaN    9662.0     AllPub   \n",
       "2  2414  528218130          RL          58.0   17104.0     AllPub   \n",
       "3  1989  902207150          RM          60.0    8520.0     AllPub   \n",
       "4   625  535105100          RL           NaN    9500.0     AllPub   \n",
       "\n",
       "   house_quality  year_built  year_remodeled  masonry_veneer_area  ...  \\\n",
       "0              6        1910            1950                  0.0  ...   \n",
       "1              5        1977            1977                  0.0  ...   \n",
       "2              7        2006            2006                  0.0  ...   \n",
       "3              5        1923            2006                  0.0  ...   \n",
       "4              6        1963            1963                247.0  ...   \n",
       "\n",
       "   misc_features_nan  sale_type_CWD  sale_type_Con  sale_type_ConLD  \\\n",
       "0                  1              0              0                0   \n",
       "1                  1              0              0                0   \n",
       "2                  1              0              0                0   \n",
       "3                  1              0              0                0   \n",
       "4                  1              0              0                0   \n",
       "\n",
       "   sale_type_ConLI  sale_type_ConLw  sale_type_New  sale_type_Oth  \\\n",
       "0                0                0              0              0   \n",
       "1                0                0              0              0   \n",
       "2                0                0              1              0   \n",
       "3                0                0              0              0   \n",
       "4                0                0              0              0   \n",
       "\n",
       "   sale_type_VWD  sale_type_WD   \n",
       "0              0              1  \n",
       "1              0              1  \n",
       "2              0              0  \n",
       "3              0              1  \n",
       "4              0              1  \n",
       "\n",
       "[5 rows x 244 columns]"
      ]
     },
     "execution_count": 224,
     "metadata": {},
     "output_type": "execute_result"
    }
   ],
   "source": [
    "test = pd.read_csv('../data/test_preprocessed.csv')\n",
    "test.head()"
   ]
  },
  {
   "cell_type": "markdown",
   "id": "cbb4ff33-191a-4c5b-a8ed-bc5a3bab71ec",
   "metadata": {},
   "source": [
    "----\n",
    "### *Interaction Features*"
   ]
  },
  {
   "cell_type": "code",
   "execution_count": 225,
   "id": "3137c813-d3e1-4516-bb4c-3f37312e2a06",
   "metadata": {},
   "outputs": [
    {
     "name": "stdout",
     "output_type": "stream",
     "text": [
      "(1272, 244)\n",
      "(878, 244)\n"
     ]
    }
   ],
   "source": [
    "print(train.shape)\n",
    "print(test.shape)"
   ]
  },
  {
   "cell_type": "code",
   "execution_count": 226,
   "id": "6e44bd7d-979f-4256-b897-005f3f657f5e",
   "metadata": {},
   "outputs": [
    {
     "data": {
      "text/html": [
       "<div>\n",
       "<style scoped>\n",
       "    .dataframe tbody tr th:only-of-type {\n",
       "        vertical-align: middle;\n",
       "    }\n",
       "\n",
       "    .dataframe tbody tr th {\n",
       "        vertical-align: top;\n",
       "    }\n",
       "\n",
       "    .dataframe thead th {\n",
       "        text-align: right;\n",
       "    }\n",
       "</style>\n",
       "<table border=\"1\" class=\"dataframe\">\n",
       "  <thead>\n",
       "    <tr style=\"text-align: right;\">\n",
       "      <th></th>\n",
       "      <th>SalePrice</th>\n",
       "    </tr>\n",
       "  </thead>\n",
       "  <tbody>\n",
       "    <tr>\n",
       "      <th>SalePrice</th>\n",
       "      <td>1.000000</td>\n",
       "    </tr>\n",
       "    <tr>\n",
       "      <th>house_quality</th>\n",
       "      <td>0.796371</td>\n",
       "    </tr>\n",
       "    <tr>\n",
       "      <th>exterior_quality</th>\n",
       "      <td>0.688407</td>\n",
       "    </tr>\n",
       "    <tr>\n",
       "      <th>year_built</th>\n",
       "      <td>0.667750</td>\n",
       "    </tr>\n",
       "    <tr>\n",
       "      <th>basement_height</th>\n",
       "      <td>0.663840</td>\n",
       "    </tr>\n",
       "    <tr>\n",
       "      <th>...</th>\n",
       "      <td>...</td>\n",
       "    </tr>\n",
       "    <tr>\n",
       "      <th>foundation_type_Slab</th>\n",
       "      <td>NaN</td>\n",
       "    </tr>\n",
       "    <tr>\n",
       "      <th>basement_finished_rating_nan</th>\n",
       "      <td>NaN</td>\n",
       "    </tr>\n",
       "    <tr>\n",
       "      <th>basement_finished_rating2_nan</th>\n",
       "      <td>NaN</td>\n",
       "    </tr>\n",
       "    <tr>\n",
       "      <th>garage_finished_nan</th>\n",
       "      <td>NaN</td>\n",
       "    </tr>\n",
       "    <tr>\n",
       "      <th>sale_type_VWD</th>\n",
       "      <td>NaN</td>\n",
       "    </tr>\n",
       "  </tbody>\n",
       "</table>\n",
       "<p>241 rows × 1 columns</p>\n",
       "</div>"
      ],
      "text/plain": [
       "                               SalePrice\n",
       "SalePrice                       1.000000\n",
       "house_quality                   0.796371\n",
       "exterior_quality                0.688407\n",
       "year_built                      0.667750\n",
       "basement_height                 0.663840\n",
       "...                                  ...\n",
       "foundation_type_Slab                 NaN\n",
       "basement_finished_rating_nan         NaN\n",
       "basement_finished_rating2_nan        NaN\n",
       "garage_finished_nan                  NaN\n",
       "sale_type_VWD                        NaN\n",
       "\n",
       "[241 rows x 1 columns]"
      ]
     },
     "execution_count": 226,
     "metadata": {},
     "output_type": "execute_result"
    }
   ],
   "source": [
    "train.corr()[['SalePrice']].sort_values(by = 'SalePrice', ascending=False)"
   ]
  },
  {
   "cell_type": "code",
   "execution_count": 227,
   "id": "5c250181-ed24-4815-a5c5-de5006fa66e7",
   "metadata": {},
   "outputs": [
    {
     "data": {
      "text/html": [
       "<div>\n",
       "<style scoped>\n",
       "    .dataframe tbody tr th:only-of-type {\n",
       "        vertical-align: middle;\n",
       "    }\n",
       "\n",
       "    .dataframe tbody tr th {\n",
       "        vertical-align: top;\n",
       "    }\n",
       "\n",
       "    .dataframe thead th {\n",
       "        text-align: right;\n",
       "    }\n",
       "</style>\n",
       "<table border=\"1\" class=\"dataframe\">\n",
       "  <thead>\n",
       "    <tr style=\"text-align: right;\">\n",
       "      <th></th>\n",
       "      <th>garage_yr_built</th>\n",
       "      <th>year_built</th>\n",
       "    </tr>\n",
       "  </thead>\n",
       "  <tbody>\n",
       "    <tr>\n",
       "      <th>garage_yr_built</th>\n",
       "      <td>1.000000</td>\n",
       "      <td>0.838711</td>\n",
       "    </tr>\n",
       "    <tr>\n",
       "      <th>year_built</th>\n",
       "      <td>0.838711</td>\n",
       "      <td>1.000000</td>\n",
       "    </tr>\n",
       "  </tbody>\n",
       "</table>\n",
       "</div>"
      ],
      "text/plain": [
       "                 garage_yr_built  year_built\n",
       "garage_yr_built         1.000000    0.838711\n",
       "year_built              0.838711    1.000000"
      ]
     },
     "execution_count": 227,
     "metadata": {},
     "output_type": "execute_result"
    }
   ],
   "source": [
    "train[['garage_yr_built','year_built']].corr()"
   ]
  },
  {
   "cell_type": "code",
   "execution_count": 228,
   "id": "94824c41-618b-4dcd-a4b8-e3fdbde39dd9",
   "metadata": {},
   "outputs": [
    {
     "data": {
      "text/html": [
       "<div>\n",
       "<style scoped>\n",
       "    .dataframe tbody tr th:only-of-type {\n",
       "        vertical-align: middle;\n",
       "    }\n",
       "\n",
       "    .dataframe tbody tr th {\n",
       "        vertical-align: top;\n",
       "    }\n",
       "\n",
       "    .dataframe thead th {\n",
       "        text-align: right;\n",
       "    }\n",
       "</style>\n",
       "<table border=\"1\" class=\"dataframe\">\n",
       "  <thead>\n",
       "    <tr style=\"text-align: right;\">\n",
       "      <th></th>\n",
       "      <th>SalePrice</th>\n",
       "      <th>finished_area</th>\n",
       "      <th>finished_area2</th>\n",
       "      <th>unfinished_area</th>\n",
       "      <th>total_basement_area</th>\n",
       "      <th>garage_yr_built</th>\n",
       "      <th>year_built</th>\n",
       "    </tr>\n",
       "  </thead>\n",
       "  <tbody>\n",
       "    <tr>\n",
       "      <th>SalePrice</th>\n",
       "      <td>1.000000</td>\n",
       "      <td>0.279768</td>\n",
       "      <td>-0.039258</td>\n",
       "      <td>0.187020</td>\n",
       "      <td>0.559873</td>\n",
       "      <td>0.608534</td>\n",
       "      <td>0.667750</td>\n",
       "    </tr>\n",
       "    <tr>\n",
       "      <th>year_built</th>\n",
       "      <td>0.667750</td>\n",
       "      <td>0.195640</td>\n",
       "      <td>-0.029440</td>\n",
       "      <td>0.169534</td>\n",
       "      <td>0.441272</td>\n",
       "      <td>0.838711</td>\n",
       "      <td>1.000000</td>\n",
       "    </tr>\n",
       "    <tr>\n",
       "      <th>garage_yr_built</th>\n",
       "      <td>0.608534</td>\n",
       "      <td>0.125040</td>\n",
       "      <td>-0.044423</td>\n",
       "      <td>0.183220</td>\n",
       "      <td>0.367779</td>\n",
       "      <td>1.000000</td>\n",
       "      <td>0.838711</td>\n",
       "    </tr>\n",
       "    <tr>\n",
       "      <th>total_basement_area</th>\n",
       "      <td>0.559873</td>\n",
       "      <td>0.345926</td>\n",
       "      <td>0.052202</td>\n",
       "      <td>0.429738</td>\n",
       "      <td>1.000000</td>\n",
       "      <td>0.367779</td>\n",
       "      <td>0.441272</td>\n",
       "    </tr>\n",
       "    <tr>\n",
       "      <th>finished_area</th>\n",
       "      <td>0.279768</td>\n",
       "      <td>1.000000</td>\n",
       "      <td>-0.056388</td>\n",
       "      <td>-0.627205</td>\n",
       "      <td>0.345926</td>\n",
       "      <td>0.125040</td>\n",
       "      <td>0.195640</td>\n",
       "    </tr>\n",
       "    <tr>\n",
       "      <th>unfinished_area</th>\n",
       "      <td>0.187020</td>\n",
       "      <td>-0.627205</td>\n",
       "      <td>-0.272996</td>\n",
       "      <td>1.000000</td>\n",
       "      <td>0.429738</td>\n",
       "      <td>0.183220</td>\n",
       "      <td>0.169534</td>\n",
       "    </tr>\n",
       "    <tr>\n",
       "      <th>finished_area2</th>\n",
       "      <td>-0.039258</td>\n",
       "      <td>-0.056388</td>\n",
       "      <td>1.000000</td>\n",
       "      <td>-0.272996</td>\n",
       "      <td>0.052202</td>\n",
       "      <td>-0.044423</td>\n",
       "      <td>-0.029440</td>\n",
       "    </tr>\n",
       "  </tbody>\n",
       "</table>\n",
       "</div>"
      ],
      "text/plain": [
       "                     SalePrice  finished_area  finished_area2  \\\n",
       "SalePrice             1.000000       0.279768       -0.039258   \n",
       "year_built            0.667750       0.195640       -0.029440   \n",
       "garage_yr_built       0.608534       0.125040       -0.044423   \n",
       "total_basement_area   0.559873       0.345926        0.052202   \n",
       "finished_area         0.279768       1.000000       -0.056388   \n",
       "unfinished_area       0.187020      -0.627205       -0.272996   \n",
       "finished_area2       -0.039258      -0.056388        1.000000   \n",
       "\n",
       "                     unfinished_area  total_basement_area  garage_yr_built  \\\n",
       "SalePrice                   0.187020             0.559873         0.608534   \n",
       "year_built                  0.169534             0.441272         0.838711   \n",
       "garage_yr_built             0.183220             0.367779         1.000000   \n",
       "total_basement_area         0.429738             1.000000         0.367779   \n",
       "finished_area              -0.627205             0.345926         0.125040   \n",
       "unfinished_area             1.000000             0.429738         0.183220   \n",
       "finished_area2             -0.272996             0.052202        -0.044423   \n",
       "\n",
       "                     year_built  \n",
       "SalePrice              0.667750  \n",
       "year_built             1.000000  \n",
       "garage_yr_built        0.838711  \n",
       "total_basement_area    0.441272  \n",
       "finished_area          0.195640  \n",
       "unfinished_area        0.169534  \n",
       "finished_area2        -0.029440  "
      ]
     },
     "execution_count": 228,
     "metadata": {},
     "output_type": "execute_result"
    }
   ],
   "source": [
    "train[['SalePrice','finished_area','finished_area2','unfinished_area','total_basement_area','garage_yr_built','year_built']].corr().sort_values(by = 'SalePrice', ascending = False)"
   ]
  },
  {
   "cell_type": "code",
   "execution_count": 229,
   "id": "138a1faf-4ba4-4fe3-9018-7aa5ea53f3aa",
   "metadata": {},
   "outputs": [],
   "source": [
    "features = [col for col in test._get_numeric_data().columns if col != 'SalePrice' and test[col].isnull().sum() == 0]"
   ]
  },
  {
   "cell_type": "code",
   "execution_count": 230,
   "id": "0f1f8ed4-6b00-4e2c-8e4d-4e6f09bf482e",
   "metadata": {},
   "outputs": [],
   "source": [
    "train['finished_space'] = train['finished_area'] * train['finished_area2']\n",
    "test['finished_space'] = test['finished_area'] * test['finished_area2']\n",
    "\n",
    "train['basement_space'] = train['unfinished_area'] * train['total_basement_area']\n",
    "test['basement_space'] = test['unfinished_area'] * test['total_basement_area']\n",
    "\n",
    "train['garage_yr_built_comb'] = train['garage_yr_built'] * train['year_built']\n",
    "test['garage_yr_built_comb'] = test['garage_yr_built'] * test['year_built']"
   ]
  },
  {
   "cell_type": "code",
   "execution_count": 231,
   "id": "260e2406-f4d8-497b-8d6b-35ccda580039",
   "metadata": {},
   "outputs": [
    {
     "data": {
      "text/html": [
       "<div>\n",
       "<style scoped>\n",
       "    .dataframe tbody tr th:only-of-type {\n",
       "        vertical-align: middle;\n",
       "    }\n",
       "\n",
       "    .dataframe tbody tr th {\n",
       "        vertical-align: top;\n",
       "    }\n",
       "\n",
       "    .dataframe thead th {\n",
       "        text-align: right;\n",
       "    }\n",
       "</style>\n",
       "<table border=\"1\" class=\"dataframe\">\n",
       "  <thead>\n",
       "    <tr style=\"text-align: right;\">\n",
       "      <th></th>\n",
       "      <th>SalePrice</th>\n",
       "      <th>finished_space</th>\n",
       "      <th>basement_space</th>\n",
       "      <th>garage_yr_built_comb</th>\n",
       "    </tr>\n",
       "  </thead>\n",
       "  <tbody>\n",
       "    <tr>\n",
       "      <th>SalePrice</th>\n",
       "      <td>1.000000</td>\n",
       "      <td>0.004733</td>\n",
       "      <td>0.315218</td>\n",
       "      <td>0.669314</td>\n",
       "    </tr>\n",
       "    <tr>\n",
       "      <th>garage_yr_built_comb</th>\n",
       "      <td>0.669314</td>\n",
       "      <td>-0.022631</td>\n",
       "      <td>0.293694</td>\n",
       "      <td>1.000000</td>\n",
       "    </tr>\n",
       "    <tr>\n",
       "      <th>basement_space</th>\n",
       "      <td>0.315218</td>\n",
       "      <td>-0.197421</td>\n",
       "      <td>1.000000</td>\n",
       "      <td>0.293694</td>\n",
       "    </tr>\n",
       "    <tr>\n",
       "      <th>finished_space</th>\n",
       "      <td>0.004733</td>\n",
       "      <td>1.000000</td>\n",
       "      <td>-0.197421</td>\n",
       "      <td>-0.022631</td>\n",
       "    </tr>\n",
       "  </tbody>\n",
       "</table>\n",
       "</div>"
      ],
      "text/plain": [
       "                      SalePrice  finished_space  basement_space  \\\n",
       "SalePrice              1.000000        0.004733        0.315218   \n",
       "garage_yr_built_comb   0.669314       -0.022631        0.293694   \n",
       "basement_space         0.315218       -0.197421        1.000000   \n",
       "finished_space         0.004733        1.000000       -0.197421   \n",
       "\n",
       "                      garage_yr_built_comb  \n",
       "SalePrice                         0.669314  \n",
       "garage_yr_built_comb              1.000000  \n",
       "basement_space                    0.293694  \n",
       "finished_space                   -0.022631  "
      ]
     },
     "execution_count": 231,
     "metadata": {},
     "output_type": "execute_result"
    }
   ],
   "source": [
    "train[['SalePrice','finished_space','basement_space','garage_yr_built_comb']].corr().sort_values(by = 'SalePrice', ascending = False)"
   ]
  },
  {
   "cell_type": "markdown",
   "id": "e3373b3a-f190-4219-918d-417c6eab53ac",
   "metadata": {},
   "source": [
    "## Model 6: Test with interaction features added"
   ]
  },
  {
   "cell_type": "code",
   "execution_count": 232,
   "id": "69d3349d-3779-4ac9-8f24-964bce39fb57",
   "metadata": {},
   "outputs": [],
   "source": [
    "features = [col for col in test._get_numeric_data().columns if col != 'SalePrice' and test[col].isnull().sum() == 0 and col not in ['zoning_type_I (all)',\n",
    "            'util_avail_NoSewr', 'ames_neighborhood_BrDale', 'prox_to_transport_2_PosA', 'floors_2.5Fin', 'roof_material_Metal', 'roof_material_Roll',\n",
    "            'roof_material_WdShngl', 'ext_covering_AsphShn', 'ext_covering_PreCast', 'ext_covering2_Other', 'ext_covering2_PreCast', 'masonry_veneer_type_CBlock',\n",
    "            'masonry_veneer_type_nan', 'foundation_type_Slab', 'basement_finished_rating_nan', 'basement_finished_rating2_nan', 'heating_type_GasA',\n",
    "            'full_bathrooms_above_ground_4', 'kitchens_above_ground_1', 'garage_finished_nan', 'garage_car_capacity_1', 'sale_type_VWD', 'basement_space','finished_space']]      "
   ]
  },
  {
   "cell_type": "code",
   "execution_count": 233,
   "id": "d52860e6-c839-4c98-86b0-ff3a9d9ee9f6",
   "metadata": {},
   "outputs": [
    {
     "name": "stdout",
     "output_type": "stream",
     "text": [
      "Training Shape: ((954, 211), (954,))\n",
      "Test Shape: ((318, 211), (318,))\n",
      "Training R2 Score: 0.9392076798112922\n",
      "Test R2 Score: 0.8950322828833069\n"
     ]
    }
   ],
   "source": [
    "X = train[features]\n",
    "y = train['SalePrice']\n",
    "\n",
    "X_train, X_test, y_train, y_test = train_test_split(X, y, random_state=42)\n",
    "\n",
    "print(f'Training Shape: {X_train.shape, y_train.shape}')\n",
    "print(f'Test Shape: {X_test.shape, y_test.shape}')\n",
    "\n",
    "lr = LinearRegression()\n",
    "lr.fit(X_train, y_train)\n",
    "\n",
    "#Training Score\n",
    "print(f'Training R2 Score: {lr.score(X_train, y_train)}')\n",
    "#Test Score\n",
    "print(f'Test R2 Score: {lr.score(X_test, y_test)}')"
   ]
  },
  {
   "cell_type": "markdown",
   "id": "aca54ec6-ebda-4ca5-bfc6-ffcc31d9df1e",
   "metadata": {},
   "source": [
    "##### *Improvement from model 5 which produced below results:*\n",
    "- Training Score: 0.8898394072586665\n",
    "- Test Score: 0.8859250764243847\n"
   ]
  },
  {
   "cell_type": "code",
   "execution_count": 234,
   "id": "d3a5bdbb-6eda-4abf-9879-c684377cf5ad",
   "metadata": {},
   "outputs": [
    {
     "data": {
      "text/plain": [
       "0.8792921419628972"
      ]
     },
     "execution_count": 234,
     "metadata": {},
     "output_type": "execute_result"
    }
   ],
   "source": [
    "#cross-validation score\n",
    "cross_val_score(lr, X_train, y_train).mean()"
   ]
  },
  {
   "cell_type": "code",
   "execution_count": 235,
   "id": "75756507-b9de-48e1-b61b-809d787bec3e",
   "metadata": {},
   "outputs": [
    {
     "name": "stdout",
     "output_type": "stream",
     "text": [
      "Adjusted R-Squared for training: 0.9270492157735506\n",
      "Adjusted R-Squared for test: 0.8740387394599684\n",
      "Root Mean Squared Error: 16930.90538122739\n"
     ]
    }
   ],
   "source": [
    "#adjusted R-Squared Training data\n",
    "r2 = lr.score(X_train, y_train)\n",
    "print(f'Adjusted R-Squared for training: {1 - (((1-r2) * (len(y-1))) / (len(y) - len(features) -1))}')\n",
    "\n",
    "#adjusted R-Squared Test data\n",
    "r2 = lr.score(X_test, y_test)\n",
    "print(f'Adjusted R-Squared for test: {1 - (((1-r2) * (len(y-1))) / (len(y) - len(features) -1))}')\n",
    "\n",
    "#Root Mean Squared Error\n",
    "predictions = lr.predict(X_test)\n",
    "\n",
    "rmse = np.sqrt(metrics.mean_squared_error(y_test, predictions))\n",
    "print(f'Root Mean Squared Error: {rmse}')"
   ]
  },
  {
   "cell_type": "code",
   "execution_count": 236,
   "id": "49c5a085-6560-43a6-b019-d49759ec6dc4",
   "metadata": {},
   "outputs": [
    {
     "data": {
      "text/plain": [
       "0.8792921419628972"
      ]
     },
     "execution_count": 236,
     "metadata": {},
     "output_type": "execute_result"
    }
   ],
   "source": [
    "# Cross Val Score to evaluate model\n",
    "cross_val_score(lr, X_train, y_train).mean()"
   ]
  },
  {
   "cell_type": "code",
   "execution_count": 237,
   "id": "0671f2b5-90a4-4af9-92b7-925e5237df2b",
   "metadata": {},
   "outputs": [
    {
     "data": {
      "text/plain": [
       "(878,)"
      ]
     },
     "execution_count": 237,
     "metadata": {},
     "output_type": "execute_result"
    }
   ],
   "source": [
    "# Make predictions on test data\n",
    "preds = lr.predict(test[features])\n",
    "\n",
    "preds.shape"
   ]
  },
  {
   "cell_type": "code",
   "execution_count": 238,
   "id": "2e8c749d-198e-463f-93aa-3e19d7543e31",
   "metadata": {},
   "outputs": [],
   "source": [
    "# add sale price column to test data set for kaggle submission\n",
    "test['SalePrice'] = preds\n",
    "\n",
    "# Create Data Frame with only Id and SalePrice\n",
    "interaction_features = test[['Id', 'SalePrice']]\n",
    "\n",
    "# set index for new DF\n",
    "interaction_features.set_index('Id', inplace=True)\n",
    "interaction_features.head()\n",
    "\n",
    "# save submission\n",
    "interaction_features.to_csv('../data/interaction_features.csv')"
   ]
  },
  {
   "cell_type": "code",
   "execution_count": 239,
   "id": "e496c6d3-0bdf-4bef-ac33-06158521afe5",
   "metadata": {},
   "outputs": [
    {
     "data": {
      "text/plain": [
       "(878, 1)"
      ]
     },
     "execution_count": 239,
     "metadata": {},
     "output_type": "execute_result"
    }
   ],
   "source": [
    "interaction_features.shape"
   ]
  },
  {
   "cell_type": "markdown",
   "id": "4b214d29-be99-4b6c-8340-9ae86a8aa33c",
   "metadata": {},
   "source": [
    "------\n",
    "### *Combining Features*"
   ]
  },
  {
   "cell_type": "code",
   "execution_count": 240,
   "id": "376b941e-bdb9-4011-b92f-da47846bdb6d",
   "metadata": {},
   "outputs": [
    {
     "name": "stdout",
     "output_type": "stream",
     "text": [
      "   total_bathrooms  total_living_area\n",
      "0                4             2759.0\n",
      "1                2             1788.0\n",
      "2                3             1444.0\n",
      "3                2             1445.0\n",
      "4                3             1619.0\n"
     ]
    }
   ],
   "source": [
    "# combine bathrooms and drop original columns\n",
    "train['total_bathrooms'] = train['full_bathrooms_basement'] + train['half_bathrooms_basement'] + train['full_bathrooms_above_ground'] + train['half_bathrooms_above_ground']\n",
    "test['total_bathrooms'] = test['full_bathrooms_basement'] + test['half_bathrooms_basement'] + test['full_bathrooms_above_ground'] + test['half_bathrooms_above_ground']\n",
    "\n",
    "train.drop(columns = ['full_bathrooms_basement','half_bathrooms_basement','full_bathrooms_above_ground','half_bathrooms_above_ground'], inplace = True)\n",
    "test.drop(columns = ['full_bathrooms_basement','half_bathrooms_basement','full_bathrooms_above_ground','half_bathrooms_above_ground'], inplace = True)\n",
    "\n",
    "# Combine living area\n",
    "train['total_living_area'] = train['finished_area'] + train['finished_area2'] + train['above_ground_living_area']\n",
    "test['total_living_area'] = test['finished_area'] + test['finished_area2'] + test['above_ground_living_area']\n",
    "\n",
    "train.drop(columns = ['finished_area', 'finished_area2', 'above_ground_living_area'], inplace=True)\n",
    "test.drop(columns = ['finished_area', 'finished_area2', 'above_ground_living_area'], inplace = True)\n",
    "\n",
    "print(train[['total_bathrooms','total_living_area']].head())"
   ]
  },
  {
   "cell_type": "code",
   "execution_count": 241,
   "id": "119ada02-adcb-4e33-acb3-5699cb787ea6",
   "metadata": {},
   "outputs": [
    {
     "name": "stdout",
     "output_type": "stream",
     "text": [
      "(1272, 242)\n",
      "(878, 242)\n"
     ]
    }
   ],
   "source": [
    "print(train.shape)\n",
    "print(test.shape)"
   ]
  },
  {
   "cell_type": "markdown",
   "id": "43bc5de5-053f-41be-a944-e78c0b71874d",
   "metadata": {},
   "source": [
    "## Model 7: Test with combined features"
   ]
  },
  {
   "cell_type": "code",
   "execution_count": 242,
   "id": "b9348fba-6c80-4be6-8f4a-36b21db8d19a",
   "metadata": {},
   "outputs": [],
   "source": [
    "features = [col for col in test._get_numeric_data().columns if col != 'SalePrice' and test[col].isnull().sum() == 0 and col not in ['zoning_type_I (all)',\n",
    "            'util_avail_NoSewr', 'ames_neighborhood_BrDale', 'prox_to_transport_2_PosA', 'floors_2.5Fin', 'roof_material_Metal', 'roof_material_Roll',\n",
    "            'roof_material_WdShngl', 'ext_covering_AsphShn', 'ext_covering_PreCast', 'ext_covering2_Other', 'ext_covering2_PreCast', 'masonry_veneer_type_CBlock',\n",
    "            'masonry_veneer_type_nan', 'foundation_type_Slab', 'basement_finished_rating_nan', 'basement_finished_rating2_nan', 'heating_type_GasA',\n",
    "            'full_bathrooms_above_ground_4', 'kitchens_above_ground_1', 'garage_finished_nan', 'garage_car_capacity_1', 'sale_type_VWD', 'basement_space','finished_space']]      "
   ]
  },
  {
   "cell_type": "code",
   "execution_count": 243,
   "id": "09fb6f28-8f88-4e7f-b65a-234d90a6c2ae",
   "metadata": {},
   "outputs": [
    {
     "name": "stdout",
     "output_type": "stream",
     "text": [
      "Training Shape: ((954, 206), (954,))\n",
      "Test Shape: ((318, 206), (318,))\n",
      "Training R2 Score: 0.9387922101368606\n",
      "Test R2 Score: 0.8973763612693352\n"
     ]
    }
   ],
   "source": [
    "X = train[features]\n",
    "y = train['SalePrice']\n",
    "\n",
    "X_train, X_test, y_train, y_test = train_test_split(X, y, random_state=42)\n",
    "\n",
    "print(f'Training Shape: {X_train.shape, y_train.shape}')\n",
    "print(f'Test Shape: {X_test.shape, y_test.shape}')\n",
    "\n",
    "lr = LinearRegression()\n",
    "lr.fit(X_train, y_train)\n",
    "\n",
    "#Training Score\n",
    "print(f'Training R2 Score: {lr.score(X_train, y_train)}')\n",
    "#Test Score\n",
    "print(f'Test R2 Score: {lr.score(X_test, y_test)}')"
   ]
  },
  {
   "cell_type": "code",
   "execution_count": 244,
   "id": "5ecae4e8-31f0-4598-981c-bda3ab3b685f",
   "metadata": {},
   "outputs": [
    {
     "data": {
      "text/plain": [
       "0.8809275726474372"
      ]
     },
     "execution_count": 244,
     "metadata": {},
     "output_type": "execute_result"
    }
   ],
   "source": [
    "#cross validation score\n",
    "cross_val_score(lr, X_train, y_train).mean()"
   ]
  },
  {
   "cell_type": "code",
   "execution_count": 245,
   "id": "52d01626-c175-41df-aa65-d04529d73d42",
   "metadata": {},
   "outputs": [
    {
     "name": "stdout",
     "output_type": "stream",
     "text": [
      "Adjusted R-Squared for training: 0.9268954847831801\n",
      "Adjusted R-Squared for test: 0.8774297948681637\n",
      "Root Mean Squared Error: 16740.79241908621\n"
     ]
    }
   ],
   "source": [
    "#adjusted R-Squared Training data\n",
    "r2 = lr.score(X_train, y_train)\n",
    "print(f'Adjusted R-Squared for training: {1 - (((1-r2) * (len(y-1))) / (len(y) - len(features) -1))}')\n",
    "\n",
    "#adjusted R-Squared Test data\n",
    "r2 = lr.score(X_test, y_test)\n",
    "print(f'Adjusted R-Squared for test: {1 - (((1-r2) * (len(y-1))) / (len(y) - len(features) -1))}')\n",
    "\n",
    "#Root Mean Squared Error\n",
    "predictions = lr.predict(X_test)\n",
    "\n",
    "rmse = np.sqrt(metrics.mean_squared_error(y_test, predictions))\n",
    "print(f'Root Mean Squared Error: {rmse}')"
   ]
  },
  {
   "cell_type": "markdown",
   "id": "57f4473b-7d14-447d-b383-35f8e6cfc536",
   "metadata": {},
   "source": [
    "Combining features improved the (bathrooms and finished living area) improved the test R-squared score slightly. "
   ]
  },
  {
   "cell_type": "code",
   "execution_count": 246,
   "id": "d2610f06-9e29-409d-bb43-7028e257714c",
   "metadata": {},
   "outputs": [
    {
     "data": {
      "text/html": [
       "<div>\n",
       "<style scoped>\n",
       "    .dataframe tbody tr th:only-of-type {\n",
       "        vertical-align: middle;\n",
       "    }\n",
       "\n",
       "    .dataframe tbody tr th {\n",
       "        vertical-align: top;\n",
       "    }\n",
       "\n",
       "    .dataframe thead th {\n",
       "        text-align: right;\n",
       "    }\n",
       "</style>\n",
       "<table border=\"1\" class=\"dataframe\">\n",
       "  <thead>\n",
       "    <tr style=\"text-align: right;\">\n",
       "      <th></th>\n",
       "      <th>Coefficients</th>\n",
       "    </tr>\n",
       "  </thead>\n",
       "  <tbody>\n",
       "    <tr>\n",
       "      <th>roof_style_Mansard</th>\n",
       "      <td>-42940.885806</td>\n",
       "    </tr>\n",
       "    <tr>\n",
       "      <th>prox_to_transport_RRNn</th>\n",
       "      <td>-38250.444315</td>\n",
       "    </tr>\n",
       "    <tr>\n",
       "      <th>prox_to_transport_2_Feedr</th>\n",
       "      <td>-34374.404874</td>\n",
       "    </tr>\n",
       "    <tr>\n",
       "      <th>bldg_type_Twnhs</th>\n",
       "      <td>-32642.175126</td>\n",
       "    </tr>\n",
       "    <tr>\n",
       "      <th>home_functionality_Sal</th>\n",
       "      <td>-28995.012306</td>\n",
       "    </tr>\n",
       "    <tr>\n",
       "      <th>...</th>\n",
       "      <td>...</td>\n",
       "    </tr>\n",
       "    <tr>\n",
       "      <th>dwelling_type_45</th>\n",
       "      <td>27582.344701</td>\n",
       "    </tr>\n",
       "    <tr>\n",
       "      <th>ames_neighborhood_NridgHt</th>\n",
       "      <td>29207.324498</td>\n",
       "    </tr>\n",
       "    <tr>\n",
       "      <th>ames_neighborhood_Greens</th>\n",
       "      <td>31197.922074</td>\n",
       "    </tr>\n",
       "    <tr>\n",
       "      <th>sale_type_Oth</th>\n",
       "      <td>35311.898233</td>\n",
       "    </tr>\n",
       "    <tr>\n",
       "      <th>street_surface_1</th>\n",
       "      <td>39320.295613</td>\n",
       "    </tr>\n",
       "  </tbody>\n",
       "</table>\n",
       "<p>206 rows × 1 columns</p>\n",
       "</div>"
      ],
      "text/plain": [
       "                           Coefficients\n",
       "roof_style_Mansard        -42940.885806\n",
       "prox_to_transport_RRNn    -38250.444315\n",
       "prox_to_transport_2_Feedr -34374.404874\n",
       "bldg_type_Twnhs           -32642.175126\n",
       "home_functionality_Sal    -28995.012306\n",
       "...                                 ...\n",
       "dwelling_type_45           27582.344701\n",
       "ames_neighborhood_NridgHt  29207.324498\n",
       "ames_neighborhood_Greens   31197.922074\n",
       "sale_type_Oth              35311.898233\n",
       "street_surface_1           39320.295613\n",
       "\n",
       "[206 rows x 1 columns]"
      ]
     },
     "execution_count": 246,
     "metadata": {},
     "output_type": "execute_result"
    }
   ],
   "source": [
    "coef_df = pd.DataFrame(lr.coef_, index = X.columns, columns = ['Coefficients'])\n",
    "coef_df.sort_values(by = 'Coefficients', ascending = True)"
   ]
  },
  {
   "cell_type": "markdown",
   "id": "6b13ee3a-35ab-4437-9fbb-edc6ff092dc8",
   "metadata": {},
   "source": [
    "## **Regularization**"
   ]
  },
  {
   "cell_type": "markdown",
   "id": "0245dc6b-42a1-42f0-8ff2-1ae260872f1d",
   "metadata": {},
   "source": [
    "#### Model 8: Ridge Regression"
   ]
  },
  {
   "cell_type": "code",
   "execution_count": 247,
   "id": "39272c41-54b3-4fe6-af74-d27213e895b7",
   "metadata": {},
   "outputs": [],
   "source": [
    "features = [col for col in test._get_numeric_data().columns if col != 'SalePrice' and test[col].isnull().sum() == 0 and col not in ['zoning_type_I (all)',\n",
    "            'util_avail_NoSewr', 'ames_neighborhood_BrDale', 'prox_to_transport_2_PosA', 'floors_2.5Fin', 'roof_material_Metal', 'roof_material_Roll',\n",
    "            'roof_material_WdShngl', 'ext_covering_AsphShn', 'ext_covering_PreCast', 'ext_covering2_Other', 'ext_covering2_PreCast', 'masonry_veneer_type_CBlock',\n",
    "            'masonry_veneer_type_nan', 'foundation_type_Slab', 'basement_finished_rating_nan', 'basement_finished_rating2_nan', 'heating_type_GasA',\n",
    "            'full_bathrooms_above_ground_4', 'kitchens_above_ground_1', 'garage_finished_nan', 'garage_car_capacity_1', 'sale_type_VWD', 'basement_space','finished_space']]      \n",
    "\n",
    "X = train[features]\n",
    "y = train['SalePrice']\n",
    "\n",
    "#Create train/test splits\n",
    "X_train, X_test, y_train, y_test = train_test_split(X, y, random_state=42)"
   ]
  },
  {
   "cell_type": "code",
   "execution_count": 248,
   "id": "51070afe-ab2b-4a03-ba94-ee62ecae14ca",
   "metadata": {},
   "outputs": [
    {
     "name": "stdout",
     "output_type": "stream",
     "text": [
      "Z_train shape is: (954, 206)\n",
      "y_train shape is: (954,)\n",
      "Z_test shape is: (318, 206)\n",
      "y_test shape is: (318,)\n"
     ]
    }
   ],
   "source": [
    "# Scale the data\n",
    "sc = StandardScaler()\n",
    "Z_train = sc.fit_transform(X_train)\n",
    "Z_test = sc.transform(X_test)\n",
    "\n",
    "print(f'Z_train shape is: {Z_train.shape}')\n",
    "print(f'y_train shape is: {y_train.shape}')\n",
    "print(f'Z_test shape is: {Z_test.shape}')\n",
    "print(f'y_test shape is: {y_test.shape}')"
   ]
  },
  {
   "cell_type": "code",
   "execution_count": 249,
   "id": "a45903fa-0654-4873-b710-2f875b015802",
   "metadata": {},
   "outputs": [
    {
     "name": "stdout",
     "output_type": "stream",
     "text": [
      "Training score: 0.9387715328302264\n",
      "Test score: 0.8980439614526846\n"
     ]
    }
   ],
   "source": [
    "ridge = Ridge()\n",
    "ridge.fit(Z_train, y_train)\n",
    "\n",
    "print(f'Training score: {ridge.score(Z_train, y_train)}')\n",
    "print(f'Test score: {ridge.score(Z_test, y_test)}')"
   ]
  },
  {
   "cell_type": "code",
   "execution_count": 250,
   "id": "7ca5afb6-8560-4c54-993d-047d86c4d7b3",
   "metadata": {},
   "outputs": [
    {
     "data": {
      "text/plain": [
       "132.19411484660287"
      ]
     },
     "execution_count": 250,
     "metadata": {},
     "output_type": "execute_result"
    }
   ],
   "source": [
    "# This code was adapted from Lesson 4.03 on Regularization\n",
    "# fitting model using best ridge alpha\n",
    "alphas = np.logspace(0, 5, 100)\n",
    "\n",
    "ridge_cv = RidgeCV(alphas = alphas, cv = 5)\n",
    "ridge_cv.fit(Z_train, y_train)\n",
    "\n",
    "ridge_cv.alpha_"
   ]
  },
  {
   "cell_type": "code",
   "execution_count": 251,
   "id": "61644400-2e1d-4678-b524-67ffb0268866",
   "metadata": {},
   "outputs": [
    {
     "name": "stdout",
     "output_type": "stream",
     "text": [
      "Best Ridge Training score: 0.932705598680567\n",
      "Best Ridge Test score: 0.9070064043369908\n"
     ]
    }
   ],
   "source": [
    "print(f'Best Ridge Training score: {ridge_cv.score(Z_train, y_train)}')\n",
    "print(f'Best Ridge Test score: {ridge_cv.score(Z_test, y_test)}')"
   ]
  },
  {
   "cell_type": "code",
   "execution_count": 252,
   "id": "027b8d40-fa28-4eae-83d5-b56918557bc7",
   "metadata": {},
   "outputs": [
    {
     "data": {
      "text/plain": [
       "15935.981862312023"
      ]
     },
     "execution_count": 252,
     "metadata": {},
     "output_type": "execute_result"
    }
   ],
   "source": [
    "preds = ridge_cv.predict(Z_test)\n",
    "rmse = np.sqrt(metrics.mean_squared_error(y_test, preds))\n",
    "rmse"
   ]
  },
  {
   "cell_type": "code",
   "execution_count": 253,
   "id": "09186bde-67ce-42bc-89a8-7daa8140f2b4",
   "metadata": {},
   "outputs": [
    {
     "data": {
      "text/plain": [
       "(878, 1)"
      ]
     },
     "execution_count": 253,
     "metadata": {},
     "output_type": "execute_result"
    }
   ],
   "source": [
    "# add sale price prediction column to test df for kaggle submission\n",
    "#ss = StandardScaler()\n",
    "sc = StandardScaler()\n",
    "Z_test2 = sc.fit_transform(test[features])\n",
    "\n",
    "preds = ridge_cv.predict(Z_test2) #ss.fit_transform(test[features]))\n",
    "test['SalePrice'] = preds\n",
    "\n",
    "ridge_df = test[['Id', 'SalePrice']]\n",
    "ridge_df.set_index('Id', inplace = True)\n",
    "\n",
    "ridge_df.to_csv('../data/ridge_model.csv')\n",
    "ridge_df.shape"
   ]
  },
  {
   "cell_type": "markdown",
   "id": "573e9247-79a9-422d-abdf-be8a2d89eb7b",
   "metadata": {},
   "source": [
    "#### Lasso Regression"
   ]
  },
  {
   "cell_type": "code",
   "execution_count": 254,
   "id": "687b042c-edb4-40ab-918c-163ef7c11018",
   "metadata": {
    "tags": []
   },
   "outputs": [
    {
     "name": "stderr",
     "output_type": "stream",
     "text": [
      "/Users/petermurphy/opt/anaconda3/envs/dsi/lib/python3.9/site-packages/sklearn/linear_model/_coordinate_descent.py:633: ConvergenceWarning: Objective did not converge. You might want to increase the number of iterations. Duality gap: 8319439886.139755, tolerance: 206444561.6309248\n",
      "  model = cd_fast.enet_coordinate_descent_gram(\n",
      "/Users/petermurphy/opt/anaconda3/envs/dsi/lib/python3.9/site-packages/sklearn/linear_model/_coordinate_descent.py:633: ConvergenceWarning: Objective did not converge. You might want to increase the number of iterations. Duality gap: 8258570538.225449, tolerance: 206444561.6309248\n",
      "  model = cd_fast.enet_coordinate_descent_gram(\n",
      "/Users/petermurphy/opt/anaconda3/envs/dsi/lib/python3.9/site-packages/sklearn/linear_model/_coordinate_descent.py:633: ConvergenceWarning: Objective did not converge. You might want to increase the number of iterations. Duality gap: 8248773964.439148, tolerance: 206444561.6309248\n",
      "  model = cd_fast.enet_coordinate_descent_gram(\n",
      "/Users/petermurphy/opt/anaconda3/envs/dsi/lib/python3.9/site-packages/sklearn/linear_model/_coordinate_descent.py:633: ConvergenceWarning: Objective did not converge. You might want to increase the number of iterations. Duality gap: 8241485285.597565, tolerance: 206444561.6309248\n",
      "  model = cd_fast.enet_coordinate_descent_gram(\n",
      "/Users/petermurphy/opt/anaconda3/envs/dsi/lib/python3.9/site-packages/sklearn/linear_model/_coordinate_descent.py:633: ConvergenceWarning: Objective did not converge. You might want to increase the number of iterations. Duality gap: 8234713886.168182, tolerance: 206444561.6309248\n",
      "  model = cd_fast.enet_coordinate_descent_gram(\n",
      "/Users/petermurphy/opt/anaconda3/envs/dsi/lib/python3.9/site-packages/sklearn/linear_model/_coordinate_descent.py:633: ConvergenceWarning: Objective did not converge. You might want to increase the number of iterations. Duality gap: 7157127390.809708, tolerance: 206444561.6309248\n",
      "  model = cd_fast.enet_coordinate_descent_gram(\n",
      "/Users/petermurphy/opt/anaconda3/envs/dsi/lib/python3.9/site-packages/sklearn/linear_model/_coordinate_descent.py:633: ConvergenceWarning: Objective did not converge. You might want to increase the number of iterations. Duality gap: 7151909492.668549, tolerance: 206444561.6309248\n",
      "  model = cd_fast.enet_coordinate_descent_gram(\n",
      "/Users/petermurphy/opt/anaconda3/envs/dsi/lib/python3.9/site-packages/sklearn/linear_model/_coordinate_descent.py:633: ConvergenceWarning: Objective did not converge. You might want to increase the number of iterations. Duality gap: 7147098175.4831085, tolerance: 206444561.6309248\n",
      "  model = cd_fast.enet_coordinate_descent_gram(\n",
      "/Users/petermurphy/opt/anaconda3/envs/dsi/lib/python3.9/site-packages/sklearn/linear_model/_coordinate_descent.py:633: ConvergenceWarning: Objective did not converge. You might want to increase the number of iterations. Duality gap: 14156207759.623108, tolerance: 210201203.11808527\n",
      "  model = cd_fast.enet_coordinate_descent_gram(\n",
      "/Users/petermurphy/opt/anaconda3/envs/dsi/lib/python3.9/site-packages/sklearn/linear_model/_coordinate_descent.py:633: ConvergenceWarning: Objective did not converge. You might want to increase the number of iterations. Duality gap: 7522266427.673096, tolerance: 210201203.11808527\n",
      "  model = cd_fast.enet_coordinate_descent_gram(\n",
      "/Users/petermurphy/opt/anaconda3/envs/dsi/lib/python3.9/site-packages/sklearn/linear_model/_coordinate_descent.py:633: ConvergenceWarning: Objective did not converge. You might want to increase the number of iterations. Duality gap: 7564434557.876129, tolerance: 210201203.11808527\n",
      "  model = cd_fast.enet_coordinate_descent_gram(\n",
      "/Users/petermurphy/opt/anaconda3/envs/dsi/lib/python3.9/site-packages/sklearn/linear_model/_coordinate_descent.py:633: ConvergenceWarning: Objective did not converge. You might want to increase the number of iterations. Duality gap: 7556154708.064117, tolerance: 210201203.11808527\n",
      "  model = cd_fast.enet_coordinate_descent_gram(\n",
      "/Users/petermurphy/opt/anaconda3/envs/dsi/lib/python3.9/site-packages/sklearn/linear_model/_coordinate_descent.py:633: ConvergenceWarning: Objective did not converge. You might want to increase the number of iterations. Duality gap: 7548670603.62886, tolerance: 210201203.11808527\n",
      "  model = cd_fast.enet_coordinate_descent_gram(\n",
      "/Users/petermurphy/opt/anaconda3/envs/dsi/lib/python3.9/site-packages/sklearn/linear_model/_coordinate_descent.py:633: ConvergenceWarning: Objective did not converge. You might want to increase the number of iterations. Duality gap: 7541775935.841034, tolerance: 210201203.11808527\n",
      "  model = cd_fast.enet_coordinate_descent_gram(\n",
      "/Users/petermurphy/opt/anaconda3/envs/dsi/lib/python3.9/site-packages/sklearn/linear_model/_coordinate_descent.py:633: ConvergenceWarning: Objective did not converge. You might want to increase the number of iterations. Duality gap: 7535421357.606598, tolerance: 210201203.11808527\n",
      "  model = cd_fast.enet_coordinate_descent_gram(\n",
      "/Users/petermurphy/opt/anaconda3/envs/dsi/lib/python3.9/site-packages/sklearn/linear_model/_coordinate_descent.py:633: ConvergenceWarning: Objective did not converge. You might want to increase the number of iterations. Duality gap: 7529560175.314682, tolerance: 210201203.11808527\n",
      "  model = cd_fast.enet_coordinate_descent_gram(\n",
      "/Users/petermurphy/opt/anaconda3/envs/dsi/lib/python3.9/site-packages/sklearn/linear_model/_coordinate_descent.py:633: ConvergenceWarning: Objective did not converge. You might want to increase the number of iterations. Duality gap: 8725328032.10588, tolerance: 212351996.119271\n",
      "  model = cd_fast.enet_coordinate_descent_gram(\n",
      "/Users/petermurphy/opt/anaconda3/envs/dsi/lib/python3.9/site-packages/sklearn/linear_model/_coordinate_descent.py:633: ConvergenceWarning: Objective did not converge. You might want to increase the number of iterations. Duality gap: 8671997210.779587, tolerance: 212351996.119271\n",
      "  model = cd_fast.enet_coordinate_descent_gram(\n",
      "/Users/petermurphy/opt/anaconda3/envs/dsi/lib/python3.9/site-packages/sklearn/linear_model/_coordinate_descent.py:633: ConvergenceWarning: Objective did not converge. You might want to increase the number of iterations. Duality gap: 8721804887.172623, tolerance: 212351996.119271\n",
      "  model = cd_fast.enet_coordinate_descent_gram(\n",
      "/Users/petermurphy/opt/anaconda3/envs/dsi/lib/python3.9/site-packages/sklearn/linear_model/_coordinate_descent.py:633: ConvergenceWarning: Objective did not converge. You might want to increase the number of iterations. Duality gap: 8715809093.648666, tolerance: 212351996.119271\n",
      "  model = cd_fast.enet_coordinate_descent_gram(\n",
      "/Users/petermurphy/opt/anaconda3/envs/dsi/lib/python3.9/site-packages/sklearn/linear_model/_coordinate_descent.py:633: ConvergenceWarning: Objective did not converge. You might want to increase the number of iterations. Duality gap: 8709059286.282288, tolerance: 212351996.119271\n",
      "  model = cd_fast.enet_coordinate_descent_gram(\n",
      "/Users/petermurphy/opt/anaconda3/envs/dsi/lib/python3.9/site-packages/sklearn/linear_model/_coordinate_descent.py:633: ConvergenceWarning: Objective did not converge. You might want to increase the number of iterations. Duality gap: 8702471000.363647, tolerance: 212351996.119271\n",
      "  model = cd_fast.enet_coordinate_descent_gram(\n",
      "/Users/petermurphy/opt/anaconda3/envs/dsi/lib/python3.9/site-packages/sklearn/linear_model/_coordinate_descent.py:633: ConvergenceWarning: Objective did not converge. You might want to increase the number of iterations. Duality gap: 8707778919.894806, tolerance: 212351996.119271\n",
      "  model = cd_fast.enet_coordinate_descent_gram(\n",
      "/Users/petermurphy/opt/anaconda3/envs/dsi/lib/python3.9/site-packages/sklearn/linear_model/_coordinate_descent.py:633: ConvergenceWarning: Objective did not converge. You might want to increase the number of iterations. Duality gap: 475737607.2491455, tolerance: 212351996.119271\n",
      "  model = cd_fast.enet_coordinate_descent_gram(\n",
      "/Users/petermurphy/opt/anaconda3/envs/dsi/lib/python3.9/site-packages/sklearn/linear_model/_coordinate_descent.py:633: ConvergenceWarning: Objective did not converge. You might want to increase the number of iterations. Duality gap: 475442895.5161133, tolerance: 212351996.119271\n",
      "  model = cd_fast.enet_coordinate_descent_gram(\n",
      "/Users/petermurphy/opt/anaconda3/envs/dsi/lib/python3.9/site-packages/sklearn/linear_model/_coordinate_descent.py:633: ConvergenceWarning: Objective did not converge. You might want to increase the number of iterations. Duality gap: 474490361.76571655, tolerance: 212351996.119271\n",
      "  model = cd_fast.enet_coordinate_descent_gram(\n",
      "/Users/petermurphy/opt/anaconda3/envs/dsi/lib/python3.9/site-packages/sklearn/linear_model/_coordinate_descent.py:633: ConvergenceWarning: Objective did not converge. You might want to increase the number of iterations. Duality gap: 473593275.56881714, tolerance: 212351996.119271\n",
      "  model = cd_fast.enet_coordinate_descent_gram(\n",
      "/Users/petermurphy/opt/anaconda3/envs/dsi/lib/python3.9/site-packages/sklearn/linear_model/_coordinate_descent.py:633: ConvergenceWarning: Objective did not converge. You might want to increase the number of iterations. Duality gap: 472755253.4700012, tolerance: 212351996.119271\n",
      "  model = cd_fast.enet_coordinate_descent_gram(\n",
      "/Users/petermurphy/opt/anaconda3/envs/dsi/lib/python3.9/site-packages/sklearn/linear_model/_coordinate_descent.py:633: ConvergenceWarning: Objective did not converge. You might want to increase the number of iterations. Duality gap: 471972573.1460571, tolerance: 212351996.119271\n",
      "  model = cd_fast.enet_coordinate_descent_gram(\n",
      "/Users/petermurphy/opt/anaconda3/envs/dsi/lib/python3.9/site-packages/sklearn/linear_model/_coordinate_descent.py:633: ConvergenceWarning: Objective did not converge. You might want to increase the number of iterations. Duality gap: 471241701.352829, tolerance: 212351996.119271\n",
      "  model = cd_fast.enet_coordinate_descent_gram(\n",
      "/Users/petermurphy/opt/anaconda3/envs/dsi/lib/python3.9/site-packages/sklearn/linear_model/_coordinate_descent.py:633: ConvergenceWarning: Objective did not converge. You might want to increase the number of iterations. Duality gap: 470559231.7077484, tolerance: 212351996.119271\n",
      "  model = cd_fast.enet_coordinate_descent_gram(\n",
      "/Users/petermurphy/opt/anaconda3/envs/dsi/lib/python3.9/site-packages/sklearn/linear_model/_coordinate_descent.py:633: ConvergenceWarning: Objective did not converge. You might want to increase the number of iterations. Duality gap: 469922049.01156616, tolerance: 212351996.119271\n",
      "  model = cd_fast.enet_coordinate_descent_gram(\n",
      "/Users/petermurphy/opt/anaconda3/envs/dsi/lib/python3.9/site-packages/sklearn/linear_model/_coordinate_descent.py:633: ConvergenceWarning: Objective did not converge. You might want to increase the number of iterations. Duality gap: 469327155.47128296, tolerance: 212351996.119271\n",
      "  model = cd_fast.enet_coordinate_descent_gram(\n",
      "/Users/petermurphy/opt/anaconda3/envs/dsi/lib/python3.9/site-packages/sklearn/linear_model/_coordinate_descent.py:633: ConvergenceWarning: Objective did not converge. You might want to increase the number of iterations. Duality gap: 468771804.1140137, tolerance: 212351996.119271\n",
      "  model = cd_fast.enet_coordinate_descent_gram(\n",
      "/Users/petermurphy/opt/anaconda3/envs/dsi/lib/python3.9/site-packages/sklearn/linear_model/_coordinate_descent.py:633: ConvergenceWarning: Objective did not converge. You might want to increase the number of iterations. Duality gap: 468253413.8233032, tolerance: 212351996.119271\n",
      "  model = cd_fast.enet_coordinate_descent_gram(\n",
      "/Users/petermurphy/opt/anaconda3/envs/dsi/lib/python3.9/site-packages/sklearn/linear_model/_coordinate_descent.py:633: ConvergenceWarning: Objective did not converge. You might want to increase the number of iterations. Duality gap: 467769536.7116089, tolerance: 212351996.119271\n",
      "  model = cd_fast.enet_coordinate_descent_gram(\n",
      "/Users/petermurphy/opt/anaconda3/envs/dsi/lib/python3.9/site-packages/sklearn/linear_model/_coordinate_descent.py:633: ConvergenceWarning: Objective did not converge. You might want to increase the number of iterations. Duality gap: 467317902.10572815, tolerance: 212351996.119271\n",
      "  model = cd_fast.enet_coordinate_descent_gram(\n",
      "/Users/petermurphy/opt/anaconda3/envs/dsi/lib/python3.9/site-packages/sklearn/linear_model/_coordinate_descent.py:633: ConvergenceWarning: Objective did not converge. You might want to increase the number of iterations. Duality gap: 466896401.1362915, tolerance: 212351996.119271\n",
      "  model = cd_fast.enet_coordinate_descent_gram(\n",
      "/Users/petermurphy/opt/anaconda3/envs/dsi/lib/python3.9/site-packages/sklearn/linear_model/_coordinate_descent.py:633: ConvergenceWarning: Objective did not converge. You might want to increase the number of iterations. Duality gap: 466503027.97024536, tolerance: 212351996.119271\n",
      "  model = cd_fast.enet_coordinate_descent_gram(\n",
      "/Users/petermurphy/opt/anaconda3/envs/dsi/lib/python3.9/site-packages/sklearn/linear_model/_coordinate_descent.py:633: ConvergenceWarning: Objective did not converge. You might want to increase the number of iterations. Duality gap: 466135961.0185089, tolerance: 212351996.119271\n",
      "  model = cd_fast.enet_coordinate_descent_gram(\n",
      "/Users/petermurphy/opt/anaconda3/envs/dsi/lib/python3.9/site-packages/sklearn/linear_model/_coordinate_descent.py:633: ConvergenceWarning: Objective did not converge. You might want to increase the number of iterations. Duality gap: 465793361.28616333, tolerance: 212351996.119271\n",
      "  model = cd_fast.enet_coordinate_descent_gram(\n",
      "/Users/petermurphy/opt/anaconda3/envs/dsi/lib/python3.9/site-packages/sklearn/linear_model/_coordinate_descent.py:633: ConvergenceWarning: Objective did not converge. You might want to increase the number of iterations. Duality gap: 465473689.40190125, tolerance: 212351996.119271\n",
      "  model = cd_fast.enet_coordinate_descent_gram(\n",
      "/Users/petermurphy/opt/anaconda3/envs/dsi/lib/python3.9/site-packages/sklearn/linear_model/_coordinate_descent.py:633: ConvergenceWarning: Objective did not converge. You might want to increase the number of iterations. Duality gap: 465175440.45848083, tolerance: 212351996.119271\n",
      "  model = cd_fast.enet_coordinate_descent_gram(\n",
      "/Users/petermurphy/opt/anaconda3/envs/dsi/lib/python3.9/site-packages/sklearn/linear_model/_coordinate_descent.py:633: ConvergenceWarning: Objective did not converge. You might want to increase the number of iterations. Duality gap: 464897116.4543152, tolerance: 212351996.119271\n",
      "  model = cd_fast.enet_coordinate_descent_gram(\n",
      "/Users/petermurphy/opt/anaconda3/envs/dsi/lib/python3.9/site-packages/sklearn/linear_model/_coordinate_descent.py:633: ConvergenceWarning: Objective did not converge. You might want to increase the number of iterations. Duality gap: 464637467.197052, tolerance: 212351996.119271\n",
      "  model = cd_fast.enet_coordinate_descent_gram(\n",
      "/Users/petermurphy/opt/anaconda3/envs/dsi/lib/python3.9/site-packages/sklearn/linear_model/_coordinate_descent.py:633: ConvergenceWarning: Objective did not converge. You might want to increase the number of iterations. Duality gap: 464395168.02545166, tolerance: 212351996.119271\n",
      "  model = cd_fast.enet_coordinate_descent_gram(\n",
      "/Users/petermurphy/opt/anaconda3/envs/dsi/lib/python3.9/site-packages/sklearn/linear_model/_coordinate_descent.py:633: ConvergenceWarning: Objective did not converge. You might want to increase the number of iterations. Duality gap: 464169120.14260864, tolerance: 212351996.119271\n",
      "  model = cd_fast.enet_coordinate_descent_gram(\n",
      "/Users/petermurphy/opt/anaconda3/envs/dsi/lib/python3.9/site-packages/sklearn/linear_model/_coordinate_descent.py:633: ConvergenceWarning: Objective did not converge. You might want to increase the number of iterations. Duality gap: 463958243.8677063, tolerance: 212351996.119271\n",
      "  model = cd_fast.enet_coordinate_descent_gram(\n",
      "/Users/petermurphy/opt/anaconda3/envs/dsi/lib/python3.9/site-packages/sklearn/linear_model/_coordinate_descent.py:633: ConvergenceWarning: Objective did not converge. You might want to increase the number of iterations. Duality gap: 463761558.2991333, tolerance: 212351996.119271\n",
      "  model = cd_fast.enet_coordinate_descent_gram(\n",
      "/Users/petermurphy/opt/anaconda3/envs/dsi/lib/python3.9/site-packages/sklearn/linear_model/_coordinate_descent.py:633: ConvergenceWarning: Objective did not converge. You might want to increase the number of iterations. Duality gap: 463577983.0981598, tolerance: 212351996.119271\n",
      "  model = cd_fast.enet_coordinate_descent_gram(\n",
      "/Users/petermurphy/opt/anaconda3/envs/dsi/lib/python3.9/site-packages/sklearn/linear_model/_coordinate_descent.py:633: ConvergenceWarning: Objective did not converge. You might want to increase the number of iterations. Duality gap: 462830803.1018982, tolerance: 212351996.119271\n",
      "  model = cd_fast.enet_coordinate_descent_gram(\n",
      "/Users/petermurphy/opt/anaconda3/envs/dsi/lib/python3.9/site-packages/sklearn/linear_model/_coordinate_descent.py:633: ConvergenceWarning: Objective did not converge. You might want to increase the number of iterations. Duality gap: 463098536.006073, tolerance: 212351996.119271\n",
      "  model = cd_fast.enet_coordinate_descent_gram(\n",
      "/Users/petermurphy/opt/anaconda3/envs/dsi/lib/python3.9/site-packages/sklearn/linear_model/_coordinate_descent.py:633: ConvergenceWarning: Objective did not converge. You might want to increase the number of iterations. Duality gap: 462951297.86006165, tolerance: 212351996.119271\n",
      "  model = cd_fast.enet_coordinate_descent_gram(\n",
      "/Users/petermurphy/opt/anaconda3/envs/dsi/lib/python3.9/site-packages/sklearn/linear_model/_coordinate_descent.py:633: ConvergenceWarning: Objective did not converge. You might want to increase the number of iterations. Duality gap: 462931927.25756836, tolerance: 212351996.119271\n",
      "  model = cd_fast.enet_coordinate_descent_gram(\n",
      "/Users/petermurphy/opt/anaconda3/envs/dsi/lib/python3.9/site-packages/sklearn/linear_model/_coordinate_descent.py:633: ConvergenceWarning: Objective did not converge. You might want to increase the number of iterations. Duality gap: 462843290.84259033, tolerance: 212351996.119271\n",
      "  model = cd_fast.enet_coordinate_descent_gram(\n",
      "/Users/petermurphy/opt/anaconda3/envs/dsi/lib/python3.9/site-packages/sklearn/linear_model/_coordinate_descent.py:633: ConvergenceWarning: Objective did not converge. You might want to increase the number of iterations. Duality gap: 462722405.5586853, tolerance: 212351996.119271\n",
      "  model = cd_fast.enet_coordinate_descent_gram(\n",
      "/Users/petermurphy/opt/anaconda3/envs/dsi/lib/python3.9/site-packages/sklearn/linear_model/_coordinate_descent.py:633: ConvergenceWarning: Objective did not converge. You might want to increase the number of iterations. Duality gap: 462609788.43167114, tolerance: 212351996.119271\n",
      "  model = cd_fast.enet_coordinate_descent_gram(\n",
      "/Users/petermurphy/opt/anaconda3/envs/dsi/lib/python3.9/site-packages/sklearn/linear_model/_coordinate_descent.py:633: ConvergenceWarning: Objective did not converge. You might want to increase the number of iterations. Duality gap: 462504636.8840332, tolerance: 212351996.119271\n",
      "  model = cd_fast.enet_coordinate_descent_gram(\n",
      "/Users/petermurphy/opt/anaconda3/envs/dsi/lib/python3.9/site-packages/sklearn/linear_model/_coordinate_descent.py:633: ConvergenceWarning: Objective did not converge. You might want to increase the number of iterations. Duality gap: 462406647.89663696, tolerance: 212351996.119271\n",
      "  model = cd_fast.enet_coordinate_descent_gram(\n",
      "/Users/petermurphy/opt/anaconda3/envs/dsi/lib/python3.9/site-packages/sklearn/linear_model/_coordinate_descent.py:633: ConvergenceWarning: Objective did not converge. You might want to increase the number of iterations. Duality gap: 462315332.95469666, tolerance: 212351996.119271\n",
      "  model = cd_fast.enet_coordinate_descent_gram(\n",
      "/Users/petermurphy/opt/anaconda3/envs/dsi/lib/python3.9/site-packages/sklearn/linear_model/_coordinate_descent.py:633: ConvergenceWarning: Objective did not converge. You might want to increase the number of iterations. Duality gap: 462230035.64730835, tolerance: 212351996.119271\n",
      "  model = cd_fast.enet_coordinate_descent_gram(\n",
      "/Users/petermurphy/opt/anaconda3/envs/dsi/lib/python3.9/site-packages/sklearn/linear_model/_coordinate_descent.py:633: ConvergenceWarning: Objective did not converge. You might want to increase the number of iterations. Duality gap: 462150376.256073, tolerance: 212351996.119271\n",
      "  model = cd_fast.enet_coordinate_descent_gram(\n",
      "/Users/petermurphy/opt/anaconda3/envs/dsi/lib/python3.9/site-packages/sklearn/linear_model/_coordinate_descent.py:633: ConvergenceWarning: Objective did not converge. You might want to increase the number of iterations. Duality gap: 462076145.71092224, tolerance: 212351996.119271\n",
      "  model = cd_fast.enet_coordinate_descent_gram(\n",
      "/Users/petermurphy/opt/anaconda3/envs/dsi/lib/python3.9/site-packages/sklearn/linear_model/_coordinate_descent.py:633: ConvergenceWarning: Objective did not converge. You might want to increase the number of iterations. Duality gap: 462007004.87875366, tolerance: 212351996.119271\n",
      "  model = cd_fast.enet_coordinate_descent_gram(\n",
      "/Users/petermurphy/opt/anaconda3/envs/dsi/lib/python3.9/site-packages/sklearn/linear_model/_coordinate_descent.py:633: ConvergenceWarning: Objective did not converge. You might want to increase the number of iterations. Duality gap: 461942423.96206665, tolerance: 212351996.119271\n",
      "  model = cd_fast.enet_coordinate_descent_gram(\n",
      "/Users/petermurphy/opt/anaconda3/envs/dsi/lib/python3.9/site-packages/sklearn/linear_model/_coordinate_descent.py:633: ConvergenceWarning: Objective did not converge. You might want to increase the number of iterations. Duality gap: 461882256.5267639, tolerance: 212351996.119271\n",
      "  model = cd_fast.enet_coordinate_descent_gram(\n",
      "/Users/petermurphy/opt/anaconda3/envs/dsi/lib/python3.9/site-packages/sklearn/linear_model/_coordinate_descent.py:633: ConvergenceWarning: Objective did not converge. You might want to increase the number of iterations. Duality gap: 461826110.8189697, tolerance: 212351996.119271\n",
      "  model = cd_fast.enet_coordinate_descent_gram(\n",
      "/Users/petermurphy/opt/anaconda3/envs/dsi/lib/python3.9/site-packages/sklearn/linear_model/_coordinate_descent.py:633: ConvergenceWarning: Objective did not converge. You might want to increase the number of iterations. Duality gap: 461773841.4407654, tolerance: 212351996.119271\n",
      "  model = cd_fast.enet_coordinate_descent_gram(\n",
      "/Users/petermurphy/opt/anaconda3/envs/dsi/lib/python3.9/site-packages/sklearn/linear_model/_coordinate_descent.py:633: ConvergenceWarning: Objective did not converge. You might want to increase the number of iterations. Duality gap: 461724628.89881897, tolerance: 212351996.119271\n",
      "  model = cd_fast.enet_coordinate_descent_gram(\n",
      "/Users/petermurphy/opt/anaconda3/envs/dsi/lib/python3.9/site-packages/sklearn/linear_model/_coordinate_descent.py:633: ConvergenceWarning: Objective did not converge. You might want to increase the number of iterations. Duality gap: 461679429.57551575, tolerance: 212351996.119271\n",
      "  model = cd_fast.enet_coordinate_descent_gram(\n",
      "/Users/petermurphy/opt/anaconda3/envs/dsi/lib/python3.9/site-packages/sklearn/linear_model/_coordinate_descent.py:633: ConvergenceWarning: Objective did not converge. You might want to increase the number of iterations. Duality gap: 461636601.11279297, tolerance: 212351996.119271\n",
      "  model = cd_fast.enet_coordinate_descent_gram(\n",
      "/Users/petermurphy/opt/anaconda3/envs/dsi/lib/python3.9/site-packages/sklearn/linear_model/_coordinate_descent.py:633: ConvergenceWarning: Objective did not converge. You might want to increase the number of iterations. Duality gap: 461597160.85287476, tolerance: 212351996.119271\n",
      "  model = cd_fast.enet_coordinate_descent_gram(\n",
      "/Users/petermurphy/opt/anaconda3/envs/dsi/lib/python3.9/site-packages/sklearn/linear_model/_coordinate_descent.py:633: ConvergenceWarning: Objective did not converge. You might want to increase the number of iterations. Duality gap: 461560351.911499, tolerance: 212351996.119271\n",
      "  model = cd_fast.enet_coordinate_descent_gram(\n",
      "/Users/petermurphy/opt/anaconda3/envs/dsi/lib/python3.9/site-packages/sklearn/linear_model/_coordinate_descent.py:633: ConvergenceWarning: Objective did not converge. You might want to increase the number of iterations. Duality gap: 461525537.35476685, tolerance: 212351996.119271\n",
      "  model = cd_fast.enet_coordinate_descent_gram(\n",
      "/Users/petermurphy/opt/anaconda3/envs/dsi/lib/python3.9/site-packages/sklearn/linear_model/_coordinate_descent.py:633: ConvergenceWarning: Objective did not converge. You might want to increase the number of iterations. Duality gap: 461493607.40644836, tolerance: 212351996.119271\n",
      "  model = cd_fast.enet_coordinate_descent_gram(\n",
      "/Users/petermurphy/opt/anaconda3/envs/dsi/lib/python3.9/site-packages/sklearn/linear_model/_coordinate_descent.py:633: ConvergenceWarning: Objective did not converge. You might want to increase the number of iterations. Duality gap: 461463472.59269714, tolerance: 212351996.119271\n",
      "  model = cd_fast.enet_coordinate_descent_gram(\n",
      "/Users/petermurphy/opt/anaconda3/envs/dsi/lib/python3.9/site-packages/sklearn/linear_model/_coordinate_descent.py:633: ConvergenceWarning: Objective did not converge. You might want to increase the number of iterations. Duality gap: 461435628.5539398, tolerance: 212351996.119271\n",
      "  model = cd_fast.enet_coordinate_descent_gram(\n",
      "/Users/petermurphy/opt/anaconda3/envs/dsi/lib/python3.9/site-packages/sklearn/linear_model/_coordinate_descent.py:633: ConvergenceWarning: Objective did not converge. You might want to increase the number of iterations. Duality gap: 461409362.7511902, tolerance: 212351996.119271\n",
      "  model = cd_fast.enet_coordinate_descent_gram(\n",
      "/Users/petermurphy/opt/anaconda3/envs/dsi/lib/python3.9/site-packages/sklearn/linear_model/_coordinate_descent.py:633: ConvergenceWarning: Objective did not converge. You might want to increase the number of iterations. Duality gap: 461384873.1385803, tolerance: 212351996.119271\n",
      "  model = cd_fast.enet_coordinate_descent_gram(\n",
      "/Users/petermurphy/opt/anaconda3/envs/dsi/lib/python3.9/site-packages/sklearn/linear_model/_coordinate_descent.py:633: ConvergenceWarning: Objective did not converge. You might want to increase the number of iterations. Duality gap: 461362358.19584656, tolerance: 212351996.119271\n",
      "  model = cd_fast.enet_coordinate_descent_gram(\n",
      "/Users/petermurphy/opt/anaconda3/envs/dsi/lib/python3.9/site-packages/sklearn/linear_model/_coordinate_descent.py:633: ConvergenceWarning: Objective did not converge. You might want to increase the number of iterations. Duality gap: 461341304.5189514, tolerance: 212351996.119271\n",
      "  model = cd_fast.enet_coordinate_descent_gram(\n",
      "/Users/petermurphy/opt/anaconda3/envs/dsi/lib/python3.9/site-packages/sklearn/linear_model/_coordinate_descent.py:633: ConvergenceWarning: Objective did not converge. You might want to increase the number of iterations. Duality gap: 461321166.04003906, tolerance: 212351996.119271\n",
      "  model = cd_fast.enet_coordinate_descent_gram(\n",
      "/Users/petermurphy/opt/anaconda3/envs/dsi/lib/python3.9/site-packages/sklearn/linear_model/_coordinate_descent.py:633: ConvergenceWarning: Objective did not converge. You might want to increase the number of iterations. Duality gap: 461303362.27101135, tolerance: 212351996.119271\n",
      "  model = cd_fast.enet_coordinate_descent_gram(\n",
      "/Users/petermurphy/opt/anaconda3/envs/dsi/lib/python3.9/site-packages/sklearn/linear_model/_coordinate_descent.py:633: ConvergenceWarning: Objective did not converge. You might want to increase the number of iterations. Duality gap: 461286167.5211487, tolerance: 212351996.119271\n",
      "  model = cd_fast.enet_coordinate_descent_gram(\n",
      "/Users/petermurphy/opt/anaconda3/envs/dsi/lib/python3.9/site-packages/sklearn/linear_model/_coordinate_descent.py:633: ConvergenceWarning: Objective did not converge. You might want to increase the number of iterations. Duality gap: 461270071.15463257, tolerance: 212351996.119271\n",
      "  model = cd_fast.enet_coordinate_descent_gram(\n",
      "/Users/petermurphy/opt/anaconda3/envs/dsi/lib/python3.9/site-packages/sklearn/linear_model/_coordinate_descent.py:633: ConvergenceWarning: Objective did not converge. You might want to increase the number of iterations. Duality gap: 461254940.77015686, tolerance: 212351996.119271\n",
      "  model = cd_fast.enet_coordinate_descent_gram(\n",
      "/Users/petermurphy/opt/anaconda3/envs/dsi/lib/python3.9/site-packages/sklearn/linear_model/_coordinate_descent.py:633: ConvergenceWarning: Objective did not converge. You might want to increase the number of iterations. Duality gap: 461240796.72154236, tolerance: 212351996.119271\n",
      "  model = cd_fast.enet_coordinate_descent_gram(\n",
      "/Users/petermurphy/opt/anaconda3/envs/dsi/lib/python3.9/site-packages/sklearn/linear_model/_coordinate_descent.py:633: ConvergenceWarning: Objective did not converge. You might want to increase the number of iterations. Duality gap: 461227917.2980652, tolerance: 212351996.119271\n",
      "  model = cd_fast.enet_coordinate_descent_gram(\n",
      "/Users/petermurphy/opt/anaconda3/envs/dsi/lib/python3.9/site-packages/sklearn/linear_model/_coordinate_descent.py:633: ConvergenceWarning: Objective did not converge. You might want to increase the number of iterations. Duality gap: 461215437.13983154, tolerance: 212351996.119271\n",
      "  model = cd_fast.enet_coordinate_descent_gram(\n",
      "/Users/petermurphy/opt/anaconda3/envs/dsi/lib/python3.9/site-packages/sklearn/linear_model/_coordinate_descent.py:633: ConvergenceWarning: Objective did not converge. You might want to increase the number of iterations. Duality gap: 461204795.1026306, tolerance: 212351996.119271\n",
      "  model = cd_fast.enet_coordinate_descent_gram(\n",
      "/Users/petermurphy/opt/anaconda3/envs/dsi/lib/python3.9/site-packages/sklearn/linear_model/_coordinate_descent.py:633: ConvergenceWarning: Objective did not converge. You might want to increase the number of iterations. Duality gap: 461194850.2830658, tolerance: 212351996.119271\n",
      "  model = cd_fast.enet_coordinate_descent_gram(\n",
      "/Users/petermurphy/opt/anaconda3/envs/dsi/lib/python3.9/site-packages/sklearn/linear_model/_coordinate_descent.py:633: ConvergenceWarning: Objective did not converge. You might want to increase the number of iterations. Duality gap: 461183812.27919006, tolerance: 212351996.119271\n",
      "  model = cd_fast.enet_coordinate_descent_gram(\n",
      "/Users/petermurphy/opt/anaconda3/envs/dsi/lib/python3.9/site-packages/sklearn/linear_model/_coordinate_descent.py:633: ConvergenceWarning: Objective did not converge. You might want to increase the number of iterations. Duality gap: 461175226.9139252, tolerance: 212351996.119271\n",
      "  model = cd_fast.enet_coordinate_descent_gram(\n",
      "/Users/petermurphy/opt/anaconda3/envs/dsi/lib/python3.9/site-packages/sklearn/linear_model/_coordinate_descent.py:633: ConvergenceWarning: Objective did not converge. You might want to increase the number of iterations. Duality gap: 461167564.97280884, tolerance: 212351996.119271\n",
      "  model = cd_fast.enet_coordinate_descent_gram(\n",
      "/Users/petermurphy/opt/anaconda3/envs/dsi/lib/python3.9/site-packages/sklearn/linear_model/_coordinate_descent.py:633: ConvergenceWarning: Objective did not converge. You might want to increase the number of iterations. Duality gap: 461158428.03778076, tolerance: 212351996.119271\n",
      "  model = cd_fast.enet_coordinate_descent_gram(\n",
      "/Users/petermurphy/opt/anaconda3/envs/dsi/lib/python3.9/site-packages/sklearn/linear_model/_coordinate_descent.py:633: ConvergenceWarning: Objective did not converge. You might want to increase the number of iterations. Duality gap: 461151697.596344, tolerance: 212351996.119271\n",
      "  model = cd_fast.enet_coordinate_descent_gram(\n",
      "/Users/petermurphy/opt/anaconda3/envs/dsi/lib/python3.9/site-packages/sklearn/linear_model/_coordinate_descent.py:633: ConvergenceWarning: Objective did not converge. You might want to increase the number of iterations. Duality gap: 461145021.96162415, tolerance: 212351996.119271\n",
      "  model = cd_fast.enet_coordinate_descent_gram(\n",
      "/Users/petermurphy/opt/anaconda3/envs/dsi/lib/python3.9/site-packages/sklearn/linear_model/_coordinate_descent.py:633: ConvergenceWarning: Objective did not converge. You might want to increase the number of iterations. Duality gap: 461137570.0940094, tolerance: 212351996.119271\n",
      "  model = cd_fast.enet_coordinate_descent_gram(\n",
      "/Users/petermurphy/opt/anaconda3/envs/dsi/lib/python3.9/site-packages/sklearn/linear_model/_coordinate_descent.py:633: ConvergenceWarning: Objective did not converge. You might want to increase the number of iterations. Duality gap: 461132018.9833069, tolerance: 212351996.119271\n",
      "  model = cd_fast.enet_coordinate_descent_gram(\n",
      "/Users/petermurphy/opt/anaconda3/envs/dsi/lib/python3.9/site-packages/sklearn/linear_model/_coordinate_descent.py:633: ConvergenceWarning: Objective did not converge. You might want to increase the number of iterations. Duality gap: 461124772.17523193, tolerance: 212351996.119271\n",
      "  model = cd_fast.enet_coordinate_descent_gram(\n",
      "/Users/petermurphy/opt/anaconda3/envs/dsi/lib/python3.9/site-packages/sklearn/linear_model/_coordinate_descent.py:633: ConvergenceWarning: Objective did not converge. You might want to increase the number of iterations. Duality gap: 461120826.1810303, tolerance: 212351996.119271\n",
      "  model = cd_fast.enet_coordinate_descent_gram(\n",
      "/Users/petermurphy/opt/anaconda3/envs/dsi/lib/python3.9/site-packages/sklearn/linear_model/_coordinate_descent.py:633: ConvergenceWarning: Objective did not converge. You might want to increase the number of iterations. Duality gap: 461117129.9885559, tolerance: 212351996.119271\n",
      "  model = cd_fast.enet_coordinate_descent_gram(\n",
      "/Users/petermurphy/opt/anaconda3/envs/dsi/lib/python3.9/site-packages/sklearn/linear_model/_coordinate_descent.py:633: ConvergenceWarning: Objective did not converge. You might want to increase the number of iterations. Duality gap: 461109837.26556396, tolerance: 212351996.119271\n",
      "  model = cd_fast.enet_coordinate_descent_gram(\n",
      "/Users/petermurphy/opt/anaconda3/envs/dsi/lib/python3.9/site-packages/sklearn/linear_model/_coordinate_descent.py:633: ConvergenceWarning: Objective did not converge. You might want to increase the number of iterations. Duality gap: 461107803.55093384, tolerance: 212351996.119271\n",
      "  model = cd_fast.enet_coordinate_descent_gram(\n",
      "/Users/petermurphy/opt/anaconda3/envs/dsi/lib/python3.9/site-packages/sklearn/linear_model/_coordinate_descent.py:633: ConvergenceWarning: Objective did not converge. You might want to increase the number of iterations. Duality gap: 461104543.24057007, tolerance: 212351996.119271\n",
      "  model = cd_fast.enet_coordinate_descent_gram(\n",
      "/Users/petermurphy/opt/anaconda3/envs/dsi/lib/python3.9/site-packages/sklearn/linear_model/_coordinate_descent.py:633: ConvergenceWarning: Objective did not converge. You might want to increase the number of iterations. Duality gap: 461099161.0722656, tolerance: 212351996.119271\n",
      "  model = cd_fast.enet_coordinate_descent_gram(\n",
      "/Users/petermurphy/opt/anaconda3/envs/dsi/lib/python3.9/site-packages/sklearn/linear_model/_coordinate_descent.py:633: ConvergenceWarning: Objective did not converge. You might want to increase the number of iterations. Duality gap: 461097215.4454193, tolerance: 212351996.119271\n",
      "  model = cd_fast.enet_coordinate_descent_gram(\n",
      "/Users/petermurphy/opt/anaconda3/envs/dsi/lib/python3.9/site-packages/sklearn/linear_model/_coordinate_descent.py:633: ConvergenceWarning: Objective did not converge. You might want to increase the number of iterations. Duality gap: 461091793.9949646, tolerance: 212351996.119271\n",
      "  model = cd_fast.enet_coordinate_descent_gram(\n",
      "/Users/petermurphy/opt/anaconda3/envs/dsi/lib/python3.9/site-packages/sklearn/linear_model/_coordinate_descent.py:633: ConvergenceWarning: Objective did not converge. You might want to increase the number of iterations. Duality gap: 461090588.5965729, tolerance: 212351996.119271\n",
      "  model = cd_fast.enet_coordinate_descent_gram(\n",
      "/Users/petermurphy/opt/anaconda3/envs/dsi/lib/python3.9/site-packages/sklearn/linear_model/_coordinate_descent.py:633: ConvergenceWarning: Objective did not converge. You might want to increase the number of iterations. Duality gap: 461084597.60095215, tolerance: 212351996.119271\n",
      "  model = cd_fast.enet_coordinate_descent_gram(\n",
      "/Users/petermurphy/opt/anaconda3/envs/dsi/lib/python3.9/site-packages/sklearn/linear_model/_coordinate_descent.py:633: ConvergenceWarning: Objective did not converge. You might want to increase the number of iterations. Duality gap: 461083877.78656006, tolerance: 212351996.119271\n",
      "  model = cd_fast.enet_coordinate_descent_gram(\n",
      "/Users/petermurphy/opt/anaconda3/envs/dsi/lib/python3.9/site-packages/sklearn/linear_model/_coordinate_descent.py:633: ConvergenceWarning: Objective did not converge. You might want to increase the number of iterations. Duality gap: 461080653.49331665, tolerance: 212351996.119271\n",
      "  model = cd_fast.enet_coordinate_descent_gram(\n",
      "/Users/petermurphy/opt/anaconda3/envs/dsi/lib/python3.9/site-packages/sklearn/linear_model/_coordinate_descent.py:633: ConvergenceWarning: Objective did not converge. You might want to increase the number of iterations. Duality gap: 461078483.50035095, tolerance: 212351996.119271\n",
      "  model = cd_fast.enet_coordinate_descent_gram(\n",
      "/Users/petermurphy/opt/anaconda3/envs/dsi/lib/python3.9/site-packages/sklearn/linear_model/_coordinate_descent.py:633: ConvergenceWarning: Objective did not converge. You might want to increase the number of iterations. Duality gap: 461077782.8746643, tolerance: 212351996.119271\n",
      "  model = cd_fast.enet_coordinate_descent_gram(\n",
      "/Users/petermurphy/opt/anaconda3/envs/dsi/lib/python3.9/site-packages/sklearn/linear_model/_coordinate_descent.py:633: ConvergenceWarning: Objective did not converge. You might want to increase the number of iterations. Duality gap: 461079210.7692871, tolerance: 212351996.119271\n",
      "  model = cd_fast.enet_coordinate_descent_gram(\n",
      "/Users/petermurphy/opt/anaconda3/envs/dsi/lib/python3.9/site-packages/sklearn/linear_model/_coordinate_descent.py:633: ConvergenceWarning: Objective did not converge. You might want to increase the number of iterations. Duality gap: 461074210.8764038, tolerance: 212351996.119271\n",
      "  model = cd_fast.enet_coordinate_descent_gram(\n",
      "/Users/petermurphy/opt/anaconda3/envs/dsi/lib/python3.9/site-packages/sklearn/linear_model/_coordinate_descent.py:633: ConvergenceWarning: Objective did not converge. You might want to increase the number of iterations. Duality gap: 9883138379.253479, tolerance: 208360027.334372\n",
      "  model = cd_fast.enet_coordinate_descent_gram(\n",
      "/Users/petermurphy/opt/anaconda3/envs/dsi/lib/python3.9/site-packages/sklearn/linear_model/_coordinate_descent.py:633: ConvergenceWarning: Objective did not converge. You might want to increase the number of iterations. Duality gap: 9916492018.614365, tolerance: 208360027.334372\n",
      "  model = cd_fast.enet_coordinate_descent_gram(\n",
      "/Users/petermurphy/opt/anaconda3/envs/dsi/lib/python3.9/site-packages/sklearn/linear_model/_coordinate_descent.py:633: ConvergenceWarning: Objective did not converge. You might want to increase the number of iterations. Duality gap: 9907980901.382355, tolerance: 208360027.334372\n",
      "  model = cd_fast.enet_coordinate_descent_gram(\n",
      "/Users/petermurphy/opt/anaconda3/envs/dsi/lib/python3.9/site-packages/sklearn/linear_model/_coordinate_descent.py:633: ConvergenceWarning: Objective did not converge. You might want to increase the number of iterations. Duality gap: 9900490234.600174, tolerance: 208360027.334372\n",
      "  model = cd_fast.enet_coordinate_descent_gram(\n",
      "/Users/petermurphy/opt/anaconda3/envs/dsi/lib/python3.9/site-packages/sklearn/linear_model/_coordinate_descent.py:633: ConvergenceWarning: Objective did not converge. You might want to increase the number of iterations. Duality gap: 9893664243.935883, tolerance: 208360027.334372\n",
      "  model = cd_fast.enet_coordinate_descent_gram(\n",
      "/Users/petermurphy/opt/anaconda3/envs/dsi/lib/python3.9/site-packages/sklearn/linear_model/_coordinate_descent.py:633: ConvergenceWarning: Objective did not converge. You might want to increase the number of iterations. Duality gap: 9887450081.092499, tolerance: 208360027.334372\n",
      "  model = cd_fast.enet_coordinate_descent_gram(\n",
      "/Users/petermurphy/opt/anaconda3/envs/dsi/lib/python3.9/site-packages/sklearn/linear_model/_coordinate_descent.py:633: ConvergenceWarning: Objective did not converge. You might want to increase the number of iterations. Duality gap: 9881759508.826141, tolerance: 208360027.334372\n",
      "  model = cd_fast.enet_coordinate_descent_gram(\n",
      "/Users/petermurphy/opt/anaconda3/envs/dsi/lib/python3.9/site-packages/sklearn/linear_model/_coordinate_descent.py:633: ConvergenceWarning: Objective did not converge. You might want to increase the number of iterations. Duality gap: 9876542078.647308, tolerance: 208360027.334372\n",
      "  model = cd_fast.enet_coordinate_descent_gram(\n",
      "/Users/petermurphy/opt/anaconda3/envs/dsi/lib/python3.9/site-packages/sklearn/linear_model/_coordinate_descent.py:633: ConvergenceWarning: Objective did not converge. You might want to increase the number of iterations. Duality gap: 520054749.31163025, tolerance: 208360027.334372\n",
      "  model = cd_fast.enet_coordinate_descent_gram(\n",
      "/Users/petermurphy/opt/anaconda3/envs/dsi/lib/python3.9/site-packages/sklearn/linear_model/_coordinate_descent.py:633: ConvergenceWarning: Objective did not converge. You might want to increase the number of iterations. Duality gap: 518983986.0392761, tolerance: 208360027.334372\n",
      "  model = cd_fast.enet_coordinate_descent_gram(\n",
      "/Users/petermurphy/opt/anaconda3/envs/dsi/lib/python3.9/site-packages/sklearn/linear_model/_coordinate_descent.py:633: ConvergenceWarning: Objective did not converge. You might want to increase the number of iterations. Duality gap: 518171269.98117065, tolerance: 208360027.334372\n",
      "  model = cd_fast.enet_coordinate_descent_gram(\n",
      "/Users/petermurphy/opt/anaconda3/envs/dsi/lib/python3.9/site-packages/sklearn/linear_model/_coordinate_descent.py:633: ConvergenceWarning: Objective did not converge. You might want to increase the number of iterations. Duality gap: 7019322004.017822, tolerance: 204796976.46099845\n",
      "  model = cd_fast.enet_coordinate_descent_gram(\n",
      "/Users/petermurphy/opt/anaconda3/envs/dsi/lib/python3.9/site-packages/sklearn/linear_model/_coordinate_descent.py:633: ConvergenceWarning: Objective did not converge. You might want to increase the number of iterations. Duality gap: 4650482851.477219, tolerance: 204796976.46099845\n",
      "  model = cd_fast.enet_coordinate_descent_gram(\n",
      "/Users/petermurphy/opt/anaconda3/envs/dsi/lib/python3.9/site-packages/sklearn/linear_model/_coordinate_descent.py:633: ConvergenceWarning: Objective did not converge. You might want to increase the number of iterations. Duality gap: 4644566139.796524, tolerance: 204796976.46099845\n",
      "  model = cd_fast.enet_coordinate_descent_gram(\n",
      "/Users/petermurphy/opt/anaconda3/envs/dsi/lib/python3.9/site-packages/sklearn/linear_model/_coordinate_descent.py:633: ConvergenceWarning: Objective did not converge. You might want to increase the number of iterations. Duality gap: 4639551064.457352, tolerance: 204796976.46099845\n",
      "  model = cd_fast.enet_coordinate_descent_gram(\n",
      "/Users/petermurphy/opt/anaconda3/envs/dsi/lib/python3.9/site-packages/sklearn/linear_model/_coordinate_descent.py:633: ConvergenceWarning: Objective did not converge. You might want to increase the number of iterations. Duality gap: 4633792974.668762, tolerance: 204796976.46099845\n",
      "  model = cd_fast.enet_coordinate_descent_gram(\n",
      "/Users/petermurphy/opt/anaconda3/envs/dsi/lib/python3.9/site-packages/sklearn/linear_model/_coordinate_descent.py:633: ConvergenceWarning: Objective did not converge. You might want to increase the number of iterations. Duality gap: 4628698886.906616, tolerance: 204796976.46099845\n",
      "  model = cd_fast.enet_coordinate_descent_gram(\n",
      "/Users/petermurphy/opt/anaconda3/envs/dsi/lib/python3.9/site-packages/sklearn/linear_model/_coordinate_descent.py:633: ConvergenceWarning: Objective did not converge. You might want to increase the number of iterations. Duality gap: 4624030825.729416, tolerance: 204796976.46099845\n",
      "  model = cd_fast.enet_coordinate_descent_gram(\n",
      "/Users/petermurphy/opt/anaconda3/envs/dsi/lib/python3.9/site-packages/sklearn/linear_model/_coordinate_descent.py:633: ConvergenceWarning: Objective did not converge. You might want to increase the number of iterations. Duality gap: 4619764027.471161, tolerance: 204796976.46099845\n",
      "  model = cd_fast.enet_coordinate_descent_gram(\n",
      "/Users/petermurphy/opt/anaconda3/envs/dsi/lib/python3.9/site-packages/sklearn/linear_model/_coordinate_descent.py:633: ConvergenceWarning: Objective did not converge. You might want to increase the number of iterations. Duality gap: 4615863072.652679, tolerance: 204796976.46099845\n",
      "  model = cd_fast.enet_coordinate_descent_gram(\n",
      "/Users/petermurphy/opt/anaconda3/envs/dsi/lib/python3.9/site-packages/sklearn/linear_model/_coordinate_descent.py:633: ConvergenceWarning: Objective did not converge. You might want to increase the number of iterations. Duality gap: 447581992.0358887, tolerance: 204796976.46099845\n",
      "  model = cd_fast.enet_coordinate_descent_gram(\n",
      "/Users/petermurphy/opt/anaconda3/envs/dsi/lib/python3.9/site-packages/sklearn/linear_model/_coordinate_descent.py:633: ConvergenceWarning: Objective did not converge. You might want to increase the number of iterations. Duality gap: 446648359.4872589, tolerance: 204796976.46099845\n",
      "  model = cd_fast.enet_coordinate_descent_gram(\n",
      "/Users/petermurphy/opt/anaconda3/envs/dsi/lib/python3.9/site-packages/sklearn/linear_model/_coordinate_descent.py:633: ConvergenceWarning: Objective did not converge. You might want to increase the number of iterations. Duality gap: 445896552.33950806, tolerance: 204796976.46099845\n",
      "  model = cd_fast.enet_coordinate_descent_gram(\n",
      "/Users/petermurphy/opt/anaconda3/envs/dsi/lib/python3.9/site-packages/sklearn/linear_model/_coordinate_descent.py:633: ConvergenceWarning: Objective did not converge. You might want to increase the number of iterations. Duality gap: 445402320.54777527, tolerance: 204796976.46099845\n",
      "  model = cd_fast.enet_coordinate_descent_gram(\n",
      "/Users/petermurphy/opt/anaconda3/envs/dsi/lib/python3.9/site-packages/sklearn/linear_model/_coordinate_descent.py:633: ConvergenceWarning: Objective did not converge. You might want to increase the number of iterations. Duality gap: 444752253.85458374, tolerance: 204796976.46099845\n",
      "  model = cd_fast.enet_coordinate_descent_gram(\n",
      "/Users/petermurphy/opt/anaconda3/envs/dsi/lib/python3.9/site-packages/sklearn/linear_model/_coordinate_descent.py:633: ConvergenceWarning: Objective did not converge. You might want to increase the number of iterations. Duality gap: 444145215.9782562, tolerance: 204796976.46099845\n",
      "  model = cd_fast.enet_coordinate_descent_gram(\n",
      "/Users/petermurphy/opt/anaconda3/envs/dsi/lib/python3.9/site-packages/sklearn/linear_model/_coordinate_descent.py:633: ConvergenceWarning: Objective did not converge. You might want to increase the number of iterations. Duality gap: 443578767.17970276, tolerance: 204796976.46099845\n",
      "  model = cd_fast.enet_coordinate_descent_gram(\n",
      "/Users/petermurphy/opt/anaconda3/envs/dsi/lib/python3.9/site-packages/sklearn/linear_model/_coordinate_descent.py:633: ConvergenceWarning: Objective did not converge. You might want to increase the number of iterations. Duality gap: 443050252.3269501, tolerance: 204796976.46099845\n",
      "  model = cd_fast.enet_coordinate_descent_gram(\n",
      "/Users/petermurphy/opt/anaconda3/envs/dsi/lib/python3.9/site-packages/sklearn/linear_model/_coordinate_descent.py:633: ConvergenceWarning: Objective did not converge. You might want to increase the number of iterations. Duality gap: 442557138.71736145, tolerance: 204796976.46099845\n",
      "  model = cd_fast.enet_coordinate_descent_gram(\n",
      "/Users/petermurphy/opt/anaconda3/envs/dsi/lib/python3.9/site-packages/sklearn/linear_model/_coordinate_descent.py:633: ConvergenceWarning: Objective did not converge. You might want to increase the number of iterations. Duality gap: 442097083.66348267, tolerance: 204796976.46099845\n",
      "  model = cd_fast.enet_coordinate_descent_gram(\n",
      "/Users/petermurphy/opt/anaconda3/envs/dsi/lib/python3.9/site-packages/sklearn/linear_model/_coordinate_descent.py:633: ConvergenceWarning: Objective did not converge. You might want to increase the number of iterations. Duality gap: 441667858.0431824, tolerance: 204796976.46099845\n",
      "  model = cd_fast.enet_coordinate_descent_gram(\n",
      "/Users/petermurphy/opt/anaconda3/envs/dsi/lib/python3.9/site-packages/sklearn/linear_model/_coordinate_descent.py:633: ConvergenceWarning: Objective did not converge. You might want to increase the number of iterations. Duality gap: 441267438.012146, tolerance: 204796976.46099845\n",
      "  model = cd_fast.enet_coordinate_descent_gram(\n",
      "/Users/petermurphy/opt/anaconda3/envs/dsi/lib/python3.9/site-packages/sklearn/linear_model/_coordinate_descent.py:633: ConvergenceWarning: Objective did not converge. You might want to increase the number of iterations. Duality gap: 440893867.49020386, tolerance: 204796976.46099845\n",
      "  model = cd_fast.enet_coordinate_descent_gram(\n",
      "/Users/petermurphy/opt/anaconda3/envs/dsi/lib/python3.9/site-packages/sklearn/linear_model/_coordinate_descent.py:647: ConvergenceWarning: Objective did not converge. You might want to increase the number of iterations, check the scale of the features or consider increasing regularisation. Duality gap: 1.151e+10, tolerance: 2.606e+08\n",
      "  model = cd_fast.enet_coordinate_descent(\n"
     ]
    },
    {
     "data": {
      "text/plain": [
       "LassoCV(alphas=array([0.001     , 0.00107227, 0.00114976, 0.00123285, 0.00132194,\n",
       "       0.00141747, 0.00151991, 0.00162975, 0.00174753, 0.00187382,\n",
       "       0.00200923, 0.00215443, 0.00231013, 0.00247708, 0.00265609,\n",
       "       0.00284804, 0.00305386, 0.00327455, 0.00351119, 0.00376494,\n",
       "       0.00403702, 0.00432876, 0.00464159, 0.00497702, 0.0053367 ,\n",
       "       0.00572237, 0.00613591, 0.00657933, 0.0070548 , 0.00756463,\n",
       "       0.008...\n",
       "       0.09326033, 0.1       , 0.10722672, 0.1149757 , 0.12328467,\n",
       "       0.13219411, 0.14174742, 0.15199111, 0.16297508, 0.17475284,\n",
       "       0.18738174, 0.2009233 , 0.21544347, 0.23101297, 0.24770764,\n",
       "       0.26560878, 0.28480359, 0.30538555, 0.32745492, 0.35111917,\n",
       "       0.37649358, 0.40370173, 0.43287613, 0.46415888, 0.49770236,\n",
       "       0.53366992, 0.57223677, 0.61359073, 0.65793322, 0.70548023,\n",
       "       0.75646333, 0.81113083, 0.869749  , 0.93260335, 1.        ]))"
      ]
     },
     "execution_count": 254,
     "metadata": {},
     "output_type": "execute_result"
    }
   ],
   "source": [
    "#Lasso\n",
    "# This code was adapted from Lesson 4.03 on Regularization\n",
    "l_alphas = np.logspace(-3, 0, 100)\n",
    "\n",
    "lasso_cv = LassoCV(alphas = l_alphas)\n",
    "\n",
    "lasso_cv.fit(Z_train, y_train)"
   ]
  },
  {
   "cell_type": "code",
   "execution_count": 255,
   "id": "da3ca494-50d9-480e-9ad0-d28f812919a6",
   "metadata": {},
   "outputs": [
    {
     "name": "stdout",
     "output_type": "stream",
     "text": [
      "The optimal alpha for the Lasso model: 1.0\n",
      "Lasso training score: 0.9387901259621239\n",
      "Lasso test score: 0.8976204846659123\n"
     ]
    }
   ],
   "source": [
    "print(f'The optimal alpha for the Lasso model: {lasso_cv.alpha_}')\n",
    "\n",
    "print(f'Lasso training score: {lasso_cv.score(Z_train, y_train)}')\n",
    "print(f'Lasso test score: {lasso_cv.score(Z_test, y_test)}')"
   ]
  },
  {
   "cell_type": "markdown",
   "id": "6fb41d35-179c-4d64-9876-521fcb1ab66a",
   "metadata": {},
   "source": [
    "Lasso regression did not improve the test score. However, it provides important clues on feature selection."
   ]
  },
  {
   "cell_type": "code",
   "execution_count": 256,
   "id": "99ffcaf9-1578-49d3-83fe-a7e1cfa95c8f",
   "metadata": {},
   "outputs": [
    {
     "data": {
      "text/plain": [
       "16720.86887853307"
      ]
     },
     "execution_count": 256,
     "metadata": {},
     "output_type": "execute_result"
    }
   ],
   "source": [
    "preds = lasso_cv.predict(Z_test)\n",
    "mse = metrics.mean_squared_error(y_test, preds)\n",
    "rmse = np.sqrt(mse)\n",
    "rmse"
   ]
  },
  {
   "cell_type": "code",
   "execution_count": 257,
   "id": "ce22cf1e-6d31-4379-8ea8-202b0b4413ab",
   "metadata": {},
   "outputs": [
    {
     "data": {
      "text/plain": [
       "(878, 1)"
      ]
     },
     "execution_count": 257,
     "metadata": {},
     "output_type": "execute_result"
    }
   ],
   "source": [
    "# add sale price prediction column to test df for kaggle submission\n",
    "#ss = StandardScaler()\n",
    "sc = StandardScaler()\n",
    "Z_test2 = sc.fit_transform(test[features])\n",
    "\n",
    "preds = lasso_cv.predict(Z_test2) #ss.fit_transform(test[features]))\n",
    "test['SalePrice'] = preds\n",
    "\n",
    "lasso_df = test[['Id', 'SalePrice']]\n",
    "lasso_df.set_index('Id', inplace = True)\n",
    "\n",
    "lasso_df.to_csv('../data/lasso_df.csv')\n",
    "lasso_df.shape"
   ]
  },
  {
   "cell_type": "code",
   "execution_count": 258,
   "id": "baa64851-26b2-495c-9716-ff87646f49df",
   "metadata": {},
   "outputs": [],
   "source": [
    "lasso_list = list(zip(lasso_cv.coef_, features))"
   ]
  },
  {
   "cell_type": "code",
   "execution_count": 259,
   "id": "1e0961a4-bdc4-4e35-8185-7253a97365d4",
   "metadata": {},
   "outputs": [],
   "source": [
    "new_features = [lasso_list[n][1] for n in range(0, len(lasso_list)) if lasso_list[n][0] != 0]"
   ]
  },
  {
   "cell_type": "code",
   "execution_count": 260,
   "id": "a89de81a-2d75-4ebc-96ea-70297b8bc219",
   "metadata": {},
   "outputs": [
    {
     "data": {
      "text/plain": [
       "['Id',\n",
       " 'parcel_id',\n",
       " 'lot_area',\n",
       " 'house_quality',\n",
       " 'year_built',\n",
       " 'year_remodeled',\n",
       " 'exterior_quality',\n",
       " 'exterior_condition',\n",
       " 'unfinished_area',\n",
       " 'total_basement_area']"
      ]
     },
     "execution_count": 260,
     "metadata": {},
     "output_type": "execute_result"
    }
   ],
   "source": [
    "new_features[:10]"
   ]
  },
  {
   "cell_type": "markdown",
   "id": "706c1bed-3dd7-45e6-9638-d8206ddac054",
   "metadata": {},
   "source": [
    "----\n",
    "## **Model 9:** Using features selected by Lasso Regression"
   ]
  },
  {
   "cell_type": "code",
   "execution_count": 261,
   "id": "36d40b04-2172-4a25-a457-110192468981",
   "metadata": {},
   "outputs": [],
   "source": [
    "X = train[new_features]\n",
    "y = train['SalePrice']\n",
    "\n",
    "X_train, X_test, y_train, y_test = train_test_split(X, y, random_state = 42)"
   ]
  },
  {
   "cell_type": "code",
   "execution_count": 262,
   "id": "7d93d947-3db8-4eab-96b6-8787d97d6e4a",
   "metadata": {},
   "outputs": [],
   "source": [
    "# tried scaling but did not produce a better result\n",
    "# sc = StandardScaler()\n",
    "# Z_train = sc.fit_transform(X_train)\n",
    "# Z_test = sc.transform(X_test)"
   ]
  },
  {
   "cell_type": "code",
   "execution_count": 263,
   "id": "c5dcb4e7-abca-4496-9fdd-57e37c3e2aa0",
   "metadata": {},
   "outputs": [
    {
     "name": "stdout",
     "output_type": "stream",
     "text": [
      "Model 7 Training Score: 0.9387922101368605\n",
      "Model 7 Test Score: 0.8973763612830672\n"
     ]
    }
   ],
   "source": [
    "lr = LinearRegression()\n",
    "lr.fit(X_train, y_train)\n",
    "\n",
    "print(f'Model 7 Training Score: {lr.score(X_train, y_train)}')\n",
    "print(f'Model 7 Test Score: {lr.score(X_test, y_test)}')      "
   ]
  },
  {
   "cell_type": "code",
   "execution_count": 264,
   "id": "94987cbf-dea0-4275-97e7-5a9b6bfaffe9",
   "metadata": {},
   "outputs": [],
   "source": [
    "preds = lr.predict(X_test)\n",
    "mse = metrics.mean_squared_error(y_test, preds)"
   ]
  },
  {
   "cell_type": "code",
   "execution_count": 265,
   "id": "b32898b1-d765-4eec-9dfe-b318df066e3c",
   "metadata": {},
   "outputs": [
    {
     "data": {
      "text/plain": [
       "16740.79241796618"
      ]
     },
     "execution_count": 265,
     "metadata": {},
     "output_type": "execute_result"
    }
   ],
   "source": [
    "# RMSE\n",
    "np.sqrt(mse)"
   ]
  },
  {
   "cell_type": "markdown",
   "id": "7de020c3-dddd-4bed-892e-ae5dd3674a3d",
   "metadata": {},
   "source": [
    "Did not improve upon the ridge model score. "
   ]
  },
  {
   "cell_type": "markdown",
   "id": "e7f9f5a7-cab6-481d-8411-7b6409a02eb9",
   "metadata": {},
   "source": [
    "-----\n",
    "### Write the feature-engineered DFs to a csv file for use in next notebook"
   ]
  },
  {
   "cell_type": "code",
   "execution_count": 266,
   "id": "e8855a8b-beb7-4c95-9416-6e519e5ead9b",
   "metadata": {},
   "outputs": [
    {
     "name": "stdout",
     "output_type": "stream",
     "text": [
      "(1272, 242)\n",
      "(878, 242)\n"
     ]
    }
   ],
   "source": [
    "train.to_csv('../data/train_engineered.csv', index=False)\n",
    "test.to_csv('../data/test_engineered.csv', index=False)\n",
    "print(train.shape)\n",
    "print(test.shape)"
   ]
  }
 ],
 "metadata": {
  "kernelspec": {
   "display_name": "Python [conda env:dsi] *",
   "language": "python",
   "name": "conda-env-dsi-py"
  },
  "language_info": {
   "codemirror_mode": {
    "name": "ipython",
    "version": 3
   },
   "file_extension": ".py",
   "mimetype": "text/x-python",
   "name": "python",
   "nbconvert_exporter": "python",
   "pygments_lexer": "ipython3",
   "version": "3.9.12"
  }
 },
 "nbformat": 4,
 "nbformat_minor": 5
}
